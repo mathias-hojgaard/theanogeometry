{
 "cells": [
  {
   "cell_type": "code",
   "execution_count": null,
   "metadata": {
    "scrolled": false
   },
   "outputs": [],
   "source": [
    "# # This file is part of Theano Geometry\n",
    "#\n",
    "# Copyright (C) 2017, Stefan Sommer (sommer@di.ku.dk)\n",
    "# https://bitbucket.org/stefansommer/theanogemetry\n",
    "#\n",
    "# Theano Geometry is free software: you can redistribute it and/or modify\n",
    "# it under the terms of the GNU General Public License as published by\n",
    "# the Free Software Foundation, either version 3 of the License, or\n",
    "# (at your option) any later version.\n",
    "#\n",
    "# Theano Geometry is distributed in the hope that it will be useful,\n",
    "# but WITHOUT ANY WARRANTY; without even the implied warranty of\n",
    "# MERCHANTABILITY or FITNESS FOR A PARTICULAR PURPOSE.  See the\n",
    "# GNU General Public License for more details.\n",
    "#\n",
    "# You should have received a copy of the GNU General Public License\n",
    "# along with Theano Geometry. If not, see <http://www.gnu.org/licenses/>.\n",
    "#"
   ]
  },
  {
   "cell_type": "markdown",
   "metadata": {},
   "source": [
    "# LDDMM landmark dynamics\n",
    "Statistical shape analysis 2019, exercise session 1"
   ]
  },
  {
   "cell_type": "code",
   "execution_count": null,
   "metadata": {
    "scrolled": true
   },
   "outputs": [],
   "source": [
    "%cd .."
   ]
  },
  {
   "cell_type": "code",
   "execution_count": null,
   "metadata": {
    "scrolled": true
   },
   "outputs": [],
   "source": [
    "from src.manifolds.landmarks import *\n",
    "M = landmarks(2) # two landmarks, but this can be changed below\n",
    "print(M)\n",
    "\n",
    "from src.plotting import *"
   ]
  },
  {
   "cell_type": "code",
   "execution_count": null,
   "metadata": {
    "scrolled": true
   },
   "outputs": [],
   "source": [
    "# Riemannian structure\n",
    "from src.Riemannian import metric\n",
    "metric.initialize(M)"
   ]
  },
  {
   "cell_type": "code",
   "execution_count": null,
   "metadata": {
    "scrolled": true
   },
   "outputs": [],
   "source": [
    "# example configuration\n",
    "M.N.set_value(4) # number of landmarks\n",
    "M.k_sigma.set_value(tensor(np.diag((.5,.5))))\n",
    "\n",
    "q = tensor(np.vstack((np.linspace(-.5,.5,M.N.eval()),np.zeros(M.N.eval()))).T.flatten())\n",
    "q1 = tensor(np.vstack((np.linspace(-.5,.5,M.N.eval()),1+np.zeros(M.N.eval()))).T.flatten())\n",
    "v = tensor(np.vstack((np.zeros(M.N.eval()),np.ones(M.N.eval()))).T.flatten()) # velocity\n",
    "p = M.flatf(q,v) # momentum\n",
    "print(\"q = \", q)\n",
    "print(\"p = \", p)\n",
    "\n",
    "M.plot()\n",
    "M.plotx(q,v,curve=True)\n",
    "plt.show()"
   ]
  },
  {
   "cell_type": "code",
   "execution_count": null,
   "metadata": {
    "scrolled": true
   },
   "outputs": [],
   "source": [
    "# Hamiltonian dynamics\n",
    "print(M.Hf(q,p))\n",
    "from src.dynamics import Hamiltonian\n",
    "Hamiltonian.initialize(M)\n",
    "\n",
    "# geodesic\n",
    "qs = M.Exp_Hamiltoniantf(q,p).T\n",
    "M.plot()\n",
    "M.plotx(qs,v,curve=True)\n",
    "plt.show()\n",
    "(ts,qps) = M.Hamiltonian_dynamicsf(q,p)\n",
    "ps = qps[:,1,:]\n",
    "print(\"Energy: \",np.array([M.Hf(q,p) for (q,p) in zip(qs,ps)]))"
   ]
  },
  {
   "cell_type": "markdown",
   "metadata": {},
   "source": [
    "# Boundary value problem"
   ]
  },
  {
   "cell_type": "code",
   "execution_count": null,
   "metadata": {
    "scrolled": true
   },
   "outputs": [],
   "source": [
    "# Logarithm map\n",
    "from src.Riemannian import Log\n",
    "Log.initialize(M,f=M.Exp_Hamiltonian)\n",
    "\n",
    "q1 = tensor(np.vstack((np.linspace(-.5,.5,M.N.eval()),1+np.zeros(M.N.eval()))).T.flatten())\n",
    "p_Log = M.Logf(q,q1)[0]\n",
    "print(p_Log)\n",
    "print(p)\n",
    "\n",
    "qs = M.Exp_Hamiltoniantf(q,p_Log).T\n",
    "M.plot()\n",
    "M.plotx(qs,p_Log,curve=True)\n",
    "plt.show()"
   ]
  },
  {
   "cell_type": "markdown",
   "metadata": {},
   "source": [
    "# Lift to Diff(R^2)"
   ]
  },
  {
   "cell_type": "code",
   "execution_count": null,
   "metadata": {
    "scrolled": true
   },
   "outputs": [],
   "source": [
    "# plot grid deformation\n",
    "from src.dynamics import jets\n",
    "jets.initialize(M)\n",
    "\n",
    "# set kernel width\n",
    "M.k_sigma.set_value(tensor(np.diag((.5,.5)))) # try width e.g np.diag((.1,.1))\n",
    "p = M.flatf(q,v) # momentum\n",
    "(ts,qps) = M.Hamiltonian_dynamicsf(q,p)\n",
    "ps = qps[:,1,:]\n",
    "\n",
    "M.plot()\n",
    "M.plotx(qs,v,curve=True)\n",
    "(grid,Nx,Ny) = M.getGrid(-1.,1.,-1.,1.,xpts=50,ypts=50)\n",
    "mgrid = M.Ham_advectf(grid,qs,ps)[1][-1]\n",
    "M.plotGrid(mgrid,Nx,Ny,coloring=True)\n",
    "plt.show()"
   ]
  },
  {
   "cell_type": "code",
   "execution_count": null,
   "metadata": {
    "scrolled": true
   },
   "outputs": [],
   "source": []
  }
 ],
 "metadata": {
  "kernelspec": {
   "display_name": "Python 3",
   "language": "python",
   "name": "python3"
  },
  "language_info": {
   "codemirror_mode": {
    "name": "ipython",
    "version": 3
   },
   "file_extension": ".py",
   "mimetype": "text/x-python",
   "name": "python",
   "nbconvert_exporter": "python",
   "pygments_lexer": "ipython3",
   "version": "3.7.3"
  }
 },
 "nbformat": 4,
 "nbformat_minor": 1
}
