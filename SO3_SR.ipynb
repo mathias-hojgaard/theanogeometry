{
 "cells": [
  {
   "cell_type": "code",
   "execution_count": null,
   "metadata": {
    "ExecuteTime": {
     "end_time": "2021-02-16T12:54:48.453884Z",
     "start_time": "2021-02-16T12:54:48.451132Z"
    }
   },
   "outputs": [],
   "source": [
    "# # This file is part of Theano Geometry\n",
    "#\n",
    "# Copyright (C) 2017, Stefan Sommer (sommer@di.ku.dk)\n",
    "# https://bitbucket.org/stefansommer/theanogemetry\n",
    "#\n",
    "# Theano Geometry is free software: you can redistribute it and/or modify\n",
    "# it under the terms of the GNU General Public License as published by\n",
    "# the Free Software Foundation, either version 3 of the License, or\n",
    "# (at your option) any later version.\n",
    "#\n",
    "# Theano Geometry is distributed in the hope that it will be useful,\n",
    "# but WITHOUT ANY WARRANTY; without even the implied warranty of\n",
    "# MERCHANTABILITY or FITNESS FOR A PARTICULAR PURPOSE.  See the\n",
    "# GNU General Public License for more details.\n",
    "#\n",
    "# You should have received a copy of the GNU General Public License\n",
    "# along with Theano Geometry. If not, see <http://www.gnu.org/licenses/>.\n",
    "#"
   ]
  },
  {
   "cell_type": "markdown",
   "metadata": {},
   "source": [
    "# SO(3) group operations and dynamics"
   ]
  },
  {
   "cell_type": "code",
   "execution_count": null,
   "metadata": {
    "ExecuteTime": {
     "end_time": "2021-02-16T12:55:08.357837Z",
     "start_time": "2021-02-16T12:54:48.456112Z"
    }
   },
   "outputs": [],
   "source": [
    "from src.groups.SON import *\n",
    "G = SON(3)\n",
    "print(G)\n",
    "\n",
    "# visualization\n",
    "from src.plotting import *"
   ]
  },
  {
   "cell_type": "code",
   "execution_count": null,
   "metadata": {
    "ExecuteTime": {
     "end_time": "2021-02-16T12:55:08.364590Z",
     "start_time": "2021-02-16T12:55:08.360329Z"
    }
   },
   "outputs": [],
   "source": [
    "# setup for testing different versions of dynamics\n",
    "q = tensor(np.array([1e-6,0,0]))\n",
    "g = G.psif(q)\n",
    "v = tensor(np.array([0,1,1]))"
   ]
  },
  {
   "cell_type": "code",
   "execution_count": null,
   "metadata": {
    "ExecuteTime": {
     "end_time": "2021-02-16T13:22:16.250243Z",
     "start_time": "2021-02-16T13:22:16.224073Z"
    }
   },
   "outputs": [],
   "source": [
    "def initialize(G):\n",
    "    \"\"\" add left-/right-invariant metric related structures to group --- sub-Riemannian case \"\"\"\n",
    "    self = G\n",
    "\n",
    "    g = G.sym_element()\n",
    "    hatxi = G.sym_Vvector() # \\RR^G_dim vector\n",
    "    q = G.sym_Vvector() # element in psi coordinates    \n",
    "    vg = G.sym_vector() # \\RR^{NxN} tangent vector at g\n",
    "    wg = G.sym_vector() # \\RR^{NxN} tangent vector at g\n",
    "    pg = G.sym_covector() # \\RR^{NxN} cotangent vector at g\n",
    "    xiv = G.sym_LAvector()\n",
    "    xiw = G.sym_LAvector()\n",
    "    w = G.sym_coordsvector() # \\RR^G_dim tangent vector in coordinates\n",
    "    v = G.sym_coordsvector() # \\RR^G_dim tangent vector in coordinates\n",
    "    mu = G.sym_Vcovector() # \\RR^G_dim LA cotangent vector in coordinates\n",
    "    \n",
    "    G.W = theano.shared(np.eye(G.dim.eval(),G.dim.eval())) # considered a map LA^* -> LA\n",
    "    def cogV(cov=None,cow=None): # cometric in V\n",
    "        if not cov and not cow:\n",
    "            return G.W\n",
    "        elif cov and not cow:\n",
    "            return T.tensordot(G.W,cov,(1,0))\n",
    "        elif cov.type == T.vector().type and cow.type == T.vector().type:\n",
    "            return T.dot(cov,T.dot(G.W,cow))\n",
    "        elif cov.type == T.matrix().type and cow.type == T.matrix().type:\n",
    "            return T.tensordot(cov,T.tensordot(G.W,cow,(1,0)),(0,0))\n",
    "        else:\n",
    "            assert(False)\n",
    "    G.cogV = cogV\n",
    "    def cogLA(coxiv): # cometric in Lie algebra LA\n",
    "        cov = G.LAtoV(coxiv)\n",
    "        return G.VtoLA(G.cogV(cov))\n",
    "    G.cogLA = cogLA\n",
    "    def cogpsi(hatxi,p=None):\n",
    "        g = G.psi(hatxi)\n",
    "        dinvpsi = T.nlinalg.MatrixPinv()(G.dpsi(hatxi).reshape((G.N*G.N,G.dim))).reshape((G.dim,G.N,G.N))\n",
    "        if p:\n",
    "            coxiv = G.invcopb(g,T.tensordot(dinvpsi,p,(0,0)))\n",
    "            xiv = G.cogLA(coxiv)        \n",
    "            return T.tensordot(dinvpsi,G.invpf(g,xiv),((1,2),(0,1)))\n",
    "        else:\n",
    "            xiv = G.cogLA(G.invcopb(g,dinvpsi.dimshuffle((1,2,0))))        \n",
    "            return T.tensordot(dinvpsi,G.invpf(g,xiv),((1,2),(0,1)))\n",
    "\n",
    "    G.cogpsi = cogpsi\n",
    "    p = G.sym_coordscovector() # \\RR^G_dim cotangent vector in coordinates\n",
    "    G.cogpsi_evf = theano.function([hatxi,p],G.cogpsi(hatxi,p))\n",
    "    G.cogpsif = theano.function([hatxi],G.cogpsi(hatxi))\n",
    "\n",
    "    \"\"\" group Hamiltonian from invariant metric --- sub-Riemannian case \"\"\"\n",
    "    # Hamiltonian using psi map\n",
    "    def Hpsi(q,p):\n",
    "        return .5*T.dot(p.flatten(),G.cogpsi(q,p).flatten())\n",
    "    G.Hpsi = Hpsi\n",
    "    G.Hpsif = theano.function([q,p],G.Hpsi(q,p))\n",
    "\n",
    "    # default Hamiltonian\n",
    "    G.H = G.Hpsi\n",
    "    G.Hf = theano.function([q,p],G.H(q,p))"
   ]
  },
  {
   "cell_type": "code",
   "execution_count": null,
   "metadata": {
    "ExecuteTime": {
     "end_time": "2021-02-16T13:23:04.615780Z",
     "start_time": "2021-02-16T13:22:17.348750Z"
    }
   },
   "outputs": [],
   "source": [
    "from src.group import invariant_metric\n",
    "invariant_metric.initialize(G)\n",
    "initialize(G)\n",
    "p = G.sharppsif(q,v)\n",
    "mu = G.sharpVf(v)\n",
    "print(p)\n",
    "print(mu)\n",
    "\n",
    "# from src.group import energy\n",
    "# energy.initialize(G)"
   ]
  },
  {
   "cell_type": "code",
   "execution_count": null,
   "metadata": {
    "ExecuteTime": {
     "end_time": "2021-02-16T13:25:27.801556Z",
     "start_time": "2021-02-16T13:25:27.784968Z"
    }
   },
   "outputs": [],
   "source": [
    "print(q,p)\n",
    "print(G.Hf(q,p))\n",
    "print(G.cogpsi_evf(q,p))\n",
    "print(G.cogpsif(q))"
   ]
  },
  {
   "cell_type": "code",
   "execution_count": null,
   "metadata": {
    "ExecuteTime": {
     "end_time": "2021-02-16T12:57:38.910163Z",
     "start_time": "2021-02-16T12:56:03.936940Z"
    },
    "scrolled": false
   },
   "outputs": [],
   "source": [
    "# Hamiltonian dynamics\n",
    "from src.dynamics import Hamiltonian\n",
    "Hamiltonian.initialize(G,use_charts=False)\n",
    "\n",
    "# test Hamiltionian and gradients\n",
    "print(p)\n",
    "print(G.Hf(q,p))\n",
    "\n",
    "# geodesic\n",
    "qsv = G.Exp_Hamiltoniantf(q,p)\n",
    "gsv = np.array([G.psif(q) for q in qsv])\n",
    "newfig()\n",
    "G.plot_path(gsv)\n",
    "plt.show()\n",
    "(ts,qpsv) = G.Hamiltonian_dynamicsf(q,p)\n",
    "psv = qpsv[:,1,:]\n",
    "print(\"Energy: \",np.array([G.Hf(q,p) for (q,p) in zip(qsv,psv)]))"
   ]
  },
  {
   "cell_type": "code",
   "execution_count": null,
   "metadata": {},
   "outputs": [],
   "source": []
  }
 ],
 "metadata": {
  "kernelspec": {
   "display_name": "Python 3",
   "language": "python",
   "name": "python3"
  },
  "language_info": {
   "codemirror_mode": {
    "name": "ipython",
    "version": 3
   },
   "file_extension": ".py",
   "mimetype": "text/x-python",
   "name": "python",
   "nbconvert_exporter": "python",
   "pygments_lexer": "ipython3",
   "version": "3.6.3"
  }
 },
 "nbformat": 4,
 "nbformat_minor": 1
}
