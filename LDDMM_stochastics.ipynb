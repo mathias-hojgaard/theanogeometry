{
 "cells": [
  {
   "cell_type": "code",
   "execution_count": null,
   "metadata": {
    "scrolled": true
   },
   "outputs": [],
   "source": [
    "# # This file is part of Theano Geometry\n",
    "#\n",
    "# Copyright (C) 2017, Stefan Sommer (sommer@di.ku.dk)\n",
    "# https://bitbucket.org/stefansommer/theanogemetry\n",
    "#\n",
    "# Theano Geometry is free software: you can redistribute it and/or modify\n",
    "# it under the terms of the GNU General Public License as published by\n",
    "# the Free Software Foundation, either version 3 of the License, or\n",
    "# (at your option) any later version.\n",
    "#\n",
    "# Theano Geometry is distributed in the hope that it will be useful,\n",
    "# but WITHOUT ANY WARRANTY; without even the implied warranty of\n",
    "# MERCHANTABILITY or FITNESS FOR A PARTICULAR PURPOSE.  See the\n",
    "# GNU General Public License for more details.\n",
    "#\n",
    "# You should have received a copy of the GNU General Public License\n",
    "# along with Theano Geometry. If not, see <http://www.gnu.org/licenses/>.\n",
    "#"
   ]
  },
  {
   "cell_type": "markdown",
   "metadata": {},
   "source": [
    "# LDDMM landmark stochastic dynamics"
   ]
  },
  {
   "cell_type": "code",
   "execution_count": null,
   "metadata": {
    "scrolled": false
   },
   "outputs": [],
   "source": [
    "from src.manifolds.landmarks import *\n",
    "M = landmarks(6)\n",
    "print(M)\n",
    "\n",
    "from src.plotting import *"
   ]
  },
  {
   "cell_type": "code",
   "execution_count": null,
   "metadata": {},
   "outputs": [],
   "source": [
    "# Riemannian structure\n",
    "from src.Riemannian import metric\n",
    "metric.initialize(M)"
   ]
  },
  {
   "cell_type": "code",
   "execution_count": null,
   "metadata": {
    "scrolled": true
   },
   "outputs": [],
   "source": [
    "# example configuration\n",
    "M.k_sigma.set_value(tensor(np.diag((.5,.5))))\n",
    "\n",
    "q = M.coordsf(np.vstack((np.linspace(-.5,.5,M.N.eval()),np.zeros(M.N.eval()))).T.flatten())\n",
    "v = tensor(np.vstack((np.zeros(M.N.eval()),np.ones(M.N.eval()))).T.flatten())\n",
    "p = M.flatf(q,v)\n",
    "print(\"q = \", q)\n",
    "print(\"p = \", p)"
   ]
  },
  {
   "cell_type": "markdown",
   "metadata": {},
   "source": [
    "## Brownian Motion"
   ]
  },
  {
   "cell_type": "code",
   "execution_count": null,
   "metadata": {},
   "outputs": [],
   "source": [
    "# coordinate form\n",
    "from src.stochastics import Brownian_coords\n",
    "Brownian_coords.initialize(M)\n",
    "\n",
    "n_steps.set_value(1000)\n",
    "(ts,xs,charts) = M.Brownian_coordsf(q,dWsf(M.dim.eval()))\n",
    "\n",
    "# plot\n",
    "M.plot()\n",
    "M.plot_path(zip(xs,charts))\n",
    "plt.show()\n",
    "\n",
    "# plot multiple sample paths\n",
    "N = 5\n",
    "xss = tensor(np.zeros((N,n_steps.eval(),M.dim.eval())))\n",
    "chartss = tensor(np.zeros((N,n_steps.eval(),q[1].shape[0])))\n",
    "for i in range(N):\n",
    "    (ts,xs,charts) = M.Brownian_coordsf(q,dWsf(M.dim.eval()))\n",
    "    xss[i] = xs\n",
    "    chartss[i] = charts\n",
    "\n",
    "# plot\n",
    "M.newfig()\n",
    "M.plot()\n",
    "colormap = plt.get_cmap('winter')\n",
    "colors=[colormap(k) for k in np.linspace(0, 1, N)]\n",
    "for i in range(N):\n",
    "    M.plot_path(zip(xss[i],chartss[i]),color=colors[i])\n",
    "M.plotx(q,color='r')\n",
    "plt.show()"
   ]
  },
  {
   "cell_type": "markdown",
   "metadata": {},
   "source": [
    "# Langevin equations\n",
    "see https://arxiv.org/abs/1605.09276"
   ]
  },
  {
   "cell_type": "code",
   "execution_count": null,
   "metadata": {},
   "outputs": [],
   "source": [
    "from src.stochastics import Langevin\n",
    "Langevin.initialize(M)\n",
    "\n",
    "dWs = dWsf(M.dim.eval())\n",
    "\n",
    "(ts,qps,charts) = M.Langevinf(q,p,.5,.25,dWs)\n",
    "M.plot()\n",
    "M.plot_path(zip(qps[:,0,:],charts))\n",
    "plt.axis('off')\n",
    "plt.savefig('Langevin.pdf')\n",
    "plt.show()"
   ]
  },
  {
   "cell_type": "markdown",
   "metadata": {},
   "source": [
    "## Stochastic EPDiff / Eulerian"
   ]
  },
  {
   "cell_type": "code",
   "execution_count": null,
   "metadata": {},
   "outputs": [],
   "source": [
    "# define noise field grid\n",
    "minx = -1; maxx = 1\n",
    "miny = -1; maxy = 1\n",
    "pts = 3\n",
    "\n",
    "X, Y = np.meshgrid(np.linspace(minx,maxx,pts),np.linspace(miny,maxy,pts))\n",
    "xy = np.vstack([X.ravel(), Y.ravel()]).T\n",
    "sigmas_x = np.hstack((xy,xy)).reshape((-1,2))\n",
    "sigmas_a = .05*np.tile(np.eye(2),(sigmas_x.shape[0]//2,1))\n",
    "#sigmas_x = np.array([[0.,0.]])\n",
    "#sigmas_a = np.array([[.1,0.]])\n",
    "J = sigmas_x.shape[0]\n",
    "\n",
    "# noise kernels\n",
    "k_alpha = 1.\n",
    "k_sigma = np.diag(((maxx-minx)/(pts-1),(maxy-miny)/(pts-1)))\n",
    "inv_k_sigma = theano.tensor.nlinalg.MatrixInverse()(k_sigma)\n",
    "k = lambda x: k_alpha*T.exp(-.5*T.sqr(T.tensordot(x,inv_k_sigma,(0 if x.type == T.vector().type else 2,1))).sum(0 if x.type == T.vector().type else 2))\n",
    "\n",
    "# initialize with specified noise kernel\n",
    "from src.stochastics import Eulerian\n",
    "Eulerian.initialize(M,k=k)\n",
    "\n",
    "# integrate\n",
    "(ts,qps,charts) = M.Eulerianf(q,p,sigmas_x.flatten(),sigmas_a.flatten(),dWsf(J))\n",
    "M.plot()\n",
    "M.plot_path(zip(qps[:,0,:],charts))\n",
    "plt.axis('off')\n",
    "plt.plot(sigmas_x[:,0],sigmas_x[:,1],'x')\n",
    "plt.savefig('Eulerian.pdf')\n",
    "plt.show()"
   ]
  },
  {
   "cell_type": "markdown",
   "metadata": {},
   "source": [
    "## Bridge Sampling"
   ]
  },
  {
   "cell_type": "code",
   "execution_count": null,
   "metadata": {},
   "outputs": [],
   "source": [
    "# Delyon/Hu guided process\n",
    "from src.stochastics.guided_process import *\n",
    "\n",
    "# guide function\n",
    "Cholesky = T.slinalg.Cholesky()\n",
    "phi = lambda q,v: T.tensordot(T.nlinalg.MatrixInverse()(Cholesky(M.gsharp(q))),-(q[0]-v).flatten(),(1,0))\n",
    "\n",
    "# target shape\n",
    "v = M.coordsf(np.vstack((np.linspace(-.5,.5,M.N.eval()),np.ones(M.N.eval()))).T.flatten())\n",
    "\n",
    "(Brownian_coords_guided,Brownian_coords_guidedf) = get_guided_likelihood(\n",
    "    M,M.sde_Brownian_coords,phi,lambda q: Cholesky(M.gsharp(q)),use_charts=True)\n",
    "\n",
    "# note that the noise is scaled by .2 (i.e. .2*dWs)\n",
    "(ts,qs,charts,log_likelihood,log_varphi) = Brownian_coords_guidedf(q,v[0],.2*dWsf(M.dim.eval()))[:5]\n",
    "print(\"log likelihood: \", log_likelihood[-1], \", log varphi: \", log_varphi[-1])\n",
    "\n",
    "# Visualize bridge\n",
    "M.plot()\n",
    "M.plot_path((q,)+tuple(zip(qs,charts)),curve=True) # no translation added\n",
    "M.plotx(v,color='k',curve=True)\n",
    "plt.axis('off')\n",
    "# plt.savefig('bridge.pdf')"
   ]
  },
  {
   "cell_type": "markdown",
   "metadata": {},
   "source": [
    "## Stochastic Development"
   ]
  },
  {
   "cell_type": "code",
   "execution_count": null,
   "metadata": {},
   "outputs": [],
   "source": [
    "# # development dynamics\n",
    "# from src.framebundle import FM\n",
    "# from src.stochastics import stochastic_development\n",
    "# FM.initialize(M)\n",
    "# stochastic_development.initialize(M)\n",
    "\n",
    "# n_steps.set_value(100)"
   ]
  },
  {
   "cell_type": "code",
   "execution_count": null,
   "metadata": {},
   "outputs": [],
   "source": [
    "# # landmarks\n",
    "# x = q\n",
    "# # frame\n",
    "# nu = np.linalg.cholesky(M.gsharpf(x))\n",
    "# # frame bundle element\n",
    "# u = np.concatenate((x,nu.flatten()))"
   ]
  },
  {
   "cell_type": "code",
   "execution_count": null,
   "metadata": {},
   "outputs": [],
   "source": [
    "# # stochastic development\n",
    "# w = dWsf(M.dim.eval()) # noise / anti-development\n",
    "# start = time.time()\n",
    "# (ts,us) = M.stochastic_developmentf(u,w)\n",
    "# print(time.time() - start)\n",
    "\n",
    "# # plot with frame\n",
    "# M.plot()\n",
    "# M.plotFMx(us,N_vec=5)\n",
    "# plt.show()\n",
    "\n",
    "# # plot only trajectory\n",
    "# plt.figure()\n",
    "# M.plot()\n",
    "# M.plotx(us[:,0:M.dim.eval()])\n",
    "# plt.show()\n",
    "\n",
    "# # plot noise / anti-development\n",
    "# plt.figure()\n",
    "# plt.plot(w[:,0],w[:,1])\n",
    "# plt.axis('equal')\n",
    "# plt.show()"
   ]
  },
  {
   "cell_type": "code",
   "execution_count": null,
   "metadata": {},
   "outputs": [],
   "source": []
  }
 ],
 "metadata": {
  "kernelspec": {
   "display_name": "Python 3",
   "language": "python",
   "name": "python3"
  },
  "language_info": {
   "codemirror_mode": {
    "name": "ipython",
    "version": 3
   },
   "file_extension": ".py",
   "mimetype": "text/x-python",
   "name": "python",
   "nbconvert_exporter": "python",
   "pygments_lexer": "ipython3",
   "version": "3.8.2"
  }
 },
 "nbformat": 4,
 "nbformat_minor": 1
}
