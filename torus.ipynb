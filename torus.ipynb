{
 "cells": [
  {
   "cell_type": "code",
   "execution_count": null,
   "metadata": {
    "ExecuteTime": {
     "end_time": "2020-06-08T12:02:08.274885Z",
     "start_time": "2020-06-08T12:02:08.270597Z"
    }
   },
   "outputs": [],
   "source": [
    "# # This file is part of Theano Geometry\n",
    "#\n",
    "# Copyright (C) 2017, Stefan Sommer (sommer@di.ku.dk)\n",
    "# https://bitbucket.org/stefansommer/theanogemetry\n",
    "#\n",
    "# Theano Geometry is free software: you can redistribute it and/or modify\n",
    "# it under the terms of the GNU General Public License as published by\n",
    "# the Free Software Foundation, either version 3 of the License, or\n",
    "# (at your option) any later version.\n",
    "#\n",
    "# Theano Geometry is distributed in the hope that it will be useful,\n",
    "# but WITHOUT ANY WARRANTY; without even the implied warranty of\n",
    "# MERCHANTABILITY or FITNESS FOR A PARTICULAR PURPOSE.  See the\n",
    "# GNU General Public License for more details.\n",
    "#\n",
    "# You should have received a copy of the GNU General Public License\n",
    "# along with Theano Geometry. If not, see <http://www.gnu.org/licenses/>.\n",
    "#"
   ]
  },
  {
   "cell_type": "markdown",
   "metadata": {},
   "source": [
    "# Torus Geometry"
   ]
  },
  {
   "cell_type": "code",
   "execution_count": null,
   "metadata": {
    "ExecuteTime": {
     "end_time": "2020-06-08T12:02:20.053949Z",
     "start_time": "2020-06-08T12:02:08.278055Z"
    },
    "scrolled": false
   },
   "outputs": [],
   "source": [
    "from src.manifolds.torus import *\n",
    "M = Torus(params=(.5,1.,tensor([0,0,1])))\n",
    "print(M)\n",
    "M.plot(alpha=.15)\n",
    "M.plotx(M.coordsf([0.,0.]),s=100)\n",
    "from src.plotting import *\n",
    "#%matplotlib notebook"
   ]
  },
  {
   "cell_type": "code",
   "execution_count": null,
   "metadata": {
    "ExecuteTime": {
     "end_time": "2020-06-08T12:09:02.291437Z",
     "start_time": "2020-06-08T12:09:02.279054Z"
    }
   },
   "outputs": [],
   "source": [
    "# Riemannian structure\n",
    "from src.Riemannian import metric\n",
    "metric.initialize(M)\n",
    "\n",
    "# element, tangent vector and covector\n",
    "x = M.coordsf([np.pi/4.,0.])\n",
    "v = tensor([4*np.pi/4,0.])\n",
    "p = M.flatf(x,v)\n",
    "\n",
    "print(\"x = \", x)\n",
    "print(\"v = \", v)\n",
    "print(\"p = \", p)"
   ]
  },
  {
   "cell_type": "markdown",
   "metadata": {},
   "source": [
    "## Riemannian Geodesics"
   ]
  },
  {
   "cell_type": "code",
   "execution_count": null,
   "metadata": {
    "ExecuteTime": {
     "end_time": "2020-06-08T12:09:10.794910Z",
     "start_time": "2020-06-08T12:09:10.202651Z"
    },
    "scrolled": false
   },
   "outputs": [],
   "source": [
    "# 2nd order geodesic equation\n",
    "from src.Riemannian import geodesic\n",
    "geodesic.initialize(M,do_chart_update=M.do_chart_update)\n",
    "\n",
    "# compute geodesics\n",
    "(xs,charts) = M.Exptf(x,v)\n",
    "\n",
    "# plot\n",
    "newfig()\n",
    "M.plot()\n",
    "M.plot_path(zip(xs,charts),u=v,linewidth = 1.5, s=50)\n",
    "plt.show()"
   ]
  },
  {
   "cell_type": "markdown",
   "metadata": {},
   "source": [
    "### Geodesics from Hamiltonian equations"
   ]
  },
  {
   "cell_type": "code",
   "execution_count": null,
   "metadata": {
    "ExecuteTime": {
     "end_time": "2020-06-08T12:11:18.889083Z",
     "start_time": "2020-06-08T12:10:24.519302Z"
    },
    "scrolled": false
   },
   "outputs": [],
   "source": [
    "# Hamiltonian dynamics\n",
    "q = x\n",
    "print(M.Hf(q,p))\n",
    "\n",
    "from src.dynamics import Hamiltonian\n",
    "Hamiltonian.initialize(M,do_chart_update=M.do_chart_update)\n",
    "\n",
    "# Exponential map from Hamiltonian equations\n",
    "(qsT,charts) = M.Exp_Hamiltoniantf(q,p)\n",
    "qs = qsT.T\n",
    "\n",
    "# plot\n",
    "newfig()\n",
    "M.plot()\n",
    "M.plot_path(zip(qs,charts),u=v,linewidth = 1.5, s=50)\n",
    "plt.show()\n",
    "\n",
    "# dynamics returning both position and momentum\n",
    "(ts,qps,_) = M.Hamiltonian_dynamicsf(q,p)\n",
    "ps = qps[:,1,:]\n",
    "print(\"Energy: \",np.array([M.Hf((q,chart),p) for (q,p,chart) in zip(qs,ps,charts)]))"
   ]
  },
  {
   "cell_type": "markdown",
   "metadata": {},
   "source": [
    "## Curvature"
   ]
  },
  {
   "cell_type": "code",
   "execution_count": null,
   "metadata": {
    "ExecuteTime": {
     "end_time": "2020-06-03T11:53:05.169902Z",
     "start_time": "2020-06-03T11:53:00.026Z"
    }
   },
   "outputs": [],
   "source": [
    "# from src.Riemannian import curvature\n",
    "# curvature.initialize(M)\n",
    "# # Curvature tensor, Ricci and scalar curvature:\n",
    "# print(\"curvature = \", M.Rf(x))\n",
    "# print(\"Ricci curvature = \", M.Ricci_curvf(x))\n",
    "# print(\"Scalar curvature = \", M.S_curvf(x))\n",
    "\n",
    "# # Orthonormal basis under g:\n",
    "# nu = M.gramSchmidt(x,tensor(np.eye(2))) # or nu = np.linalg.cholesky(M.gsharpf(x))\n",
    "\n",
    "# # Sectional Curvature\n",
    "# print(\"sectional curvature = \",M.sec_curvf(x,nu[:,0],nu[:,1]))"
   ]
  },
  {
   "cell_type": "markdown",
   "metadata": {},
   "source": [
    "## Parallel Transport"
   ]
  },
  {
   "cell_type": "code",
   "execution_count": null,
   "metadata": {
    "ExecuteTime": {
     "end_time": "2020-06-08T12:12:43.212323Z",
     "start_time": "2020-06-08T12:12:10.420722Z"
    }
   },
   "outputs": [],
   "source": [
    "# Parallel transport\n",
    "from src.Riemannian import parallel_transport\n",
    "parallel_transport.initialize(M)\n",
    "\n",
    "# along geodesic\n",
    "# compute geodesic\n",
    "(ts,xsdxs,charts) = M.geodesicf(x,2*np.pi*v)\n",
    "xs = xsdxs[:,0,:]\n",
    "dxs = xsdxs[:,1,:]\n",
    "# compute  parallel transport\n",
    "w = tensor([1.,1.])\n",
    "ws = M.parallel_transportf(w,xs,charts,dxs)\n",
    "\n",
    "# plot\n",
    "newfig()\n",
    "M.plot()\n",
    "M.plot()\n",
    "M.plot_path(zip(xs,charts),v=ws,linewidth = 1.5, s=50)\n",
    "plt.show()"
   ]
  },
  {
   "cell_type": "markdown",
   "metadata": {},
   "source": [
    "## Brownian Motion"
   ]
  },
  {
   "cell_type": "code",
   "execution_count": null,
   "metadata": {
    "ExecuteTime": {
     "end_time": "2020-06-08T12:15:44.725208Z",
     "start_time": "2020-06-08T12:14:53.189716Z"
    },
    "scrolled": false
   },
   "outputs": [],
   "source": [
    "# coordinate form\n",
    "from src.stochastics import Brownian_coords\n",
    "Brownian_coords.initialize(M,do_chart_update=M.do_chart_update)\n",
    "\n",
    "n_steps.set_value(1000)\n",
    "(ts,xs,charts) = M.Brownian_coordsf(x,dWsf(M.dim.eval()))\n",
    "\n",
    "# plot\n",
    "newfig()\n",
    "M.plot()\n",
    "M.plot_path(zip(xs,charts))\n",
    "plt.show()\n",
    "\n",
    "# plot multiple sample paths\n",
    "N = 5\n",
    "xss = tensor(np.zeros((N,n_steps.eval(),M.dim.eval())))\n",
    "chartss = tensor(np.zeros((N,n_steps.eval(),x[1].shape[0])))\n",
    "for i in range(N):\n",
    "    (ts,xs,charts) = M.Brownian_coordsf(x,dWsf(M.dim.eval()))\n",
    "    xss[i] = xs\n",
    "    chartss[i] = charts\n",
    "\n",
    "# plot\n",
    "M.newfig()\n",
    "M.plot()\n",
    "colormap = plt.get_cmap('winter')\n",
    "colors=[colormap(k) for k in np.linspace(0, 1, N)]\n",
    "for i in range(N):\n",
    "    M.plot_path(zip(xss[i],chartss[i]),color=colors[i])\n",
    "M.plotx(x,color='r',s=50)\n",
    "plt.savefig('cylinder_sample_paths.pdf')\n",
    "plt.show()"
   ]
  },
  {
   "cell_type": "code",
   "execution_count": null,
   "metadata": {
    "ExecuteTime": {
     "end_time": "2020-06-08T12:15:44.730106Z",
     "start_time": "2020-06-08T12:15:44.727649Z"
    },
    "scrolled": false
   },
   "outputs": [],
   "source": [
    "# # Brownian Motion from stochastic development\n",
    "# # from src.framebundle import FM\n",
    "# # from src.stochastics import stochastic_development\n",
    "# # from src.stochastics import Brownian_development\n",
    "\n",
    "# # FM.initialize(M)\n",
    "# # stochastic_development.initialize(M)\n",
    "# # Brownian_development.initialize(M)\n",
    "\n",
    "# # simulate Brownian Motion\n",
    "# (ts,xsv) = M.Brownian_developmentf(x,dWsf(M.dim.eval()))\n",
    "\n",
    "# # plot\n",
    "# newfig()\n",
    "# M.plot()\n",
    "# M.plotx(xsv)\n",
    "# plt.show()"
   ]
  },
  {
   "cell_type": "code",
   "execution_count": null,
   "metadata": {
    "ExecuteTime": {
     "end_time": "2020-06-08T12:20:41.954459Z",
     "start_time": "2020-06-08T12:18:12.605322Z"
    },
    "scrolled": false
   },
   "outputs": [],
   "source": [
    "# Delyon/Hu guided process\n",
    "from src.stochastics.guided_process import *\n",
    "\n",
    "x = M.coordsf([.6,0]); x = M.update_coordsf(x,M.centered_chartf(M.Ff(x)))\n",
    "print(x)\n",
    "\n",
    "# guide function\n",
    "Cholesky = T.slinalg.Cholesky()\n",
    "phi = lambda q,v: T.tensordot(Cholesky(M.gsharp(q)).T,M.StdLog(q,v).flatten(),(1,0))\n",
    "phif = M.coords_function(phi,M.sym_element())\n",
    "\n",
    "w = M.Ff(M.Expf(x,tensor(np.array([np.pi,0.]))))\n",
    "\n",
    "# plot guiding field\n",
    "M.newfig()\n",
    "M.plot(alpha=.3)\n",
    "M.plot_field(lambda x: .15*M.StdLogf(x,w))\n",
    "# M.plot_field(lambda x: .15*phif(x,w))\n",
    "plt.show()\n",
    "\n",
    "(Brownian_coords_guided,Brownian_coords_guidedf) = get_guided_likelihood(\n",
    "    M,M.sde_Brownian_coords,phi,lambda x: Cholesky(M.gsharp(x)),\n",
    "    use_charts=True,chart_update=M.chart_update_Brownian_coords)    \n",
    "\n",
    "n_steps.set_value(1000)\n",
    "\n",
    "(ts,xs,charts,log_likelihood,log_varphi) = Brownian_coords_guidedf(x,w,dWsf(M.dim.eval()))[:5]\n",
    "print(\"log likelihood: \", log_likelihood[-1], \", log varphi: \", log_varphi[-1])\n",
    "\n",
    "# plot\n",
    "newfig()\n",
    "M.plot()\n",
    "M.plotx(x,color='r',s=150)\n",
    "M.plot_path(zip(xs,charts))\n",
    "M.plotx(w,color='k',s=150)\n",
    "plt.show()\n",
    "\n",
    "# plot multiple bridges\n",
    "N = 5\n",
    "xss = tensor(np.zeros((N,n_steps.eval(),M.dim.eval())))\n",
    "chartss = tensor(np.zeros((N,n_steps.eval(),x[1].shape[0])))\n",
    "for i in range(N):\n",
    "    (ts,xs,charts,log_likelihood,log_varphi) = Brownian_coords_guidedf(x,w,dWsf(M.dim.eval()))[:5]\n",
    "    xss[i] = xs\n",
    "    chartss[i] = charts\n",
    "\n",
    "# plot\n",
    "M.newfig()\n",
    "M.plot()\n",
    "M.plotx(x,color='r',s=100)\n",
    "colormap = plt.get_cmap('winter')\n",
    "colors=[colormap(k) for k in np.linspace(0, 1, N)]\n",
    "for i in range(N):\n",
    "    M.plot_path(zip(xss[i],chartss[i]),color=colors[i])\n",
    "M.plotx(w,color='k',s=100)\n",
    "plt.savefig('cylinder_bridges.pdf')\n",
    "plt.show()"
   ]
  },
  {
   "cell_type": "code",
   "execution_count": null,
   "metadata": {},
   "outputs": [],
   "source": []
  }
 ],
 "metadata": {
  "kernelspec": {
   "display_name": "Python 3",
   "language": "python",
   "name": "python3"
  },
  "language_info": {
   "codemirror_mode": {
    "name": "ipython",
    "version": 3
   },
   "file_extension": ".py",
   "mimetype": "text/x-python",
   "name": "python",
   "nbconvert_exporter": "python",
   "pygments_lexer": "ipython3",
   "version": "3.6.3"
  }
 },
 "nbformat": 4,
 "nbformat_minor": 1
}
