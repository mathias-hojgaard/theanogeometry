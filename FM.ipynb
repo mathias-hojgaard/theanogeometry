{
 "cells": [
  {
   "cell_type": "code",
   "execution_count": null,
   "metadata": {
    "ExecuteTime": {
     "end_time": "2021-04-07T06:57:45.333383Z",
     "start_time": "2021-04-07T06:57:45.330639Z"
    }
   },
   "outputs": [],
   "source": [
    "# # This file is part of Theano Geometry\n",
    "#\n",
    "# Copyright (C) 2017, Stefan Sommer (sommer@di.ku.dk)\n",
    "# https://bitbucket.org/stefansommer/theanogemetry\n",
    "#\n",
    "# Theano Geometry is free software: you can redistribute it and/or modify\n",
    "# it under the terms of the GNU General Public License as published by\n",
    "# the Free Software Foundation, either version 3 of the License, or\n",
    "# (at your option) any later version.\n",
    "#\n",
    "# Theano Geometry is distributed in the hope that it will be useful,\n",
    "# but WITHOUT ANY WARRANTY; without even the implied warranty of\n",
    "# MERCHANTABILITY or FITNESS FOR A PARTICULAR PURPOSE.  See the\n",
    "# GNU General Public License for more details.\n",
    "#\n",
    "# You should have received a copy of the GNU General Public License\n",
    "# along with Theano Geometry. If not, see <http://www.gnu.org/licenses/>.\n",
    "#"
   ]
  },
  {
   "cell_type": "markdown",
   "metadata": {},
   "source": [
    "# Frame Bundle Geometry on Embedded Ellipsoids"
   ]
  },
  {
   "cell_type": "code",
   "execution_count": null,
   "metadata": {
    "ExecuteTime": {
     "end_time": "2021-04-07T06:57:56.880854Z",
     "start_time": "2021-04-07T06:57:45.335355Z"
    }
   },
   "outputs": [],
   "source": [
    "from src.manifolds.ellipsoid import *\n",
    "M = Ellipsoid(params=np.array([1,1,1]))\n",
    "#M.params.set_value(np.array([1,0.5,0.5]))\n",
    "print(M)\n",
    "from src.plotting import *"
   ]
  },
  {
   "cell_type": "code",
   "execution_count": null,
   "metadata": {
    "ExecuteTime": {
     "end_time": "2021-04-07T07:00:34.209471Z",
     "start_time": "2021-04-07T06:57:56.883186Z"
    }
   },
   "outputs": [],
   "source": [
    "# Riemannian structure\n",
    "from src.Riemannian import metric\n",
    "metric.initialize(M,truncate_high_order_derivatives=True)\n",
    "\n",
    "# geodesics\n",
    "from src.Riemannian import geodesic\n",
    "geodesic.initialize(M)"
   ]
  },
  {
   "cell_type": "code",
   "execution_count": null,
   "metadata": {
    "ExecuteTime": {
     "end_time": "2021-04-07T07:01:48.232631Z",
     "start_time": "2021-04-07T07:00:34.212084Z"
    },
    "scrolled": false
   },
   "outputs": [],
   "source": [
    "# frame bundle\n",
    "from src.framebundle import FM\n",
    "FM.initialize(M)"
   ]
  },
  {
   "cell_type": "code",
   "execution_count": null,
   "metadata": {
    "ExecuteTime": {
     "end_time": "2021-04-07T07:01:48.409314Z",
     "start_time": "2021-04-07T07:01:48.234824Z"
    }
   },
   "outputs": [],
   "source": [
    "# test that adapated bases D and D^* are dual\n",
    "x1 = M.coordsf([1.2,0.])\n",
    "nu1 = np.dot(np.diag((.5,1.)),np.linalg.cholesky(M.gsharpf(x1)))\n",
    "u1 = (np.concatenate((x1[0],nu1.flatten())),x1[1])\n",
    "\n",
    "A = np.zeros((6,6))\n",
    "for i in range(6):\n",
    "    Dp1 = np.zeros(6)\n",
    "    Dp1[i] = 1.\n",
    "    p1 = M.from_Dstarf(u1,Dp1)\n",
    "    \n",
    "    for j in range(6):\n",
    "        Dv1 = np.zeros(6)\n",
    "        Dv1[j] = 1.\n",
    "        v1 = M.from_Df(u1,Dv1)\n",
    "\n",
    "        A[i,j] = np.dot(v1,p1)\n",
    "print(A)\n",
    "\n",
    "A = np.zeros((6,6))\n",
    "for i in range(6):\n",
    "    p1 = np.zeros(6)\n",
    "    p1[i] = 1.\n",
    "    Dp1 = M.to_Dstarf(u1,p1)\n",
    "    \n",
    "    for j in range(6):\n",
    "        v1 = np.zeros(6)\n",
    "        v1[j] = 1.\n",
    "        Dv1 = M.to_Df(u1,v1)\n",
    "\n",
    "        A[i,j] = np.dot(Dv1,Dp1)\n",
    "print(A)"
   ]
  },
  {
   "cell_type": "code",
   "execution_count": null,
   "metadata": {
    "ExecuteTime": {
     "end_time": "2021-04-07T07:01:48.652874Z",
     "start_time": "2021-04-07T07:01:48.410950Z"
    }
   },
   "outputs": [],
   "source": [
    "# elements\n",
    "x = M.coordsf([0.,0.])\n",
    "\n",
    "# element u=(x,nu) in FM, nu being frame for T_xM\n",
    "# np.linalg.cholesky(M.gsharpf(x)) gives orthonormal basis for T_xM, multiplication scales in given directions\n",
    "nu = np.dot(np.diag((.5,1.)),np.linalg.cholesky(M.gsharpf(x)))\n",
    "u = (np.concatenate((x[0],nu.flatten())),x[1])\n",
    "\n",
    "# FM covector p\n",
    "v = tensor([2.,2.])\n",
    "px = np.linalg.solve(nu,v) # manifold part\n",
    "pu = tensor([0.,0.,0.,0.]) # frame part\n",
    "p = np.concatenate([px,pu])\n",
    "\n",
    "print(\"u = \", u)\n",
    "print(\"p = \", p)\n",
    "\n",
    "newfig()\n",
    "M.plot()\n",
    "M.plotx(x,v=nu)"
   ]
  },
  {
   "cell_type": "markdown",
   "metadata": {},
   "source": [
    "## FM Geodesics"
   ]
  },
  {
   "cell_type": "code",
   "execution_count": null,
   "metadata": {
    "ExecuteTime": {
     "end_time": "2021-04-07T08:39:29.692557Z",
     "start_time": "2021-04-07T07:01:48.654461Z"
    }
   },
   "outputs": [],
   "source": [
    "# Hamiltionian dynamics on FM from sub-Riemannian structure <v,w>_FM=<u^-1(v),u^-1(w)>_R^2\n",
    "from src.framebundle import Hamiltonian_FM\n",
    "Hamiltonian_FM.initialize(M)"
   ]
  },
  {
   "cell_type": "code",
   "execution_count": null,
   "metadata": {
    "ExecuteTime": {
     "end_time": "2021-04-07T08:39:29.767695Z",
     "start_time": "2021-04-07T08:39:29.695961Z"
    },
    "scrolled": false
   },
   "outputs": [],
   "source": [
    "# test that chart update preserves FM Hamiltonian\n",
    "x1 = M.coordsf([1.2,0.])\n",
    "nu1 = np.dot(np.diag((.5,1.)),np.linalg.cholesky(M.gsharpf(x1)))\n",
    "u1 = (np.concatenate((x1[0],nu1.flatten())),x1[1])\n",
    "\n",
    "for i in range(6):\n",
    "#     Dp1 = np.zeros(6)\n",
    "#     Dp1[i] = 1.\n",
    "#     p1 = M.from_Dstarf(u1,Dp1)\n",
    "    p1 = np.zeros(6)\n",
    "    p1[i] = 1.\n",
    "\n",
    "    print(\"M.H_FM x1:\",M.H_FMf(u1,p1))\n",
    "    chart2 = M.centered_chartf(M.Ff(x1))\n",
    "    up2 = M.chart_update_Hamiltonian_FMf(u1,p1)\n",
    "    print(\"M.H_FM x2:\",M.H_FMf((up2[0],chart2),up2[1]))"
   ]
  },
  {
   "cell_type": "code",
   "execution_count": null,
   "metadata": {
    "ExecuteTime": {
     "end_time": "2021-04-07T08:39:31.229114Z",
     "start_time": "2021-04-07T08:39:29.769902Z"
    },
    "scrolled": false
   },
   "outputs": [],
   "source": [
    "print(M.H_FMf(u,p))\n",
    "\n",
    "# compute FM geodesic\n",
    "(us,charts) = M.Exp_Hamiltonian_FMtf(u,p)\n",
    "\n",
    "# plot\n",
    "newfig()\n",
    "M.plot(rotate=(30,80))\n",
    "M.plot_path(zip(us,charts),v_steps=np.arange(0,n_steps.eval(),5),linewidth=1.5,s=50)\n",
    "plt.show()\n",
    "\n",
    "# dynamics returning both position and momentum\n",
    "(ts,qps,charts) = M.Hamiltonian_dynamics_FMf(u,p)\n",
    "us = qps[:,0,:]\n",
    "ps = qps[:,1,:]\n",
    "print(\"Energy: \",np.array([M.H_FMf((q,charts),p) for (q,p,charts) in zip(us,ps,charts)]))"
   ]
  },
  {
   "cell_type": "markdown",
   "metadata": {},
   "source": [
    "# Development and Stochastic Development"
   ]
  },
  {
   "cell_type": "code",
   "execution_count": null,
   "metadata": {
    "ExecuteTime": {
     "end_time": "2021-04-07T08:41:39.963616Z",
     "start_time": "2021-04-07T08:39:31.230919Z"
    }
   },
   "outputs": [],
   "source": [
    "# development dynamics\n",
    "from src.stochastics import stochastic_development\n",
    "stochastic_development.initialize(M)"
   ]
  },
  {
   "cell_type": "code",
   "execution_count": null,
   "metadata": {
    "ExecuteTime": {
     "end_time": "2021-04-07T08:41:41.152016Z",
     "start_time": "2021-04-07T08:41:39.966030Z"
    },
    "scrolled": false
   },
   "outputs": [],
   "source": [
    "# deterministic development\n",
    "\n",
    "# curve in R^2\n",
    "t = np.linspace(0,10,n_steps.get_value()+1)\n",
    "gamma = np.vstack([[20*np.sin(t), t**2 + 2*t]]).T\n",
    "dgamma = np.diff(gamma, axis = 0)\n",
    "\n",
    "(ts,us,charts) = M.developmentf(u,dgamma)\n",
    "\n",
    "# plot with frame\n",
    "newfig()\n",
    "M.plot()\n",
    "M.plot_path(zip(us,charts),v_steps=np.arange(0,n_steps.eval(),5))\n",
    "plt.show()\n",
    "\n",
    "# plot only trajectory\n",
    "newfig()\n",
    "M.plot()\n",
    "M.plot_path(zip(us[:,0:M.dim.eval()],charts))\n",
    "plt.show()\n",
    "\n",
    "# plot anti-development\n",
    "plt.figure()\n",
    "plt.plot(gamma[:,0],gamma[:,1])\n",
    "plt.axis('equal')\n",
    "plt.show()"
   ]
  },
  {
   "cell_type": "code",
   "execution_count": null,
   "metadata": {
    "ExecuteTime": {
     "end_time": "2021-04-07T08:41:48.670069Z",
     "start_time": "2021-04-07T08:41:41.153618Z"
    },
    "scrolled": false
   },
   "outputs": [],
   "source": [
    "n_steps.set_value(1000)\n",
    "\n",
    "# stochastic development\n",
    "w = dWsf(M.dim.eval()) # noise / anti-development\n",
    "(ts,us,charts) = M.stochastic_developmentf(u,w)\n",
    "\n",
    "# plot with frame\n",
    "newfig()\n",
    "M.plot()\n",
    "M.plot_path(zip(us,charts),v_steps=np.arange(0,n_steps.eval(),50))\n",
    "plt.show()\n",
    "\n",
    "# plot only trajectory\n",
    "newfig()\n",
    "M.plot()\n",
    "M.plot_path(zip(us[:,0:M.dim.eval()],charts))\n",
    "plt.show()\n",
    "\n",
    "# plot noise / anti-development\n",
    "plt.figure()\n",
    "ws = np.cumsum(w,axis=0)\n",
    "plt.plot(ws[:,0],ws[:,1])\n",
    "plt.axis('equal')\n",
    "plt.show()\n",
    "\n",
    "n_steps.set_value(100)"
   ]
  },
  {
   "cell_type": "code",
   "execution_count": null,
   "metadata": {
    "ExecuteTime": {
     "end_time": "2021-04-07T08:41:48.717510Z",
     "start_time": "2021-04-07T08:41:48.671981Z"
    }
   },
   "outputs": [],
   "source": [
    "# # This file is part of Theano Geometry\n",
    "#\n",
    "# Copyright (C) 2017, Stefan Sommer (sommer@di.ku.dk)\n",
    "# https://bitbucket.org/stefansommer/theanogemetry\n",
    "#\n",
    "# Theano Geometry is free software: you can redistribute it and/or modify\n",
    "# it under the terms of the GNU General Public License as published by\n",
    "# the Free Software Foundation, either version 3 of the License, or\n",
    "# (at your option) any later version.\n",
    "#\n",
    "# Theano Geometry is distributed in the hope that it will be useful,\n",
    "# but WITHOUT ANY WARRANTY; without even the implied warranty of\n",
    "# MERCHANTABILITY or FITNESS FOR A PARTICULAR PURPOSE.  See the\n",
    "# GNU General Public License for more details.\n",
    "#\n",
    "# You should have received a copy of the GNU General Public License\n",
    "# along with Theano Geometry. If not, see <http://www.gnu.org/licenses/>.\n",
    "#\n",
    "\n",
    "from src.utils import *\n",
    "import src.linalg as linalg\n",
    "\n",
    "#######################################################################\n",
    "# guided processes, Delyon/Hu 2006                                    #\n",
    "#######################################################################\n",
    "\n",
    "# hit target v at time t=Tend\n",
    "def get_sde_guided(M, sde_f, phi, sqrtCov, A=None, method='DelyonHu', integration='ito', use_charts=False, chart_update=None, v_chart_update=None):\n",
    "    assert (integration == 'ito' or integration == 'stratonovich')\n",
    "    assert (method == 'DelyonHu')  # more general schemes not implemented\n",
    "    \n",
    "    def chart_update_guided(t, x, chart, log_likelihood, log_varphi, h, v, *ys):\n",
    "        if chart_update is None:\n",
    "            return (t, x, chart, log_likelihood, log_varphi, h, v, *ys)\n",
    "\n",
    "        (t_new, x_new, chart_new, *ys_new) = chart_update(t,x,chart,*ys)\n",
    "        v_new = v if v_chart_update is None else M.update_coords((v,chart),chart_new)[0]\n",
    "        return (t_new, x_new, chart_new, log_likelihood, log_varphi, h, v_new, *ys_new)\n",
    "\n",
    "    def sde_guided(dW, t, x, chart, log_likelihood, log_varphi, h, v, *ys):\n",
    "        if not use_charts:\n",
    "            (det, sto, X, *dys_sde) = sde_f(dW, t, x, *ys)\n",
    "        else:\n",
    "            (det, sto, X, *dys_sde) = sde_f(dW, t, x, chart, *ys)\n",
    "            \n",
    "        xchart = x if not use_charts else (x,chart)\n",
    "\n",
    "        h = theano.ifelse.ifelse(T.lt(t, Tend - dt / 2),\n",
    "                                 phi(xchart, v) / (Tend - t),\n",
    "                                 T.zeros_like(phi(xchart, v))\n",
    "                                 )\n",
    "        sto = theano.ifelse.ifelse(T.lt(t, Tend - 3 * dt / 2),  # for Ito as well?\n",
    "                                   sto,\n",
    "                                   T.zeros_like(sto)\n",
    "                                   )\n",
    "\n",
    "        ### likelihood\n",
    "        dW_guided = (1 - .5 * dt / (1 - t)) * dW + dt * h  # for Ito as well?\n",
    "        sqrtCovx = sqrtCov(xchart)\n",
    "        Cov = dt * T.tensordot(sqrtCovx, sqrtCovx, (1, 1))\n",
    "        Pres = T.nlinalg.MatrixInverse()(Cov)\n",
    "        residual = T.tensordot(dW_guided, T.tensordot(Pres, dW_guided, (1, 0)), (0, 0))\n",
    "        log_likelihood = .5 * (-dW.shape[0] * T.log(2 * np.pi) + linalg.LogAbsDet()(Pres) - residual)\n",
    "\n",
    "        ## correction factor\n",
    "        ytilde = T.tensordot(X, h * (Tend - t), 1)\n",
    "        tp1 = t + dt\n",
    "        if integration == 'ito':\n",
    "            xtp1 = x + dt * (det + T.tensordot(X, h, 1)) + sto\n",
    "        elif integration == 'stratonovich':\n",
    "            tx = x + sto\n",
    "            xtp1 = x + dt * det + 0.5 * (sto + sde_f(dW, tp1, tx, *ys)[1])\n",
    "        xtp1chart = xtp1 if not use_charts else (xtp1,chart)\n",
    "        if not use_charts:\n",
    "            Xtp1 = sde_f(dW, tp1, xtp1, *ys)[2]\n",
    "        else:\n",
    "            Xtp1 = sde_f(dW, tp1, xtp1, chart, *ys)[2]\n",
    "        ytildetp1 = T.tensordot(Xtp1, phi(xtp1chart, v), 1)\n",
    "\n",
    "        # set default A if not specified\n",
    "        Af = A if A is not None else lambda x, v, w: T.tensordot(v, T.tensordot(T.nlinalg.MatrixInverse()(T.tensordot(X, X, (1, 1))), w, 1), 1)\n",
    "\n",
    "        #     add t1 term for general phi\n",
    "        #     dxbdxt = theano.gradient.Rop((Gx-x[0]).flatten(),x[0],dx[0]) # use this for general phi\n",
    "        t2 = theano.ifelse.ifelse(T.lt(t, Tend - dt / 2),\n",
    "                                  -Af(xchart, ytilde, dt * det) / (Tend - t),\n",
    "                                  # check det term for Stratonovich (correction likely missing)\n",
    "                                  constant(0.))\n",
    "        t34 = theano.ifelse.ifelse(T.lt(tp1, Tend - dt / 2),\n",
    "                                   -(Af(xtp1chart, ytildetp1, ytildetp1) - Af(xchart, ytildetp1, ytildetp1)) / (\n",
    "                                   2 * (Tend - tp1 + dt * T.gt(tp1, Tend - dt / 2))),\n",
    "                                   # last term in divison is to avoid NaN with non-lazy Theano conditional evaluation\n",
    "                                   constant(0.))\n",
    "        log_varphi = t2 + t34\n",
    "\n",
    "        return (det + T.tensordot(X, h, 1), sto, X, log_likelihood, log_varphi, dW_guided/dt, T.zeros_like(v), *dys_sde)\n",
    "\n",
    "    if not use_charts:\n",
    "        return lambda dW, t, x, log_likelihood, log_varphi, h, v, *ys: sde_guided(dW, t, x, None, log_likelihood, log_varphi, h, v, *ys)\n",
    "    else:\n",
    "        return (sde_guided, chart_update_guided)\n",
    "\n",
    "def get_guided_likelihood(M, sde_f, phi, sqrtCov, A=None, method='DelyonHu', integration='ito', use_charts=False, chart_update=None):\n",
    "    v = M.sym_element()\n",
    "    if not use_charts:\n",
    "        sde_guided = get_sde_guided(M, sde_f, phi, sqrtCov, A, method, integration)\n",
    "        guided = lambda q, v, dWt: integrate_sde(sde_guided,\n",
    "                                                 integrator_ito if method == 'ito' else integrator_stratonovich,\n",
    "                                                 None,\n",
    "                                                 q, None, dWt, constant(0.), constant(0.), T.zeros_like(dWt[0]), v)\n",
    "        guidedf = M.function(guided,v,dWt)\n",
    "    else:\n",
    "        (sde_guided,chart_update_guided) = get_sde_guided(M, sde_f, phi, sqrtCov, A, method, integration, use_charts=True, chart_update=chart_update)\n",
    "        guided = lambda q, v, dWt: integrate_sde(sde_guided,\n",
    "                                                 integrator_ito if method == 'ito' else integrator_stratonovich,\n",
    "                                                 chart_update_guided,\n",
    "                                                 q[0], q[1], dWt, constant(0.), constant(0.), T.zeros_like(dWt[0]), v)\n",
    "        guidedf = M.coords_function(guided,v,dWt)\n",
    "\n",
    "    return (guided, guidedf)\n",
    "\n",
    "import src.linalg as linalg\n",
    "\n",
    "def bridge_sampling(lg,bridge_sdef,dWsf,options,pars):\n",
    "    \"\"\" sample samples_per_obs bridges \"\"\"\n",
    "    (v,seed) = pars\n",
    "    if seed:\n",
    "        srng.seed(seed)\n",
    "    bridges = np.zeros((options['samples_per_obs'],n_steps.eval(),)+lg.shape)\n",
    "    log_varphis = np.zeros((options['samples_per_obs'],))\n",
    "    log_likelihoods = np.zeros((options['samples_per_obs'],))\n",
    "    for i in range(options['samples_per_obs']):\n",
    "        (ts,gs,log_likelihood,log_varphi) = bridge_sdef(lg,v,dWsf())[:4]\n",
    "        bridges[i] = gs\n",
    "        log_varphis[i] = log_varphi[-1]\n",
    "        log_likelihoods[i] = log_likelihood[-1]\n",
    "        try:\n",
    "            v = options['update_vf'](v) # update v, e.g. simulate in fiber\n",
    "        except KeyError:\n",
    "            pass\n",
    "    return (bridges,log_varphis,log_likelihoods,v)\n",
    "\n",
    "# helper for log-transition density\n",
    "def p_T_log_p_T(g, v, dWs, bridge_sde, phi, options, F=None, sde=None, use_charts=False, chain_sampler=None, init_chain=None):\n",
    "    \"\"\" Monte Carlo approximation of log transition density from guided process \"\"\"\n",
    "    if use_charts:\n",
    "        chart = g[1]\n",
    "    \n",
    "    # sample noise\n",
    "    (cout, updates) = theano.scan(fn=lambda x: dWs,\n",
    "                                  outputs_info=[T.zeros_like(dWs)],\n",
    "                                  n_steps=options['samples_per_obs'])\n",
    "    dWsi = cout\n",
    "    \n",
    "    # map v to M\n",
    "    if F is not None:\n",
    "        v = F(v if not use_charts else (v,chart))\n",
    "\n",
    "    if not 'update_v' in options:\n",
    "        # v constant throughout sampling\n",
    "        print(\"transition density with v constant\")\n",
    "        \n",
    "        # bridges\n",
    "        Cgv = T.sum(phi(g, v) ** 2)\n",
    "        def bridge_logvarphis(dWs, log_varphi, chain):\n",
    "            if chain_sampler is None:\n",
    "                w = dWs\n",
    "            else:\n",
    "                (accept,new_w) = chain_sampler(chain)\n",
    "                w = T.switch(accept,new_w,w)\n",
    "            if not use_charts:\n",
    "                (ts, gs, log_likelihood, log_varphi) = bridge_sde(g, v, theano.gradient.disconnected_grad(w))[:4] # we don't take gradients of the sampling scheme\n",
    "            else:\n",
    "                (ts, gs, charts, log_likelihood, log_varphi) = bridge_sde(g, v, theano.gradient.disconnected_grad(w))[:5] # we don't take gradients of the sampling scheme\n",
    "            return (log_varphi[-1], w)\n",
    "\n",
    "        (cout, updates) = theano.scan(fn=bridge_logvarphis,\n",
    "                                      outputs_info=[constant(0.),init_chain if init_chain is not None else T.zeros_like(dWs)],\n",
    "                                      sequences=[dWsi])\n",
    "        log_varphi = T.log(T.mean(T.exp(cout[0])))\n",
    "        log_p_T = -.5 * g[0].shape[0] * T.log(2. * np.pi * Tend) - Cgv / (2. * Tend)# + log_varphi\n",
    "        p_T = T.exp(log_p_T)\n",
    "    else:\n",
    "        # update v during sampling, e.g. for fiber densities\n",
    "        assert(chain_sampler is None)\n",
    "        print(\"transition density with v updates\")\n",
    "\n",
    "        # bridges\n",
    "        def bridge_p_T(dWs, lp_T, lv):\n",
    "            Cgv = T.sum(phi(g, lv) ** 2)\n",
    "            (ts, gs, log_likelihood, log_varphi) = bridge_sde(g, lv, dWs)[:4]\n",
    "            lp_T =  T.power(2.*np.pi*Tend,-.5*g[0].shape[0])*T.exp(-Cgv/(2.*Tend))#*T.exp(log_varphi[-1])\n",
    "            lv = options['update_v'](lv)                        \n",
    "            return (lp_T, lv)\n",
    "\n",
    "        (cout, updates) = theano.scan(fn=bridge_p_T,\n",
    "                                      outputs_info=[constant(0.), v],\n",
    "                                      sequences=[dWsi])\n",
    "        p_T = T.mean(cout[:][0])\n",
    "        log_p_T = T.log(p_T)\n",
    "        v = cout[-1][1]\n",
    "    \n",
    "    if chain_sampler is None:\n",
    "        return (p_T,log_p_T,v)\n",
    "    else:\n",
    "        return (p_T,log_p_T,v,w)\n",
    "\n",
    "# densities wrt. the Riemannian volume form\n",
    "def p_T(*args,**kwargs): return p_T_log_p_T(*args,**kwargs)[0]\n",
    "def log_p_T(*args,**kwargs): return p_T_log_p_T(*args,**kwargs)[1]\n",
    "\n",
    "def dp_T(thetas,*args,**kwargs):\n",
    "    \"\"\" Monte Carlo approximation of transition density gradient \"\"\"\n",
    "    lp_T = p_T(*args,**kwargs)\n",
    "    return (lp_T,)+tuple(T.grad(lp_T,theta) for theta in thetas)\n",
    "\n",
    "def dlog_p_T(thetas,*args,**kwargs):\n",
    "    \"\"\" Monte Carlo approximation of log transition density gradient \"\"\"\n",
    "    llog_p_T = log_p_T(*args,**kwargs)\n",
    "    return (llog_p_T,)+tuple(T.grad(llog_p_T,theta) for theta in thetas)\n"
   ]
  },
  {
   "cell_type": "code",
   "execution_count": null,
   "metadata": {
    "ExecuteTime": {
     "end_time": "2021-04-07T08:44:41.429965Z",
     "start_time": "2021-04-07T08:41:48.718996Z"
    },
    "scrolled": false
   },
   "outputs": [],
   "source": [
    "# # Delyon/Hu guided process\n",
    "from src.stochastics.guided_process import *\n",
    "\n",
    "# guide function\n",
    "def phi(u,v):\n",
    "    x = (u[0][0:M.dim],u[1])\n",
    "    nu = u[0][M.dim:].reshape((M.dim,-1))\n",
    "    \n",
    "    return T.nlinalg.tensorsolve(nu,M.StdLog(x,v).flatten()).reshape((M.dim,))\n",
    "\n",
    "(stochastic_development_guided,stochastic_development_guidedf) = get_guided_likelihood(\n",
    "    M,M.sde_development,phi,lambda x: T.eye(M.dim),A=lambda x,v,w: T.dot(v,w),\n",
    "    use_charts=True,chart_update=M.chart_update_FM)\n",
    "\n",
    "n_steps.set_value(1000)\n",
    "\n",
    "w = M.Ff(M.Expf(x,tensor(np.array([.8,-.5]))))\n",
    "(ts,us,charts,log_likelihood,log_varphi) = stochastic_development_guidedf(u,w,dWsf(M.dim.eval()))[:5]\n",
    "print(\"log likelihood: \", log_likelihood[-1], \", log varphi: \", log_varphi[-1])\n",
    "\n",
    "# plot\n",
    "newfig()\n",
    "M.plot()\n",
    "M.plot_path(zip(us,charts),v_steps=np.arange(0,n_steps.eval(),50))\n",
    "M.plotx(x,color='r',s=150)\n",
    "M.plotx(w,color='k',s=150)\n",
    "plt.show()\n",
    "\n",
    "n_steps.set_value(100)"
   ]
  },
  {
   "cell_type": "code",
   "execution_count": null,
   "metadata": {
    "ExecuteTime": {
     "end_time": "2021-04-07T08:53:46.394958Z",
     "start_time": "2021-04-07T08:44:41.432510Z"
    },
    "scrolled": false
   },
   "outputs": [],
   "source": [
    "options = {}\n",
    "options['samples_per_obs'] = 1\n",
    "\n",
    "# transition density etc.\n",
    "q0 = M.sym_coords()\n",
    "v = M.sym_coords()\n",
    "chart = M.sym_chart()\n",
    "thetas = (q0,)\n",
    "_log_p_Tf = theano.function([q0,chart,v],log_p_T((q0,chart),v,dWs(M.dim),stochastic_development_guided,phi,options,sde=M.sde_development,F=M.F,use_charts=True))\n",
    "# _dlog_p_Tf = theano.function([q0,chart,v],dlog_p_T(thetas,(q0,chart),v,dWs(M.dim),stochastic_development_guided,phi,options,sde=M.sde_development,F=M.F,use_charts=True))\n",
    "_p_Tf = theano.function([q0,chart,v],T.exp(log_p_T((q0,chart),v,dWs(M.dim),stochastic_development_guided,phi,options,sde=M.sde_development,F=M.F,use_charts=True)))\n",
    "log_p_Tf = lambda x,v: _log_p_Tf(x[0],x[1],v)\n",
    "# dlog_p_Tf = lambda x,v: _dlog_p_Tf(x[0],x[1],v)\n",
    "p_Tf = lambda x,v: _p_Tf(x[0],x[1],v)\n",
    "\n",
    "v = x\n",
    "print(x)\n",
    "print(v)\n",
    "%time print(log_p_Tf(u,v[0]))\n",
    "# %time print(p_Tf(x,v[0]))\n",
    "# %time print(dlog_p_Tf(x,v[0]+.1*np.random.randn(M.dim.eval())))"
   ]
  },
  {
   "cell_type": "code",
   "execution_count": null,
   "metadata": {
    "ExecuteTime": {
     "end_time": "2021-04-07T08:54:37.232915Z",
     "start_time": "2021-04-07T08:53:46.397015Z"
    },
    "scrolled": false
   },
   "outputs": [],
   "source": [
    "pts = 20\n",
    "phi, theta = np.meshgrid(0.,np.linspace(np.pi/2,-np.pi/2-1e-2,pts))\n",
    "phitheta = np.vstack([phi.ravel(), theta.ravel()]).T\n",
    "xs = np.apply_along_axis(M.F_sphericalf,1,phitheta)\n",
    "\n",
    "# plot points\n",
    "newfig()\n",
    "M.plot()\n",
    "M.plotx(x,color='r',s=100)\n",
    "for i in range(xs.shape[0]):\n",
    "    M.plotx((M.invFf((xs[i],x[1])),x[1]))\n",
    "\n",
    "nu1 = np.dot(np.diag((1.,1.)),np.linalg.cholesky(M.gsharpf(x)))\n",
    "u1 = (np.concatenate((x[0],nu.flatten())),x[1])\n",
    "    \n",
    "# compute transition density for different T\n",
    "newfig2d()\n",
    "for t in np.array([.5,1.,2.]):\n",
    "    print(t)\n",
    "    Tend.set_value(t)\n",
    "\n",
    "    fs = np.apply_along_axis(lambda v: p_Tf(u1,M.invFf((v,x[1]))),1,xs)\n",
    "    print(fs)\n",
    "\n",
    "    plt.plot(np.pi/2-theta,fs)\n",
    "Tend.set_value(1.)"
   ]
  },
  {
   "cell_type": "markdown",
   "metadata": {},
   "source": [
    "# Anisotropic  Normal Distribution"
   ]
  },
  {
   "cell_type": "code",
   "execution_count": null,
   "metadata": {
    "ExecuteTime": {
     "end_time": "2021-04-07T08:54:41.714581Z",
     "start_time": "2021-04-07T08:54:37.235014Z"
    }
   },
   "outputs": [],
   "source": [
    "# plot sample data with trajectories\n",
    "K = 8\n",
    "obss = np.zeros((K,n_steps.eval(),M.dim.eval()))\n",
    "obs_charts = np.zeros((K,n_steps.eval(),)+x[1].shape)\n",
    "# srng.seed(422)\n",
    "i = 0\n",
    "while i < K:\n",
    "    try:\n",
    "        (ts,us,charts) = M.stochastic_developmentf(u,dWsf(M.dim.eval()))\n",
    "        obss[i] = us[:,0:M.dim.eval()]\n",
    "        obs_charts[i] = charts\n",
    "        i += 1\n",
    "    except np.linalg.linalg.LinAlgError:\n",
    "        pass\n",
    "\n",
    "# plot samples\n",
    "colormap = plt.get_cmap('winter')\n",
    "colors=[colormap(k) for k in np.linspace(0, 1, K)]\n",
    "newfig()\n",
    "M.plot()\n",
    "M.plotx(x,v=u[0][M.dim.eval():].reshape((M.dim.eval(),-1)))\n",
    "for i in range(K):\n",
    "    M.plot_path(zip(obss[i],obs_charts[i]),linewidth=.5,color=colors[i])\n",
    "plt.show()"
   ]
  },
  {
   "cell_type": "code",
   "execution_count": null,
   "metadata": {
    "ExecuteTime": {
     "end_time": "2021-04-07T09:00:58.145796Z",
     "start_time": "2021-04-07T08:54:41.716179Z"
    }
   },
   "outputs": [],
   "source": [
    "# sample data\n",
    "K = 1024\n",
    "obss = np.zeros((K,M.dim.eval()))\n",
    "obs_charts = np.zeros((K,)+x[1].shape)\n",
    "# srng.seed(422)\n",
    "i = 0\n",
    "while i < K:\n",
    "    try:\n",
    "        (ts,us,charts) = M.stochastic_developmentf(u,dWsf(M.dim.eval()))\n",
    "        obss[i] = us[-1][0:M.dim.eval()]\n",
    "        obs_charts[i] = charts[-1]\n",
    "        i += 1\n",
    "    except np.linalg.linalg.LinAlgError:\n",
    "        pass\n",
    "\n",
    "# plot samples\n",
    "newfig()\n",
    "M.plot()\n",
    "M.plotx(x,v=u[0][M.dim.eval():].reshape((M.dim.eval(),-1)))\n",
    "for i in range(K):\n",
    "    M.plotx((obss[i],obs_charts[i]))\n",
    "plt.show()"
   ]
  },
  {
   "cell_type": "code",
   "execution_count": null,
   "metadata": {
    "ExecuteTime": {
     "end_time": "2021-04-07T09:00:58.150167Z",
     "start_time": "2021-04-07T09:00:58.147830Z"
    },
    "scrolled": false
   },
   "outputs": [],
   "source": [
    "# # plot estimated density, \n",
    "# newfig()\n",
    "# # plotM(alpha=.4)\n",
    "# # plot_sphere_density_estimate(M, np.array([M.Ff(obs) for obs in obss]),pts=100,alpha=.8,bandwidth=.15) # spherical coordinates\n",
    "# plot_density_estimate(M,np.array([M.Ff((obs,chart)) for (obs,chart) in zip(obss,obs_charts)]),limits=[-3,3,-3,3],pts=500,alpha=.4,bandwidth=.15) # general ellipsoidal coordinates (note: very long computation time)\n",
    "# plt.show()"
   ]
  },
  {
   "cell_type": "markdown",
   "metadata": {},
   "source": [
    "# Most Probable Paths"
   ]
  },
  {
   "cell_type": "code",
   "execution_count": null,
   "metadata": {
    "ExecuteTime": {
     "start_time": "2021-04-07T06:57:45.371Z"
    }
   },
   "outputs": [],
   "source": [
    "def initialize(M):\n",
    "    y = M.sym_element()\n",
    "    y_chart = M.sym_chart()\n",
    "    p = M.sym_covector()\n",
    "    \n",
    "    def loss(u,p,y):\n",
    "        d = y[0].shape[0]\n",
    "        (u1,chart1) = M.Exp_Hamiltonian_FM(u,p)\n",
    "        y_chart1 = M.update_coords(y,chart1)\n",
    "        return 1./d*T.sum(T.sqr(u1[0:d] - y_chart1[0]))\n",
    "    M.lossf = M.coords_function(lambda u,p,y,y_chart: loss(u,p,(y,y_chart)),p,y,y_chart)\n",
    "\n",
    "    def Log_FM(u,y):\n",
    "        res = minimize(lambda p: M.lossf(u,p,y[0],y[1]), np.zeros(u[0].shape), \n",
    "                       method='CG', jac=False, options={'disp': False, \n",
    "                                                        'maxiter': 50})\n",
    "        return res.x\n",
    "    M.Log_FM = Log_FM\n",
    "initialize(M)"
   ]
  },
  {
   "cell_type": "code",
   "execution_count": null,
   "metadata": {
    "ExecuteTime": {
     "start_time": "2021-04-07T06:57:45.372Z"
    },
    "scrolled": false
   },
   "outputs": [],
   "source": [
    "# Compute 'most probable path' (in the sense of the driving semi-martingale) between u and x2\n",
    "x2 = M.coordsf([0.25,1.])\n",
    "\n",
    "# cotangent vector for the MPP:\n",
    "px2 = M.Log_FM(u,x2)\n",
    "\n",
    "# MPP from u to x2:\n",
    "(us,charts) = M.Exp_Hamiltonian_FMtf(u,px2)\n",
    "\n",
    "# plot\n",
    "newfig()\n",
    "M.plot(rotate=(30,80))\n",
    "M.plotx(x,color=\"blue\")\n",
    "M.plotx(x2,color=\"red\")\n",
    "M.plot_path(zip(us,charts),v_steps=np.arange(0,n_steps.eval(),5),linewidth=1.5,s=50)\n",
    "plt.show()"
   ]
  },
  {
   "cell_type": "markdown",
   "metadata": {},
   "source": [
    "# Horizontal Vector Fields"
   ]
  },
  {
   "cell_type": "code",
   "execution_count": null,
   "metadata": {
    "ExecuteTime": {
     "start_time": "2021-04-07T06:57:45.375Z"
    },
    "scrolled": false
   },
   "outputs": [],
   "source": [
    "def plotHorizontal(u,color='b',color_intensity=1.,linewidth=3.,prevx=None,last=True):\n",
    "        chart = u[1]    \n",
    "        x = (u[0][0:M.dim.eval()],chart)\n",
    "        nu = u[0][M.dim.eval():].reshape((M.dim.eval(),-1))\n",
    "        xM = M.Ff(x)\n",
    "        \n",
    "        ax = plt.gca()\n",
    "        \n",
    "        # plot frame and horizontal variation\n",
    "        M.plotx(x)\n",
    "        Hu = M.Horizontalf(u) # horizontal basis fields\n",
    "        print(\"Hu:\",Hu)\n",
    "        Hnu = Hu[M.dim.eval():].reshape((M.dim.eval(),nu.shape[1],nu.shape[1])) # nu part\n",
    "        JFx = M.JFf(x)\n",
    "        for j in range(M.dim.eval()):\n",
    "            nujM = np.dot(JFx,nu[:,j])\n",
    "            HnujM = np.dot(JFx,np.dot(Hnu,nu[:,j]))\n",
    "            ax.quiver(xM[0],xM[1],xM[2],nujM[0],nujM[1],nujM[2], pivot='tail',\n",
    "                      arrow_length_ratio = 0.15, linewidths=1,\n",
    "                      color='black',normalize=True,length=np.linalg.norm(nujM))\n",
    "            for k in range(nu.shape[1]):\n",
    "                basep = xM + nujM\n",
    "                ax.quiver(basep[0],basep[1],basep[2],\n",
    "                          HnujM[0,k],HnujM[1,k],HnujM[2,k], pivot='tail',linewidths=2.,\n",
    "                          color='red',normalize=True,length=0.3)\n",
    "\n",
    "\n",
    "# plot horizontal vector fields\n",
    "newfig()\n",
    "M.plot()\n",
    "plotHorizontal(u)\n",
    "plt.show()"
   ]
  }
 ],
 "metadata": {
  "kernelspec": {
   "display_name": "Python 3",
   "language": "python",
   "name": "python3"
  },
  "language_info": {
   "codemirror_mode": {
    "name": "ipython",
    "version": 3
   },
   "file_extension": ".py",
   "mimetype": "text/x-python",
   "name": "python",
   "nbconvert_exporter": "python",
   "pygments_lexer": "ipython3",
   "version": "3.6.3"
  }
 },
 "nbformat": 4,
 "nbformat_minor": 1
}
