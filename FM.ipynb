{
 "cells": [
  {
   "cell_type": "code",
   "execution_count": null,
   "metadata": {
    "ExecuteTime": {
     "end_time": "2021-03-15T12:56:14.870476Z",
     "start_time": "2021-03-15T12:56:14.866157Z"
    }
   },
   "outputs": [],
   "source": [
    "# # This file is part of Theano Geometry\n",
    "#\n",
    "# Copyright (C) 2017, Stefan Sommer (sommer@di.ku.dk)\n",
    "# https://bitbucket.org/stefansommer/theanogemetry\n",
    "#\n",
    "# Theano Geometry is free software: you can redistribute it and/or modify\n",
    "# it under the terms of the GNU General Public License as published by\n",
    "# the Free Software Foundation, either version 3 of the License, or\n",
    "# (at your option) any later version.\n",
    "#\n",
    "# Theano Geometry is distributed in the hope that it will be useful,\n",
    "# but WITHOUT ANY WARRANTY; without even the implied warranty of\n",
    "# MERCHANTABILITY or FITNESS FOR A PARTICULAR PURPOSE.  See the\n",
    "# GNU General Public License for more details.\n",
    "#\n",
    "# You should have received a copy of the GNU General Public License\n",
    "# along with Theano Geometry. If not, see <http://www.gnu.org/licenses/>.\n",
    "#"
   ]
  },
  {
   "cell_type": "markdown",
   "metadata": {},
   "source": [
    "# Frame Bundle Geometry on Embedded Ellipsoids"
   ]
  },
  {
   "cell_type": "code",
   "execution_count": null,
   "metadata": {
    "ExecuteTime": {
     "end_time": "2021-03-15T12:56:26.602965Z",
     "start_time": "2021-03-15T12:56:14.873722Z"
    }
   },
   "outputs": [],
   "source": [
    "from src.manifolds.ellipsoid import *\n",
    "M = Ellipsoid(params=np.array([1,1,1]))\n",
    "#M.params.set_value(np.array([1,0.5,0.5]))\n",
    "print(M)\n",
    "from src.plotting import *"
   ]
  },
  {
   "cell_type": "code",
   "execution_count": null,
   "metadata": {
    "ExecuteTime": {
     "end_time": "2021-03-15T12:58:25.387364Z",
     "start_time": "2021-03-15T12:56:26.605410Z"
    }
   },
   "outputs": [],
   "source": [
    "# Riemannian structure\n",
    "from src.Riemannian import metric\n",
    "metric.initialize(M,truncate_high_order_derivatives=False)\n",
    "\n",
    "# geodesics\n",
    "from src.Riemannian import geodesic\n",
    "geodesic.initialize(M)"
   ]
  },
  {
   "cell_type": "code",
   "execution_count": null,
   "metadata": {
    "ExecuteTime": {
     "end_time": "2021-03-15T12:59:36.288866Z",
     "start_time": "2021-03-15T12:58:25.389947Z"
    },
    "scrolled": false
   },
   "outputs": [],
   "source": [
    "# frame bundle\n",
    "from src.framebundle import FM\n",
    "FM.initialize(M)"
   ]
  },
  {
   "cell_type": "code",
   "execution_count": null,
   "metadata": {
    "ExecuteTime": {
     "end_time": "2021-03-15T12:59:36.470541Z",
     "start_time": "2021-03-15T12:59:36.291046Z"
    }
   },
   "outputs": [],
   "source": [
    "# test that adapated bases D and D^* are dual\n",
    "x1 = M.coordsf([1.2,0.])\n",
    "nu1 = np.dot(np.diag((.5,1.)),np.linalg.cholesky(M.gsharpf(x1)))\n",
    "u1 = (np.concatenate((x1[0],nu1.flatten())),x1[1])\n",
    "\n",
    "A = np.zeros((6,6))\n",
    "for i in range(6):\n",
    "    Dp1 = np.zeros(6)\n",
    "    Dp1[i] = 1.\n",
    "    p1 = M.from_Dstarf(u1,Dp1)\n",
    "    \n",
    "    for j in range(6):\n",
    "        Dv1 = np.zeros(6)\n",
    "        Dv1[j] = 1.\n",
    "        v1 = M.from_Df(u1,Dv1)\n",
    "\n",
    "        A[i,j] = np.dot(v1,p1)\n",
    "print(A)\n",
    "\n",
    "A = np.zeros((6,6))\n",
    "for i in range(6):\n",
    "    p1 = np.zeros(6)\n",
    "    p1[i] = 1.\n",
    "    Dp1 = M.to_Dstarf(u1,p1)\n",
    "    \n",
    "    for j in range(6):\n",
    "        v1 = np.zeros(6)\n",
    "        v1[j] = 1.\n",
    "        Dv1 = M.to_Df(u1,v1)\n",
    "\n",
    "        A[i,j] = np.dot(Dv1,Dp1)\n",
    "print(A)"
   ]
  },
  {
   "cell_type": "code",
   "execution_count": null,
   "metadata": {
    "ExecuteTime": {
     "end_time": "2021-03-15T12:59:36.710263Z",
     "start_time": "2021-03-15T12:59:36.472076Z"
    }
   },
   "outputs": [],
   "source": [
    "# elements\n",
    "x = M.coordsf([0.,0.])\n",
    "\n",
    "# element u=(x,nu) in FM, nu being frame for T_xM\n",
    "# np.linalg.cholesky(M.gsharpf(x)) gives orthonormal basis for T_xM, multiplication scales in given directions\n",
    "nu = np.dot(np.diag((.5,1.)),np.linalg.cholesky(M.gsharpf(x)))\n",
    "u = (np.concatenate((x[0],nu.flatten())),x[1])\n",
    "\n",
    "# FM covector p\n",
    "v = tensor([2.,2.])\n",
    "px = np.linalg.solve(nu,v) # manifold part\n",
    "pu = tensor([0.,0.,0.,0.]) # frame part\n",
    "p = np.concatenate([px,pu])\n",
    "\n",
    "print(\"u = \", u)\n",
    "print(\"p = \", p)\n",
    "\n",
    "newfig()\n",
    "M.plot()\n",
    "M.plotx(x,v=nu)"
   ]
  },
  {
   "cell_type": "markdown",
   "metadata": {},
   "source": [
    "## FM Geodesics"
   ]
  },
  {
   "cell_type": "code",
   "execution_count": null,
   "metadata": {
    "ExecuteTime": {
     "end_time": "2021-03-15T13:10:47.617866Z",
     "start_time": "2021-03-15T12:59:36.712056Z"
    }
   },
   "outputs": [],
   "source": [
    "# Hamiltionian dynamics on FM from sub-Riemannian structure <v,w>_FM=<u^-1(v),u^-1(w)>_R^2\n",
    "from src.framebundle import Hamiltonian_FM\n",
    "Hamiltonian_FM.initialize(M)"
   ]
  },
  {
   "cell_type": "code",
   "execution_count": null,
   "metadata": {
    "ExecuteTime": {
     "end_time": "2021-03-15T13:10:47.664123Z",
     "start_time": "2021-03-15T13:10:47.620876Z"
    },
    "scrolled": false
   },
   "outputs": [],
   "source": [
    "# test that chart update preserves FM Hamiltonian\n",
    "x1 = M.coordsf([1.2,0.])\n",
    "nu1 = np.dot(np.diag((.5,1.)),np.linalg.cholesky(M.gsharpf(x1)))\n",
    "u1 = (np.concatenate((x1[0],nu1.flatten())),x1[1])\n",
    "\n",
    "for i in range(6):\n",
    "#     Dp1 = np.zeros(6)\n",
    "#     Dp1[i] = 1.\n",
    "#     p1 = M.from_Dstarf(u1,Dp1)\n",
    "    p1 = np.zeros(6)\n",
    "    p1[i] = 1.\n",
    "\n",
    "    print(\"M.H_FM x1:\",M.H_FMf(u1,p1))\n",
    "    chart2 = M.centered_chartf(M.Ff(x1))\n",
    "    up2 = M.chart_update_Hamiltonian_FMf(u1,p1)\n",
    "    print(\"M.H_FM x2:\",M.H_FMf((up2[0],chart2),up2[1]))"
   ]
  },
  {
   "cell_type": "code",
   "execution_count": null,
   "metadata": {
    "ExecuteTime": {
     "end_time": "2021-03-15T13:10:51.318341Z",
     "start_time": "2021-03-15T13:10:47.665953Z"
    },
    "scrolled": false
   },
   "outputs": [],
   "source": [
    "print(M.H_FMf(u,p))\n",
    "\n",
    "# compute FM geodesic\n",
    "(us,charts) = M.Exp_Hamiltonian_FMtf(u,p)\n",
    "\n",
    "# plot\n",
    "newfig()\n",
    "M.plot(rotate=(30,80))\n",
    "M.plot_path(zip(us,charts),v_steps=np.arange(0,n_steps.eval(),5),linewidth=1.5,s=50)\n",
    "plt.show()\n",
    "\n",
    "# dynamics returning both position and momentum\n",
    "(ts,qps,charts) = M.Hamiltonian_dynamics_FMf(u,p)\n",
    "us = qps[:,0,:]\n",
    "ps = qps[:,1,:]\n",
    "print(\"Energy: \",np.array([M.H_FMf((q,charts),p) for (q,p,charts) in zip(us,ps,charts)]))"
   ]
  },
  {
   "cell_type": "markdown",
   "metadata": {},
   "source": [
    "# Development and Stochastic Development"
   ]
  },
  {
   "cell_type": "code",
   "execution_count": null,
   "metadata": {
    "ExecuteTime": {
     "end_time": "2021-03-15T13:12:43.990859Z",
     "start_time": "2021-03-15T13:10:51.320072Z"
    }
   },
   "outputs": [],
   "source": [
    "# development dynamics\n",
    "from src.stochastics import stochastic_development\n",
    "stochastic_development.initialize(M)"
   ]
  },
  {
   "cell_type": "code",
   "execution_count": null,
   "metadata": {
    "ExecuteTime": {
     "end_time": "2021-03-15T13:12:45.189851Z",
     "start_time": "2021-03-15T13:12:43.993072Z"
    },
    "scrolled": false
   },
   "outputs": [],
   "source": [
    "# deterministic development\n",
    "\n",
    "# curve in R^2\n",
    "t = np.linspace(0,10,n_steps.get_value()+1)\n",
    "gamma = np.vstack([[20*np.sin(t), t**2 + 2*t]]).T\n",
    "dgamma = np.diff(gamma, axis = 0)\n",
    "\n",
    "(ts,us,charts) = M.developmentf(u,dgamma)\n",
    "\n",
    "# plot with frame\n",
    "newfig()\n",
    "M.plot()\n",
    "M.plot_path(zip(us,charts),v_steps=np.arange(0,n_steps.eval(),5))\n",
    "plt.show()\n",
    "\n",
    "# plot only trajectory\n",
    "newfig()\n",
    "M.plot()\n",
    "M.plot_path(zip(us[:,0:M.dim.eval()],charts))\n",
    "plt.show()\n",
    "\n",
    "# plot anti-development\n",
    "plt.figure()\n",
    "plt.plot(gamma[:,0],gamma[:,1])\n",
    "plt.axis('equal')\n",
    "plt.show()"
   ]
  },
  {
   "cell_type": "code",
   "execution_count": null,
   "metadata": {
    "ExecuteTime": {
     "end_time": "2021-03-15T13:12:52.957273Z",
     "start_time": "2021-03-15T13:12:45.191679Z"
    },
    "scrolled": false
   },
   "outputs": [],
   "source": [
    "n_steps.set_value(1000)\n",
    "\n",
    "# stochastic development\n",
    "w = dWsf(M.dim.eval()) # noise / anti-development\n",
    "(ts,us,charts) = M.stochastic_developmentf(u,w)\n",
    "\n",
    "# plot with frame\n",
    "newfig()\n",
    "M.plot()\n",
    "M.plot_path(zip(us,charts),v_steps=np.arange(0,n_steps.eval(),50))\n",
    "plt.show()\n",
    "\n",
    "# plot only trajectory\n",
    "newfig()\n",
    "M.plot()\n",
    "M.plot_path(zip(us[:,0:M.dim.eval()],charts))\n",
    "plt.show()\n",
    "\n",
    "# plot noise / anti-development\n",
    "plt.figure()\n",
    "ws = np.cumsum(w,axis=0)\n",
    "plt.plot(ws[:,0],ws[:,1])\n",
    "plt.axis('equal')\n",
    "plt.show()\n",
    "\n",
    "n_steps.set_value(100)"
   ]
  },
  {
   "cell_type": "code",
   "execution_count": null,
   "metadata": {
    "ExecuteTime": {
     "end_time": "2021-03-15T13:15:36.366582Z",
     "start_time": "2021-03-15T13:12:52.959085Z"
    },
    "scrolled": false
   },
   "outputs": [],
   "source": [
    "# # Delyon/Hu guided process\n",
    "from src.stochastics.guided_process import *\n",
    "\n",
    "# guide function\n",
    "Cholesky = T.slinalg.Cholesky()\n",
    "def phi(u,v):\n",
    "    x = (u[0][0:M.dim],u[1])\n",
    "    nu = u[0][M.dim:].reshape((M.dim,-1))\n",
    "    \n",
    "    return T.nlinalg.tensorsolve(nu,M.StdLog(x,v).flatten()).reshape((M.dim,))\n",
    "\n",
    "(stochastic_development_guided,stochastic_development_guidedf) = get_guided_likelihood(\n",
    "    M,M.sde_development,phi,lambda x: T.eye(M.dim),A=lambda x,v,w: T.dot(v,w),\n",
    "    use_charts=True,chart_update=M.chart_update_FM)\n",
    "\n",
    "n_steps.set_value(1000)\n",
    "\n",
    "w = M.Ff(M.Expf(x,tensor(np.array([.8,-.5]))))\n",
    "(ts,us,charts,log_likelihood,log_varphi) = stochastic_development_guidedf(u,w,dWsf(M.dim.eval()))[:5]\n",
    "print(\"log likelihood: \", log_likelihood[-1], \", log varphi: \", log_varphi[-1])\n",
    "\n",
    "# plot\n",
    "newfig()\n",
    "M.plot()\n",
    "M.plot_path(zip(us,charts),v_steps=np.arange(0,n_steps.eval(),50))\n",
    "M.plotx(x,color='r',s=150)\n",
    "M.plotx(w,color='k',s=150)\n",
    "plt.show()\n",
    "\n",
    "n_steps.set_value(100)"
   ]
  },
  {
   "cell_type": "markdown",
   "metadata": {},
   "source": [
    "# Anisotropic  Normal Distribution"
   ]
  },
  {
   "cell_type": "code",
   "execution_count": null,
   "metadata": {
    "ExecuteTime": {
     "end_time": "2021-03-15T13:15:40.893164Z",
     "start_time": "2021-03-15T13:15:36.368748Z"
    }
   },
   "outputs": [],
   "source": [
    "# plot sample data with trajectories\n",
    "K = 8\n",
    "obss = np.zeros((K,n_steps.eval(),M.dim.eval()))\n",
    "obs_charts = np.zeros((K,n_steps.eval(),)+x[1].shape)\n",
    "# srng.seed(422)\n",
    "i = 0\n",
    "while i < K:\n",
    "    try:\n",
    "        (ts,us,charts) = M.stochastic_developmentf(u,dWsf(M.dim.eval()))\n",
    "        obss[i] = us[:,0:M.dim.eval()]\n",
    "        obs_charts[i] = charts\n",
    "        i += 1\n",
    "    except np.linalg.linalg.LinAlgError:\n",
    "        pass\n",
    "\n",
    "# plot samples\n",
    "colormap = plt.get_cmap('winter')\n",
    "colors=[colormap(k) for k in np.linspace(0, 1, K)]\n",
    "newfig()\n",
    "M.plot()\n",
    "M.plotx(x,v=u[0][M.dim.eval():].reshape((M.dim.eval(),-1)))\n",
    "for i in range(K):\n",
    "    M.plot_path(zip(obss[i],obs_charts[i]),linewidth=.5,color=colors[i])\n",
    "plt.show()"
   ]
  },
  {
   "cell_type": "code",
   "execution_count": null,
   "metadata": {
    "ExecuteTime": {
     "end_time": "2021-03-15T13:22:00.767786Z",
     "start_time": "2021-03-15T13:15:40.894959Z"
    }
   },
   "outputs": [],
   "source": [
    "# sample data\n",
    "K = 1024\n",
    "obss = np.zeros((K,M.dim.eval()))\n",
    "obs_charts = np.zeros((K,)+x[1].shape)\n",
    "# srng.seed(422)\n",
    "i = 0\n",
    "while i < K:\n",
    "    try:\n",
    "        (ts,us,charts) = M.stochastic_developmentf(u,dWsf(M.dim.eval()))\n",
    "        obss[i] = us[-1][0:M.dim.eval()]\n",
    "        obs_charts[i] = charts[-1]\n",
    "        i += 1\n",
    "    except np.linalg.linalg.LinAlgError:\n",
    "        pass\n",
    "\n",
    "# plot samples\n",
    "newfig()\n",
    "M.plot()\n",
    "M.plotx(x,v=u[0][M.dim.eval():].reshape((M.dim.eval(),-1)))\n",
    "for i in range(K):\n",
    "    M.plotx((obss[i],obs_charts[i]))\n",
    "plt.show()"
   ]
  },
  {
   "cell_type": "code",
   "execution_count": null,
   "metadata": {
    "ExecuteTime": {
     "end_time": "2021-03-15T13:22:00.772726Z",
     "start_time": "2021-03-15T13:22:00.769905Z"
    },
    "scrolled": false
   },
   "outputs": [],
   "source": [
    "# # plot estimated density, \n",
    "# newfig()\n",
    "# # plotM(alpha=.4)\n",
    "# # plot_sphere_density_estimate(M, np.array([M.Ff(obs) for obs in obss]),pts=100,alpha=.8,bandwidth=.15) # spherical coordinates\n",
    "# plot_density_estimate(M,np.array([M.Ff((obs,chart)) for (obs,chart) in zip(obss,obs_charts)]),limits=[-3,3,-3,3],pts=500,alpha=.4,bandwidth=.15) # general ellipsoidal coordinates (note: very long computation time)\n",
    "# plt.show()"
   ]
  },
  {
   "cell_type": "markdown",
   "metadata": {},
   "source": [
    "# Most Probable Paths"
   ]
  },
  {
   "cell_type": "code",
   "execution_count": null,
   "metadata": {
    "ExecuteTime": {
     "end_time": "2021-03-15T13:24:40.476933Z",
     "start_time": "2021-03-15T13:22:00.774117Z"
    }
   },
   "outputs": [],
   "source": [
    "def initialize(M):\n",
    "    y = M.sym_element()\n",
    "    y_chart = M.sym_chart()\n",
    "    p = M.sym_covector()\n",
    "    \n",
    "    def loss(u,p,y):\n",
    "        d = y[0].shape[0]\n",
    "        (u1,chart1) = M.Exp_Hamiltonian_FM(u,p)\n",
    "        y_chart1 = M.update_coords(y,chart1)\n",
    "        return 1./d*T.sum(T.sqr(u1[0:d] - y_chart1[0]))\n",
    "    M.lossf = M.coords_function(lambda u,p,y,y_chart: loss(u,p,(y,y_chart)),p,y,y_chart)\n",
    "\n",
    "    def Log_FM(u,y):\n",
    "        res = minimize(lambda p: M.lossf(u,p,y[0],y[1]), np.zeros(u[0].shape), \n",
    "                       method='CG', jac=False, options={'disp': False, \n",
    "                                                        'maxiter': 50})\n",
    "        return res.x\n",
    "    M.Log_FM = Log_FM\n",
    "initialize(M)"
   ]
  },
  {
   "cell_type": "code",
   "execution_count": null,
   "metadata": {
    "ExecuteTime": {
     "end_time": "2021-03-15T13:31:06.637257Z",
     "start_time": "2021-03-15T13:24:40.479192Z"
    },
    "scrolled": false
   },
   "outputs": [],
   "source": [
    "# Compute 'most probable path' (in the sense of the driving semi-martingale) between u and x2\n",
    "x2 = M.coordsf([0.25,1.])\n",
    "\n",
    "# cotangent vector for the MPP:\n",
    "px2 = M.Log_FM(u,x2)\n",
    "\n",
    "# MPP from u to x2:\n",
    "(us,charts) = M.Exp_Hamiltonian_FMtf(u,px2)\n",
    "\n",
    "# plot\n",
    "newfig()\n",
    "M.plot(rotate=(30,80))\n",
    "M.plotx(x,color=\"blue\")\n",
    "M.plotx(x2,color=\"red\")\n",
    "M.plot_path(zip(us,charts),v_steps=np.arange(0,n_steps.eval(),5),linewidth=1.5,s=50)\n",
    "plt.show()"
   ]
  },
  {
   "cell_type": "markdown",
   "metadata": {},
   "source": [
    "# Horizontal Vector Fields"
   ]
  },
  {
   "cell_type": "code",
   "execution_count": null,
   "metadata": {
    "ExecuteTime": {
     "end_time": "2021-03-15T13:31:06.866895Z",
     "start_time": "2021-03-15T13:31:06.639359Z"
    },
    "scrolled": false
   },
   "outputs": [],
   "source": [
    "def plotHorizontal(u,color='b',color_intensity=1.,linewidth=3.,prevx=None,last=True):\n",
    "        chart = u[1]    \n",
    "        x = (u[0][0:M.dim.eval()],chart)\n",
    "        nu = u[0][M.dim.eval():].reshape((M.dim.eval(),-1))\n",
    "        xM = M.Ff(x)\n",
    "        \n",
    "        ax = plt.gca()\n",
    "        \n",
    "        # plot frame and horizontal variation\n",
    "        M.plotx(x)\n",
    "        Hu = M.Horizontalf(u) # horizontal basis fields\n",
    "        print(\"Hu:\",Hu)\n",
    "        Hnu = Hu[M.dim.eval():].reshape((M.dim.eval(),nu.shape[1],nu.shape[1])) # nu part\n",
    "        JFx = M.JFf(x)\n",
    "        for j in range(M.dim.eval()):\n",
    "            nujM = np.dot(JFx,nu[:,j])\n",
    "            HnujM = np.dot(JFx,np.dot(Hnu,nu[:,j]))\n",
    "            ax.quiver(xM[0],xM[1],xM[2],nujM[0],nujM[1],nujM[2], pivot='tail',\n",
    "                      arrow_length_ratio = 0.15, linewidths=1,\n",
    "                      color='black',normalize=True,length=np.linalg.norm(nujM))\n",
    "            for k in range(nu.shape[1]):\n",
    "                basep = xM + nujM\n",
    "                ax.quiver(basep[0],basep[1],basep[2],\n",
    "                          HnujM[0,k],HnujM[1,k],HnujM[2,k], pivot='tail',linewidths=2.,\n",
    "                          color='red',normalize=True,length=0.3)\n",
    "\n",
    "\n",
    "# plot horizontal vector fields\n",
    "newfig()\n",
    "M.plot()\n",
    "plotHorizontal(u)\n",
    "plt.show()"
   ]
  }
 ],
 "metadata": {
  "kernelspec": {
   "display_name": "Python 3",
   "language": "python",
   "name": "python3"
  },
  "language_info": {
   "codemirror_mode": {
    "name": "ipython",
    "version": 3
   },
   "file_extension": ".py",
   "mimetype": "text/x-python",
   "name": "python",
   "nbconvert_exporter": "python",
   "pygments_lexer": "ipython3",
   "version": "3.6.3"
  }
 },
 "nbformat": 4,
 "nbformat_minor": 1
}
