{
 "cells": [
  {
   "cell_type": "code",
   "execution_count": null,
   "metadata": {
    "ExecuteTime": {
     "end_time": "2021-01-21T13:46:18.495506Z",
     "start_time": "2021-01-21T13:46:18.491407Z"
    }
   },
   "outputs": [],
   "source": [
    "# # This file is part of Theano Geometry\n",
    "#\n",
    "# Copyright (C) 2017, Stefan Sommer (sommer@di.ku.dk)\n",
    "# https://bitbucket.org/stefansommer/theanogemetry\n",
    "#\n",
    "# Theano Geometry is free software: you can redistribute it and/or modify\n",
    "# it under the terms of the GNU General Public License as published by\n",
    "# the Free Software Foundation, either version 3 of the License, or\n",
    "# (at your option) any later version.\n",
    "#\n",
    "# Theano Geometry is distributed in the hope that it will be useful,\n",
    "# but WITHOUT ANY WARRANTY; without even the implied warranty of\n",
    "# MERCHANTABILITY or FITNESS FOR A PARTICULAR PURPOSE.  See the\n",
    "# GNU General Public License for more details.\n",
    "#\n",
    "# You should have received a copy of the GNU General Public License\n",
    "# along with Theano Geometry. If not, see <http://www.gnu.org/licenses/>.\n",
    "#"
   ]
  },
  {
   "cell_type": "markdown",
   "metadata": {
    "collapsed": true
   },
   "source": [
    "# Simulation of Conditioned Diffusions on Riemannian Manifolds\n",
    "\n",
    "Mathias Højgaard Jensen and Stefan Sommer"
   ]
  },
  {
   "cell_type": "markdown",
   "metadata": {},
   "source": [
    "# $S^2$"
   ]
  },
  {
   "cell_type": "code",
   "execution_count": null,
   "metadata": {
    "ExecuteTime": {
     "end_time": "2021-01-21T13:46:18.506239Z",
     "start_time": "2021-01-21T13:46:18.498496Z"
    }
   },
   "outputs": [],
   "source": [
    "%cd .."
   ]
  },
  {
   "cell_type": "code",
   "execution_count": null,
   "metadata": {
    "ExecuteTime": {
     "end_time": "2021-01-21T13:48:29.666500Z",
     "start_time": "2021-01-21T13:46:18.508796Z"
    },
    "scrolled": false
   },
   "outputs": [],
   "source": [
    "from src.manifolds.S2 import *\n",
    "M = S2()\n",
    "print(M)\n",
    "\n",
    "from src.plotting import *\n",
    "\n",
    "# Riemannian structure\n",
    "from src.Riemannian import metric\n",
    "metric.initialize(M)\n",
    "\n",
    "# geodesics\n",
    "from src.Riemannian import geodesic\n",
    "geodesic.initialize(M)\n",
    "\n",
    "x = M.coordsf([0.,0.])"
   ]
  },
  {
   "cell_type": "code",
   "execution_count": null,
   "metadata": {
    "ExecuteTime": {
     "end_time": "2021-01-21T13:49:02.230970Z",
     "start_time": "2021-01-21T13:48:29.668495Z"
    }
   },
   "outputs": [],
   "source": [
    "# Brownian motion, coordinate form\n",
    "from src.stochastics import Brownian_coords\n",
    "Brownian_coords.initialize(M,do_chart_update=M.do_chart_update)"
   ]
  },
  {
   "cell_type": "code",
   "execution_count": null,
   "metadata": {
    "ExecuteTime": {
     "end_time": "2021-01-21T13:50:58.144867Z",
     "start_time": "2021-01-21T13:49:02.232549Z"
    },
    "scrolled": false
   },
   "outputs": [],
   "source": [
    "# Delyon/Hu guided process\n",
    "from src.stochastics.guided_process import *\n",
    "\n",
    "# guide function\n",
    "Cholesky = T.slinalg.Cholesky()\n",
    "phi = lambda q,v: T.tensordot(Cholesky(M.gsharp(q)).T,M.StdLog(q,v).flatten(),(1,0))\n",
    "\n",
    "# plot guiding field\n",
    "M.newfig()\n",
    "M.plot_field(lambda x: .2*M.StdLogf(x,tensor([0,0,-1])))\n",
    "plt.show()\n",
    "\n",
    "(Brownian_coords_guided,Brownian_coords_guidedf) = get_guided_likelihood(\n",
    "    M,M.sde_Brownian_coords,phi,lambda x: Cholesky(M.gsharp(x)),\n",
    "    use_charts=True,chart_update=M.chart_update_Brownian_coords)   \n",
    "\n",
    "n_steps.set_value(1000)\n",
    "\n",
    "w = M.Ff(M.Expf(x,tensor(np.array([.8,-.5]))))\n",
    "(ts,xs,charts,log_likelihood,log_varphi) = Brownian_coords_guidedf(x,w,dWsf(M.dim.eval()))[:5]\n",
    "print(\"log likelihood: \", log_likelihood[-1], \", log varphi: \", log_varphi[-1])\n",
    "\n",
    "# plot\n",
    "newfig()\n",
    "M.plot()\n",
    "M.plot_path(zip(xs,charts))\n",
    "M.plotx(x,color='r',s=150)\n",
    "M.plotx(w,color='k',s=150)\n",
    "plt.show()\n",
    "\n",
    "# plot multiple bridges\n",
    "N = 5\n",
    "w = M.Ff(M.Expf(x,tensor(np.array([.1,-.8]))))\n",
    "xss = tensor(np.zeros((N,n_steps.eval(),M.dim.eval())))\n",
    "chartss = tensor(np.zeros((N,n_steps.eval(),x[1].shape[0])))\n",
    "for i in range(N):\n",
    "    (ts,xs,charts,log_likelihood,log_varphi) = Brownian_coords_guidedf(x,w,dWsf(M.dim.eval()))[:5]\n",
    "    xss[i] = xs\n",
    "    chartss[i] = charts\n",
    "\n",
    "# plot\n",
    "M.newfig()\n",
    "M.plot()\n",
    "colormap = plt.get_cmap('winter')\n",
    "colors=[colormap(k) for k in np.linspace(0, 1, N)]\n",
    "for i in range(N):\n",
    "    M.plot_path(zip(xss[i],chartss[i]),color=colors[i])\n",
    "M.plotx(x,color='r',s=100)\n",
    "M.plotx(w,color='k',s=100)\n",
    "plt.savefig('S2_bridges.pdf')\n",
    "plt.show()"
   ]
  },
  {
   "cell_type": "code",
   "execution_count": null,
   "metadata": {
    "ExecuteTime": {
     "end_time": "2021-01-21T13:51:05.273048Z",
     "start_time": "2021-01-21T13:50:58.146589Z"
    }
   },
   "outputs": [],
   "source": [
    "# plot multiple bridges\n",
    "N = 1\n",
    "w = M.Ff(M.Expf(x,tensor(np.array([.1,-.8]))))\n",
    "xss = tensor(np.zeros((N,n_steps.eval(),M.dim.eval())))\n",
    "chartss = tensor(np.zeros((N,n_steps.eval(),x[1].shape[0])))\n",
    "for i in range(N):\n",
    "    (ts,xs,charts,log_likelihood,log_varphi) = Brownian_coords_guidedf(x,w,.0*dWsf(M.dim.eval()))[:5]\n",
    "    xss[i] = xs\n",
    "    chartss[i] = charts\n",
    "\n",
    "# plot\n",
    "M.newfig()\n",
    "M.plot()\n",
    "colormap = plt.get_cmap('winter')\n",
    "colors=[colormap(k) for k in np.linspace(0, 1, N)]\n",
    "for i in range(N):\n",
    "    M.plot_path(zip(xss[i],chartss[i]),color=colors[i])\n",
    "M.plotx(x,color='r',s=100)\n",
    "M.plotx(w,color='k',s=100)\n",
    "plt.savefig('S2_bridges.pdf')\n",
    "plt.show()"
   ]
  },
  {
   "cell_type": "code",
   "execution_count": null,
   "metadata": {
    "ExecuteTime": {
     "end_time": "2021-01-21T13:51:54.251857Z",
     "start_time": "2021-01-21T13:51:05.274855Z"
    }
   },
   "outputs": [],
   "source": [
    "## Sample Data\n",
    "\n",
    "var = .4\n",
    "n_steps.set_value(100)\n",
    "\n",
    "N_samples = 256\n",
    "\n",
    "samples = tensor(np.zeros((N_samples,M.dim.eval())))\n",
    "charts = tensor(np.zeros((N_samples,x[1].shape[0])))\n",
    "for i in range(N_samples):\n",
    "    (ts,xs,_charts) = M.Brownian_coordsf(x,var*dWsf(M.dim.eval()))\n",
    "    samples[i] = xs[-1]\n",
    "    charts[i] = _charts[-1]\n",
    "\n",
    "obss = np.hstack((samples,charts))\n",
    "    \n",
    "# plot\n",
    "newfig()\n",
    "M.plot()\n",
    "for i in range(N_samples):\n",
    "    M.plotx((samples[i],charts[i]))\n",
    "plt.show()"
   ]
  },
  {
   "cell_type": "code",
   "execution_count": null,
   "metadata": {
    "ExecuteTime": {
     "end_time": "2021-01-21T14:00:56.562278Z",
     "start_time": "2021-01-21T13:51:54.253946Z"
    }
   },
   "outputs": [],
   "source": [
    "# setup for ML mean estimation\n",
    "\n",
    "options = {}\n",
    "options['samples_per_obs'] = 1\n",
    "options['epochs'] = 75\n",
    "options['learning_rate'] = .5e-0\n",
    "options['varphi_update_rate'] = 1.\n",
    "options['initial'] = [M.update_coordsf(x,M.chartf())[0]+.1*np.random.randn(M.dim.eval())]\n",
    "options['verbose'] = True\n",
    "\n",
    "# transition density etc.\n",
    "q0 = M.sym_coords()\n",
    "v = M.sym_coords()\n",
    "chart = M.sym_chart()\n",
    "thetas = (q0,)\n",
    "_log_p_Tf = theano.function([q0,chart,v],log_p_T((q0,chart),v,dWs(M.dim),Brownian_coords_guided,phi,options,sde=M.sde_Brownian_coords,F=M.F,use_charts=True))\n",
    "_dlog_p_Tf = theano.function([q0,chart,v],dlog_p_T(thetas,(q0,chart),v,dWs(M.dim),Brownian_coords_guided,phi,options,sde=M.sde_Brownian_coords,F=M.F,use_charts=True))\n",
    "_p_Tf = theano.function([q0,chart,v],T.exp(log_p_T((q0,chart),v,dWs(M.dim),Brownian_coords_guided,phi,options,sde=M.sde_Brownian_coords,F=M.F,use_charts=True)))\n",
    "log_p_Tf = lambda x,v: _log_p_Tf(x[0],x[1],v)\n",
    "dlog_p_Tf = lambda x,v: _dlog_p_Tf(x[0],x[1],v)\n",
    "p_Tf = lambda x,v: _p_Tf(x[0],x[1],v)\n",
    "\n",
    "v = x\n",
    "print(x)\n",
    "print(v)\n",
    "%time print(log_p_Tf(x,v[0]))\n",
    "%time print(p_Tf(x,v[0]))\n",
    "%time print(dlog_p_Tf(x,v[0]+.1*np.random.randn(M.dim.eval())))\n",
    "\n",
    "from src.statistics.mle import *\n",
    "\n",
    "def llog_p_T(thetas,pars):\n",
    "    (obs,seed) = pars\n",
    "    if seed:\n",
    "        srng.seed(seed)\n",
    "    v = (obs[0:M.dim.eval()],obs[M.dim.eval():])\n",
    "    q = M.coordsf(thetas[0])\n",
    "    qchartv = M.update_coordsf(q,v[1])\n",
    "    res = dlog_p_Tf(qchartv,v[0])\n",
    "    return (res[0],M.update_vectorf(qchartv,q,res[1]))\n",
    "\n",
    "def update_thetas(thetas, dthetas):\n",
    "    q = (thetas[0],M.chartf())\n",
    "    \n",
    "    new_q = q[0]+options['learning_rate']*np.dot(M.gsharpf(q),dthetas[0]) # use Riemannian g-gradient\n",
    "    \n",
    "    return (new_q,)"
   ]
  },
  {
   "cell_type": "code",
   "execution_count": null,
   "metadata": {
    "ExecuteTime": {
     "end_time": "2021-01-21T14:01:02.145345Z",
     "start_time": "2021-01-21T14:00:56.564956Z"
    },
    "scrolled": false
   },
   "outputs": [],
   "source": [
    "pts = 20\n",
    "phi, theta = np.meshgrid(0.,np.linspace(np.pi/2,-np.pi/2+1e-2,pts))\n",
    "phitheta = np.vstack([phi.ravel(), theta.ravel()]).T\n",
    "xs = np.apply_along_axis(M.F_sphericalf,1,phitheta)\n",
    "\n",
    "# plot points\n",
    "newfig()\n",
    "M.plot()\n",
    "M.plotx(x,color='r',s=100)\n",
    "for i in range(xs.shape[0]):\n",
    "    M.plotx((M.invFf((xs[i],x[1])),x[1]))\n",
    "\n",
    "# compute transition density\n",
    "fs = np.apply_along_axis(lambda v: p_Tf(x,M.invFf((v,x[1]))),1,xs)\n",
    "\n",
    "newfig2d()\n",
    "plt.plot(-theta,fs)"
   ]
  },
  {
   "cell_type": "code",
   "execution_count": null,
   "metadata": {
    "ExecuteTime": {
     "end_time": "2021-01-21T14:03:05.310664Z",
     "start_time": "2021-01-21T14:01:02.147214Z"
    },
    "scrolled": false
   },
   "outputs": [],
   "source": [
    "# transition density plot\n",
    "newfig()\n",
    "plot_sphere_f(M,lambda v: p_Tf(x,M.invFf((v,x[1]))),alpha=.8,pts=100,parallel=True,vmin=0.)\n",
    "# plt.savefig('sphere_pT.pdf') # transition density plot\n",
    "plt.show()"
   ]
  },
  {
   "cell_type": "code",
   "execution_count": null,
   "metadata": {
    "ExecuteTime": {
     "end_time": "2021-01-21T14:32:39.759127Z",
     "start_time": "2021-01-21T14:03:05.312965Z"
    },
    "scrolled": false
   },
   "outputs": [],
   "source": [
    "# run MLE\n",
    "n_steps.set_value(50)\n",
    "(thetas, log_likelihood, log_likelihoods, thetass) = iterative_mle(obss,llog_p_T,update_thetas,options)\n",
    "\n",
    "# plot\n",
    "plt.plot(range(options['epochs']),log_likelihoods)\n",
    "# plt.savefig('ML_likelihoods.pdf')\n",
    "plt.show()\n",
    "plt.plot(range(options['epochs']),thetass[0].reshape((thetass[0].shape[0],-1)))\n",
    "# plt.savefig('ML_thetas.pdf')\n",
    "plt.show()\n",
    "\n",
    "M.newfig()\n",
    "M.plot()\n",
    "M.plotx(M.coordsf(options['initial'][0]),color='k',s=100)\n",
    "M.plotx(M.coordsf(thetass[0][-1]),color='b',s=100)\n",
    "M.plotx(x,color='r',s=100)\n",
    "M.plot_path([M.coordsf(thetass[0][i]) for i in range(options['epochs'])],color='b',linewidth=2.5)\n",
    "\n",
    "plt.savefig('MLmean_iterations.pdf')\n",
    "plt.show()\n",
    "\n",
    "n_steps.set_value(100)"
   ]
  },
  {
   "cell_type": "code",
   "execution_count": null,
   "metadata": {},
   "outputs": [],
   "source": []
  }
 ],
 "metadata": {
  "kernelspec": {
   "display_name": "Python 3",
   "language": "python",
   "name": "python3"
  },
  "language_info": {
   "codemirror_mode": {
    "name": "ipython",
    "version": 3
   },
   "file_extension": ".py",
   "mimetype": "text/x-python",
   "name": "python",
   "nbconvert_exporter": "python",
   "pygments_lexer": "ipython3",
   "version": "3.6.3"
  }
 },
 "nbformat": 4,
 "nbformat_minor": 1
}
