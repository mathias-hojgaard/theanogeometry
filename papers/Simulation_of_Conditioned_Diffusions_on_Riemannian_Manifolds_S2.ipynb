{
 "cells": [
  {
   "cell_type": "code",
   "execution_count": null,
   "metadata": {
    "ExecuteTime": {
     "end_time": "2021-04-23T11:47:46.780208Z",
     "start_time": "2021-04-23T11:47:46.775692Z"
    }
   },
   "outputs": [],
   "source": [
    "# # This file is part of Theano Geometry\n",
    "#\n",
    "# Copyright (C) 2017, Stefan Sommer (sommer@di.ku.dk)\n",
    "# https://bitbucket.org/stefansommer/theanogemetry\n",
    "#\n",
    "# Theano Geometry is free software: you can redistribute it and/or modify\n",
    "# it under the terms of the GNU General Public License as published by\n",
    "# the Free Software Foundation, either version 3 of the License, or\n",
    "# (at your option) any later version.\n",
    "#\n",
    "# Theano Geometry is distributed in the hope that it will be useful,\n",
    "# but WITHOUT ANY WARRANTY; without even the implied warranty of\n",
    "# MERCHANTABILITY or FITNESS FOR A PARTICULAR PURPOSE.  See the\n",
    "# GNU General Public License for more details.\n",
    "#\n",
    "# You should have received a copy of the GNU General Public License\n",
    "# along with Theano Geometry. If not, see <http://www.gnu.org/licenses/>.\n",
    "#"
   ]
  },
  {
   "cell_type": "markdown",
   "metadata": {
    "collapsed": true
   },
   "source": [
    "# Simulation of Conditioned Diffusions on Riemannian Manifolds\n",
    "\n",
    "Mathias Højgaard Jensen and Stefan Sommer"
   ]
  },
  {
   "cell_type": "markdown",
   "metadata": {},
   "source": [
    "# $S^2$"
   ]
  },
  {
   "cell_type": "code",
   "execution_count": null,
   "metadata": {
    "ExecuteTime": {
     "end_time": "2021-04-23T11:47:46.790752Z",
     "start_time": "2021-04-23T11:47:46.783412Z"
    }
   },
   "outputs": [],
   "source": [
    "%cd .."
   ]
  },
  {
   "cell_type": "code",
   "execution_count": null,
   "metadata": {
    "ExecuteTime": {
     "end_time": "2021-04-23T11:50:41.021214Z",
     "start_time": "2021-04-23T11:47:46.793037Z"
    },
    "scrolled": false
   },
   "outputs": [],
   "source": [
    "from src.manifolds.S2 import *\n",
    "M = S2()\n",
    "# M = Ellipsoid([.8,1.2,.8])\n",
    "print(M)\n",
    "\n",
    "from src.plotting import *\n",
    "\n",
    "# Riemannian structure\n",
    "from src.Riemannian import metric\n",
    "metric.initialize(M)\n",
    "\n",
    "# geodesics\n",
    "from src.Riemannian import geodesic\n",
    "geodesic.initialize(M)\n",
    "\n",
    "x = M.coordsf([0.,0.])"
   ]
  },
  {
   "cell_type": "code",
   "execution_count": null,
   "metadata": {
    "ExecuteTime": {
     "end_time": "2021-04-23T11:51:13.737512Z",
     "start_time": "2021-04-23T11:50:41.023698Z"
    }
   },
   "outputs": [],
   "source": [
    "# Brownian motion, coordinate form\n",
    "from src.stochastics import Brownian_coords\n",
    "Brownian_coords.initialize(M)"
   ]
  },
  {
   "cell_type": "code",
   "execution_count": null,
   "metadata": {
    "ExecuteTime": {
     "end_time": "2021-04-23T11:53:14.966088Z",
     "start_time": "2021-04-23T11:51:13.739663Z"
    },
    "scrolled": false
   },
   "outputs": [],
   "source": [
    "# Delyon/Hu guided process\n",
    "from src.stochastics.guided_process import *\n",
    "\n",
    "# guide function\n",
    "Cholesky = T.slinalg.Cholesky()\n",
    "phi = lambda q,v: T.tensordot(Cholesky(M.g(q)).T,M.StdLog(q,v).flatten(),(1,0))\n",
    "\n",
    "# plot guiding field\n",
    "M.newfig()\n",
    "M.plot_field(lambda x: .2*M.StdLogf(x,tensor([0,0,-1])))\n",
    "plt.show()\n",
    "\n",
    "(Brownian_coords_guided,Brownian_coords_guidedf) = get_guided_likelihood(\n",
    "    M,M.sde_Brownian_coords,phi,lambda x: Cholesky(M.gsharp(x)),A=lambda x,v,w: T.tensordot(v,T.tensordot(M.g(x),w,1),1),\n",
    "    use_charts=True,chart_update=M.chart_update_Brownian_coords)   \n",
    "\n",
    "n_steps.set_value(1000)\n",
    "\n",
    "w = M.Ff(M.Expf(x,tensor(np.array([.8,-.5]))))\n",
    "(ts,xs,charts,log_likelihood,log_varphi) = Brownian_coords_guidedf(x,w,dWsf(M.dim.eval()))[:5]\n",
    "print(\"log likelihood: \", log_likelihood[-1], \", log varphi: \", log_varphi[-1])\n",
    "\n",
    "# plot\n",
    "newfig()\n",
    "M.plot()\n",
    "M.plot_path(zip(xs,charts))\n",
    "M.plotx(x,color='r',s=150)\n",
    "M.plotx(w,color='k',s=150)\n",
    "plt.show()\n",
    "\n",
    "# plot multiple bridges\n",
    "N = 5\n",
    "w = M.Ff(M.Expf(x,tensor(np.array([.1,-.8]))))\n",
    "xss = tensor(np.zeros((N,n_steps.eval(),M.dim.eval())))\n",
    "chartss = tensor(np.zeros((N,n_steps.eval(),x[1].shape[0])))\n",
    "for i in range(N):\n",
    "    (ts,xs,charts,log_likelihood,log_varphi) = Brownian_coords_guidedf(x,w,dWsf(M.dim.eval()))[:5]\n",
    "    xss[i] = xs\n",
    "    chartss[i] = charts\n",
    "    print(i, \" log likelihood: \", log_likelihood[-1], \", log varphi: \", log_varphi[-1])\n",
    "\n",
    "# plot\n",
    "M.newfig()\n",
    "M.plot()\n",
    "colormap = plt.get_cmap('winter')\n",
    "colors=[colormap(k) for k in np.linspace(0, 1, N)]\n",
    "for i in range(N):\n",
    "    M.plot_path(zip(xss[i],chartss[i]),color=colors[i])\n",
    "M.plotx(x,color='r',s=100)\n",
    "M.plotx(w,color='k',s=100)\n",
    "plt.savefig('S2_bridges.pdf')\n",
    "plt.show()"
   ]
  },
  {
   "cell_type": "code",
   "execution_count": null,
   "metadata": {
    "ExecuteTime": {
     "end_time": "2021-04-23T11:53:44.015823Z",
     "start_time": "2021-04-23T11:53:14.968892Z"
    },
    "scrolled": false
   },
   "outputs": [],
   "source": [
    "# plot multiple bridges, lower noise\n",
    "N = 5\n",
    "w = M.Ff(M.Expf(x,tensor(np.array([.1,-.8]))))\n",
    "xss = tensor(np.zeros((N,n_steps.eval(),M.dim.eval())))\n",
    "chartss = tensor(np.zeros((N,n_steps.eval(),x[1].shape[0])))\n",
    "for i in range(N):\n",
    "    (ts,xs,charts,log_likelihood,log_varphi) = Brownian_coords_guidedf(x,w,.2*dWsf(M.dim.eval()))[:5]\n",
    "    xss[i] = xs\n",
    "    chartss[i] = charts\n",
    "# plot\n",
    "M.newfig()\n",
    "M.plot()\n",
    "colormap = plt.get_cmap('winter')\n",
    "colors=[colormap(k) for k in np.linspace(0, 1, N)]\n",
    "for i in range(N):\n",
    "    M.plot_path(zip(xss[i],chartss[i]),color=colors[i])\n",
    "M.plotx(x,color='r',s=100)\n",
    "M.plotx(w,color='k',s=100)\n",
    "plt.savefig('S2_bridges.pdf')\n",
    "plt.show()"
   ]
  },
  {
   "cell_type": "code",
   "execution_count": null,
   "metadata": {
    "ExecuteTime": {
     "end_time": "2021-04-23T11:54:30.588713Z",
     "start_time": "2021-04-23T11:53:44.018058Z"
    }
   },
   "outputs": [],
   "source": [
    "## Sample Data\n",
    "\n",
    "var = .4\n",
    "n_steps.set_value(100)\n",
    "\n",
    "N_samples = 256\n",
    "\n",
    "samples = tensor(np.zeros((N_samples,M.dim.eval())))\n",
    "charts = tensor(np.zeros((N_samples,x[1].shape[0])))\n",
    "for i in range(N_samples):\n",
    "    (ts,xs,_charts) = M.Brownian_coordsf(x,var*dWsf(M.dim.eval()))\n",
    "    samples[i] = xs[-1]\n",
    "    charts[i] = _charts[-1]\n",
    "\n",
    "obss = np.hstack((samples,charts))\n",
    "    \n",
    "# plot\n",
    "newfig()\n",
    "M.plot()\n",
    "for i in range(N_samples):\n",
    "    M.plotx((samples[i],charts[i]))\n",
    "plt.show()"
   ]
  },
  {
   "cell_type": "code",
   "execution_count": null,
   "metadata": {
    "ExecuteTime": {
     "end_time": "2021-04-23T11:56:10.774837Z",
     "start_time": "2021-04-23T11:54:30.590614Z"
    }
   },
   "outputs": [],
   "source": [
    "# setup for approximate likelihood computation\n",
    "\n",
    "options = {}\n",
    "options['samples_per_obs'] = 100\n",
    "options['verbose'] = True\n",
    "\n",
    "# transition density etc.\n",
    "q0 = M.sym_coords()\n",
    "v = M.sym_coords()\n",
    "chart = M.sym_chart()\n",
    "thetas = (q0,)\n",
    "_p_Tf = theano.function([q0,chart,v],T.exp(log_p_T((q0,chart),v,.7*dWs(M.dim),Brownian_coords_guided,phi,options,sde=M.sde_Brownian_coords,F=M.F,use_charts=True)))\n",
    "p_Tf = lambda x,v: _p_Tf(x[0],x[1],v)"
   ]
  },
  {
   "cell_type": "code",
   "execution_count": null,
   "metadata": {
    "ExecuteTime": {
     "end_time": "2021-04-23T12:32:09.543143Z",
     "start_time": "2021-04-23T11:56:10.776958Z"
    },
    "scrolled": false
   },
   "outputs": [],
   "source": [
    "# compare density with heat kernel expansion, S^2 only\n",
    "if isinstance(M,S2):\n",
    "\n",
    "    #### Generalized heat equation on S^m, for m >= 2\n",
    "    import scipy.special as ss\n",
    "\n",
    "    def vol(d):\n",
    "        return 2*np.pi**((d+1)/2)/ss.gamma((d+1)/2)\n",
    "\n",
    "    def Ep(t,n,d):\n",
    "        return (2*n+d-1)*np.exp(-n*(n+d-1)*t/2)\n",
    "\n",
    "    #### The heat kernel where \n",
    "    # - z is the inner product of x and y\n",
    "    # - t is the time/variance parameter\n",
    "    # - D is the number of terms in the approximation \n",
    "    # - d is the dimension of the sphere \n",
    "    # - l is the number of derivatives\n",
    "\n",
    "    def h(z,t,D,d,l):\n",
    "        tmp = 0\n",
    "        for i in range(l,D+1):\n",
    "            f = ss.gegenbauer(i-l,(d-1)/2+l)   ### For d=2 Gegenbauer polynomials are Legendre pol\n",
    "            tmp += Ep(t,i,d)*f(z)\n",
    "        x = ss.poch(d-1,l)*tmp/((d-1)*vol(d))   ## For l = 0 ss.poch(n,0)== 1 for any n\n",
    "        if l == 0:\n",
    "            x = abs(x)\n",
    "        return x                            #including abs because of numerical errors\n",
    "\n",
    "    '''\n",
    "    Spherical heat kernel\n",
    "    '''\n",
    "    def heat_kernel(x,y,t,D=15):\n",
    "        tmp = h(np.inner(x,y), t, D, len(x)-1,0)\n",
    "        return tmp\n",
    "\n",
    "    # generate points and plot\n",
    "    pts = 25\n",
    "    _phi, theta = np.meshgrid(0.,np.linspace(np.pi/2,-np.pi/2-1e-2,pts))\n",
    "    phitheta = np.vstack([_phi.ravel(), theta.ravel()]).T\n",
    "    xs = np.apply_along_axis(M.F_sphericalf,1,phitheta)\n",
    "\n",
    "    # plot points\n",
    "    newfig()\n",
    "    M.plot()\n",
    "    M.plotx(x,color='r',s=100)\n",
    "    for i in range(xs.shape[0]):\n",
    "        M.plotx((M.invFf((xs[i],x[1])),x[1]))\n",
    "\n",
    "    # for comparison\n",
    "    def BMdensityR2(x,t):\n",
    "        return (2*np.pi)**(-2/2)*(t**2)**(-1/2)*np.exp(-x**2/(2*t))\n",
    "\n",
    "    n_steps.set_value(100)\n",
    "\n",
    "    # compute transition density for different T\n",
    "    plt.figure()\n",
    "    ts = np.array([.5,1.,1.5])\n",
    "    markers = ['.','-','--']\n",
    "    for i in range(len(ts)):\n",
    "        t = ts[i]\n",
    "        print(t)\n",
    "        Tend.set_value(t)\n",
    "\n",
    "        # density from bridge sampling\n",
    "        fs = np.apply_along_axis(lambda v: p_Tf(x,M.invFf((v,x[1]))),1,xs)\n",
    "        print(fs)\n",
    "        plt.plot(np.pi/2-theta,fs,'r'+markers[i])\n",
    "\n",
    "    #     # Euclidean 2d density\n",
    "    #     fs = np.apply_along_axis(lambda v: BMdensityR2(v,t),0,np.linspace(0,np.pi,pts))\n",
    "    #     plt.plot(np.pi/2-theta,fs,'g'+markers[i])    \n",
    "\n",
    "        # actual spherical heat kernel density\n",
    "        fs = np.apply_along_axis(lambda v: heat_kernel(M.Ff(x),v,t),1,xs)\n",
    "        plt.plot(np.pi/2-theta,fs,'b'+markers[i])    \n",
    "\n",
    "    plt.ylim((0.,.40))\n",
    "    plt.xlim((0,np.pi))\n",
    "    Tend.set_value(1.)"
   ]
  },
  {
   "cell_type": "code",
   "execution_count": null,
   "metadata": {
    "ExecuteTime": {
     "end_time": "2021-04-23T12:47:36.428251Z",
     "start_time": "2021-04-23T12:32:09.545203Z"
    },
    "scrolled": false
   },
   "outputs": [],
   "source": [
    "# transition density plot\n",
    "\n",
    "# set parameters for transition density approximation\n",
    "options = {}\n",
    "options['samples_per_obs'] = 2\n",
    "q0 = M.sym_coords()\n",
    "v = M.sym_coords()\n",
    "chart = M.sym_chart()\n",
    "thetas = (q0,)\n",
    "_p_Tf = theano.function([q0,chart,v],T.exp(log_p_T((q0,chart),v,.7*dWs(M.dim),Brownian_coords_guided,phi,options,sde=M.sde_Brownian_coords,F=M.F,use_charts=True)))\n",
    "p_Tf = lambda x,v: _p_Tf(x[0],x[1],v)\n",
    "\n",
    "for t in np.array([.5,1.,2.]):\n",
    "    Tend.set_value(t)\n",
    "    \n",
    "    newfig()\n",
    "    plot_sphere_f(M,lambda v: p_Tf(x,M.invFf((M.params.eval()*v,x[1]))),alpha=.8,pts=100,parallel=True,vmin=0.)\n",
    "    # plt.savefig('sphere_pT.pdf') # transition density plot\n",
    "    plt.show()\n",
    "Tend.set_value(1.)    "
   ]
  },
  {
   "cell_type": "code",
   "execution_count": null,
   "metadata": {
    "ExecuteTime": {
     "end_time": "2021-04-23T12:57:50.275661Z",
     "start_time": "2021-04-23T12:47:36.430160Z"
    }
   },
   "outputs": [],
   "source": [
    "# setup for ML mean estimation\n",
    "\n",
    "options = {}\n",
    "options['samples_per_obs'] = 1\n",
    "options['epochs'] = 75\n",
    "options['learning_rate'] = .5e-0\n",
    "options['varphi_update_rate'] = 1.\n",
    "options['initial'] = [M.update_coordsf(x,M.chartf())[0]+.1*np.random.randn(M.dim.eval())]\n",
    "options['verbose'] = True\n",
    "\n",
    "# transition density etc.\n",
    "q0 = M.sym_coords()\n",
    "v = M.sym_coords()\n",
    "chart = M.sym_chart()\n",
    "thetas = (q0,)\n",
    "_log_p_Tf = theano.function([q0,chart,v],log_p_T((q0,chart),v,dWs(M.dim),Brownian_coords_guided,phi,options,sde=M.sde_Brownian_coords,F=M.F,use_charts=True))\n",
    "_dlog_p_Tf = theano.function([q0,chart,v],dlog_p_T(thetas,(q0,chart),v,dWs(M.dim),Brownian_coords_guided,phi,options,sde=M.sde_Brownian_coords,F=M.F,use_charts=True))\n",
    "_p_Tf = theano.function([q0,chart,v],T.exp(log_p_T((q0,chart),v,.7*dWs(M.dim),Brownian_coords_guided,phi,options,sde=M.sde_Brownian_coords,F=M.F,use_charts=True)))\n",
    "log_p_Tf = lambda x,v: _log_p_Tf(x[0],x[1],v)\n",
    "dlog_p_Tf = lambda x,v: _dlog_p_Tf(x[0],x[1],v)\n",
    "p_Tf = lambda x,v: _p_Tf(x[0],x[1],v)\n",
    "\n",
    "v = x\n",
    "print(x)\n",
    "print(v)\n",
    "%time print(log_p_Tf(x,v[0]))\n",
    "%time print(p_Tf(x,v[0]))\n",
    "%time print(dlog_p_Tf(x,v[0]+.1*np.random.randn(M.dim.eval())))\n",
    "\n",
    "from src.statistics.mle import *\n",
    "\n",
    "def llog_p_T(thetas,pars):\n",
    "    (obs,seed) = pars\n",
    "    if seed:\n",
    "        srng.seed(seed)\n",
    "    v = (obs[0:M.dim.eval()],obs[M.dim.eval():])\n",
    "    q = M.coordsf(thetas[0])\n",
    "    qchartv = M.update_coordsf(q,v[1])\n",
    "    res = dlog_p_Tf(qchartv,v[0])\n",
    "    return (res[0],M.update_vectorf(qchartv,q,res[1]))\n",
    "\n",
    "def update_thetas(thetas, dthetas):\n",
    "    q = (thetas[0],M.chartf())\n",
    "    \n",
    "    new_q = q[0]+options['learning_rate']*np.dot(M.gsharpf(q),dthetas[0]) # use Riemannian g-gradient\n",
    "    \n",
    "    return (new_q,)"
   ]
  },
  {
   "cell_type": "code",
   "execution_count": null,
   "metadata": {
    "ExecuteTime": {
     "start_time": "2021-04-23T11:47:45.657Z"
    },
    "scrolled": false
   },
   "outputs": [],
   "source": [
    "# run MLE\n",
    "n_steps.set_value(50)\n",
    "(thetas, log_likelihood, log_likelihoods, thetass) = iterative_mle(obss,llog_p_T,update_thetas,options)\n",
    "\n",
    "# plot\n",
    "plt.plot(range(options['epochs']),log_likelihoods)\n",
    "# plt.savefig('ML_likelihoods.pdf')\n",
    "plt.show()\n",
    "plt.plot(range(options['epochs']),thetass[0].reshape((thetass[0].shape[0],-1)))\n",
    "# plt.savefig('ML_thetas.pdf')\n",
    "plt.show()\n",
    "\n",
    "M.newfig()\n",
    "M.plot()\n",
    "M.plotx(M.coordsf(options['initial'][0]),color='k',s=100)\n",
    "M.plotx(M.coordsf(thetass[0][-1]),color='b',s=100)\n",
    "M.plotx(x,color='r',s=100)\n",
    "M.plot_path([M.coordsf(thetass[0][i]) for i in range(options['epochs'])],color='b',linewidth=2.5)\n",
    "\n",
    "plt.savefig('MLmean_iterations.pdf')\n",
    "plt.show()\n",
    "\n",
    "n_steps.set_value(100)"
   ]
  },
  {
   "cell_type": "code",
   "execution_count": null,
   "metadata": {},
   "outputs": [],
   "source": []
  }
 ],
 "metadata": {
  "kernelspec": {
   "display_name": "Python 3",
   "language": "python",
   "name": "python3"
  },
  "language_info": {
   "codemirror_mode": {
    "name": "ipython",
    "version": 3
   },
   "file_extension": ".py",
   "mimetype": "text/x-python",
   "name": "python",
   "nbconvert_exporter": "python",
   "pygments_lexer": "ipython3",
   "version": "3.6.3"
  }
 },
 "nbformat": 4,
 "nbformat_minor": 1
}
