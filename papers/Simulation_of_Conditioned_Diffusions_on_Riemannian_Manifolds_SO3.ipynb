{
 "cells": [
  {
   "cell_type": "code",
   "execution_count": null,
   "metadata": {
    "ExecuteTime": {
     "end_time": "2020-06-02T03:42:54.069392Z",
     "start_time": "2020-06-02T03:42:54.065307Z"
    }
   },
   "outputs": [],
   "source": [
    "# # This file is part of Theano Geometry\n",
    "#\n",
    "# Copyright (C) 2017, Stefan Sommer (sommer@di.ku.dk)\n",
    "# https://bitbucket.org/stefansommer/theanogemetry\n",
    "#\n",
    "# Theano Geometry is free software: you can redistribute it and/or modify\n",
    "# it under the terms of the GNU General Public License as published by\n",
    "# the Free Software Foundation, either version 3 of the License, or\n",
    "# (at your option) any later version.\n",
    "#\n",
    "# Theano Geometry is distributed in the hope that it will be useful,\n",
    "# but WITHOUT ANY WARRANTY; without even the implied warranty of\n",
    "# MERCHANTABILITY or FITNESS FOR A PARTICULAR PURPOSE.  See the\n",
    "# GNU General Public License for more details.\n",
    "#\n",
    "# You should have received a copy of the GNU General Public License\n",
    "# along with Theano Geometry. If not, see <http://www.gnu.org/licenses/>.\n",
    "#"
   ]
  },
  {
   "cell_type": "markdown",
   "metadata": {
    "collapsed": true
   },
   "source": [
    "# Simulation of Conditioned Diffusions on Riemannian Manifolds\n",
    "\n",
    "Mathias Højgaard Jensen and Stefan Sommer"
   ]
  },
  {
   "cell_type": "markdown",
   "metadata": {},
   "source": [
    "# SO(3)"
   ]
  },
  {
   "cell_type": "code",
   "execution_count": null,
   "metadata": {
    "ExecuteTime": {
     "end_time": "2020-06-02T03:42:54.081052Z",
     "start_time": "2020-06-02T03:42:54.074276Z"
    }
   },
   "outputs": [],
   "source": [
    "%cd .."
   ]
  },
  {
   "cell_type": "code",
   "execution_count": null,
   "metadata": {
    "ExecuteTime": {
     "end_time": "2020-06-02T03:43:14.194274Z",
     "start_time": "2020-06-02T03:42:54.083315Z"
    }
   },
   "outputs": [],
   "source": [
    "# SO(3)\n",
    "from src.groups.SON import *\n",
    "G = SON(3,invariance='right')\n",
    "print(G)\n",
    "\n",
    "from src.plotting import *"
   ]
  },
  {
   "cell_type": "code",
   "execution_count": null,
   "metadata": {
    "ExecuteTime": {
     "end_time": "2020-06-02T03:44:09.779340Z",
     "start_time": "2020-06-02T03:43:14.197256Z"
    }
   },
   "outputs": [],
   "source": [
    "from src.group import invariant_metric\n",
    "invariant_metric.initialize(G)\n",
    "\n",
    "from src.group import energy\n",
    "energy.initialize(G)"
   ]
  },
  {
   "cell_type": "code",
   "execution_count": null,
   "metadata": {
    "ExecuteTime": {
     "end_time": "2020-06-02T03:44:09.797650Z",
     "start_time": "2020-06-02T03:44:09.781654Z"
    }
   },
   "outputs": [],
   "source": [
    "q = np.array([1e-6,0,0])\n",
    "g = G.psif(q)\n",
    "v = np.array([0,1,1])\n",
    "p = G.sharppsif(q,v)"
   ]
  },
  {
   "cell_type": "code",
   "execution_count": null,
   "metadata": {
    "ExecuteTime": {
     "end_time": "2020-06-02T03:44:16.555156Z",
     "start_time": "2020-06-02T03:44:09.799646Z"
    },
    "scrolled": false
   },
   "outputs": [],
   "source": [
    "# sample data\n",
    "from src.stochastics import Brownian_inv\n",
    "Brownian_inv.initialize(G)\n",
    "\n",
    "G.sigma.set_value(np.diag((1.,.3,1.4))) # set metric\n",
    "K = 16 # 1024\n",
    "obss = np.zeros((K,)+g.shape)\n",
    "# srng.seed(422)\n",
    "for i in range(K):\n",
    "    (ts,gs) = G.Brownian_invf(g,dWsf(G.dim.eval()))\n",
    "    obss[i] = gs[-1]\n",
    "\n",
    "# plot samples\n",
    "newfig()\n",
    "for i in range(K):\n",
    "    G.plotg(obss[i])\n",
    "plt.show()"
   ]
  },
  {
   "cell_type": "code",
   "execution_count": null,
   "metadata": {
    "ExecuteTime": {
     "end_time": "2020-06-02T03:44:44.241872Z",
     "start_time": "2020-06-02T03:44:16.557376Z"
    },
    "scrolled": false
   },
   "outputs": [],
   "source": [
    "# Delyon/Hu guided process\n",
    "from src.stochastics.guided_process import *\n",
    "\n",
    "# parameters\n",
    "g0 = G.sym_element()\n",
    "thetas = (g0, G.sigma,)\n",
    "\n",
    "# guide function\n",
    "# phi = lambda g,v: G.LAtoV(G.invtrns(G.inv(g),v)-G.e)\n",
    "phi = lambda g,v: T.tensordot(G.inv(G.sigma),G.LAtoV(G.log(G.invtrns(G.inv(g),v))),(1,0))\n",
    "\n",
    "(Brownian_inv_guided,Brownian_inv_guidedf) = get_guided_likelihood(\n",
    "    G,G.sde_Brownian_inv,phi,lambda g: G.sigma,\n",
    "    A=G.gG, integration='stratonovich')  \n",
    "\n",
    "w = G.psif(v)\n",
    "(ts,gs,log_likelihood,log_varphi) = Brownian_inv_guidedf(g,w,dWsf(G.dim.eval()))[:4]\n",
    "print(\"log likelihood: \", log_likelihood[-1], \", log varphi: \", log_varphi[-1])\n",
    "\n",
    "newfig()\n",
    "G.plot_path(gs)\n",
    "G.plotg(w,color='k')\n",
    "# plt.savefig('/home/stefan/Dropbox/projects/diffusion/figures/SO3-bridge.pdf')\n",
    "plt.show()"
   ]
  },
  {
   "cell_type": "code",
   "execution_count": null,
   "metadata": {
    "ExecuteTime": {
     "end_time": "2020-06-02T03:44:44.248674Z",
     "start_time": "2020-06-02T03:44:44.244533Z"
    }
   },
   "outputs": [],
   "source": [
    "n_steps.set_value(20)\n",
    "options = {}\n",
    "options['samples_per_obs'] = 2\n",
    "options['epochs'] = 100\n",
    "options['learning_rate'] = 5.e-3\n",
    "options['varphi_update_rate'] = 1.\n",
    "options['verbose'] = True\n",
    "options['initial'] = [g, # random value\n",
    "                      np.diag((.5,.5,.5)),]\n",
    "# options['update_v'] = lambda g: theano.gradient.disconnected_grad(Brownian_inv_fiber(g,dWs(G.dim))[1][-1])\n",
    "# options['update_vf'] = lambda g: Brownian_inv_fiberf(g,dWsf(G.dim.eval()))[1][-1]"
   ]
  },
  {
   "cell_type": "code",
   "execution_count": null,
   "metadata": {
    "ExecuteTime": {
     "end_time": "2020-06-02T03:50:07.571720Z",
     "start_time": "2020-06-02T03:44:44.250438Z"
    },
    "scrolled": false
   },
   "outputs": [],
   "source": [
    "# Transition density\n",
    "v0 = G.sym_element()\n",
    "p_Tf = theano.function([g0,v0],p_T(g0,v0,dWs(G.dim),Brownian_inv_guided,phi,options,sde=G.sde_Brownian_inv,sigma=G.sigma))\n",
    "log_p_Tf = theano.function([g0,v0],log_p_T(g0,v0,dWs(G.dim),Brownian_inv_guided,phi,options,sde=G.sde_Brownian_inv,sigma=G.sigma))\n",
    "dlog_p_Tf = theano.function([g0,v0],dlog_p_T(thetas,g0,v0,dWs(G.dim),Brownian_inv_guided,phi,options,sde=G.sde_Brownian_inv,sigma=G.sigma))\n",
    "\n",
    "# G.sigma.set_value(np.diag((1.,.3,1.6))) # set metric\n",
    "\n",
    "# # on G\n",
    "%time print(p_Tf(g,G.psif(v))) \n",
    "%time print(log_p_Tf(g,G.psif(v))) \n",
    "%time print(dlog_p_Tf(g,G.psif(v)))"
   ]
  },
  {
   "cell_type": "code",
   "execution_count": null,
   "metadata": {
    "ExecuteTime": {
     "end_time": "2020-06-03T13:05:33.023296Z",
     "start_time": "2020-06-03T13:05:26.776590Z"
    },
    "scrolled": false
   },
   "outputs": [],
   "source": [
    "# samples for MLE\n",
    "# G.sigma.set_value(1.*np.eye(G.dim.eval())) # set metric, uniform\n",
    "G.sigma.set_value(np.diag((.2,.2,.8))) # anisotropic\n",
    "K = 128\n",
    "\n",
    "thetas_true = [g]+[G.sigma.eval(),]\n",
    "\n",
    "obss = np.zeros((K,)+g.shape)\n",
    "# srng.seed(422)\n",
    "for i in range(K):\n",
    "    (ts,gs) = G.Brownian_invf(g,dWsf(G.dim.eval()))\n",
    "    obss[i] = gs[-1]\n",
    "\n",
    "# plot samples\n",
    "newfig()\n",
    "for i in range(K):\n",
    "    G.plotg(obss[i])\n",
    "plt.show()"
   ]
  },
  {
   "cell_type": "code",
   "execution_count": null,
   "metadata": {
    "ExecuteTime": {
     "end_time": "2020-06-03T13:23:37.700962Z",
     "start_time": "2020-06-03T13:05:33.025445Z"
    },
    "scrolled": false
   },
   "outputs": [],
   "source": [
    "# on SO(3)\n",
    "from src.statistics.mle import *\n",
    "\n",
    "def llog_p_T(thetas,pars):\n",
    "    (v,seed) = pars\n",
    "    if seed:\n",
    "        srng.seed(seed)\n",
    "    g = thetas[0]\n",
    "    G.sigma.set_value(thetas[1])\n",
    "    return dlog_p_Tf(g,v)\n",
    "\n",
    "def update_thetas(thetas, dthetas):\n",
    "    g = thetas[0]\n",
    "    sigma = thetas[1]\n",
    "    \n",
    "    #g = G.to_groupf(g+options['learning_rate']*dthetas[0])\n",
    "    sigma += options['learning_rate']*dthetas[1]\n",
    "    \n",
    "    return (g,sigma)\n",
    "\n",
    "# run MLE\n",
    "(thetas, log_likelihood, log_likelihoods, thetass) = iterative_mle(obss,llog_p_T,update_thetas,options)\n",
    "\n",
    "# plot\n",
    "plt.plot(range(options['epochs'])[2:],log_likelihoods[2:])\n",
    "plt.show()\n",
    "plt.plot(range(options['epochs']),thetass[0].reshape((thetass[0].shape[0],-1)))\n",
    "plt.hlines(thetas_true[0].flatten(),plt.xlim()[0],plt.xlim()[1],color='r')\n",
    "plt.show()\n",
    "plt.plot(range(options['epochs']),thetass[1].reshape((thetass[1].shape[0],-1)))\n",
    "plt.hlines(thetas_true[1].flatten(),plt.xlim()[0],plt.xlim()[1],color='r')\n",
    "plt.show()\n",
    "None"
   ]
  }
 ],
 "metadata": {
  "kernelspec": {
   "display_name": "Python 3",
   "language": "python",
   "name": "python3"
  },
  "language_info": {
   "codemirror_mode": {
    "name": "ipython",
    "version": 3
   },
   "file_extension": ".py",
   "mimetype": "text/x-python",
   "name": "python",
   "nbconvert_exporter": "python",
   "pygments_lexer": "ipython3",
   "version": "3.8.5"
  }
 },
 "nbformat": 4,
 "nbformat_minor": 1
}
