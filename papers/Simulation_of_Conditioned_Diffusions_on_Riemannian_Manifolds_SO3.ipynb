{
 "cells": [
  {
   "cell_type": "code",
   "execution_count": null,
   "metadata": {
    "ExecuteTime": {
     "end_time": "2020-05-15T09:09:59.416179Z",
     "start_time": "2020-05-15T09:09:59.411702Z"
    }
   },
   "outputs": [],
   "source": [
    "# # This file is part of Theano Geometry\n",
    "#\n",
    "# Copyright (C) 2017, Stefan Sommer (sommer@di.ku.dk)\n",
    "# https://bitbucket.org/stefansommer/theanogemetry\n",
    "#\n",
    "# Theano Geometry is free software: you can redistribute it and/or modify\n",
    "# it under the terms of the GNU General Public License as published by\n",
    "# the Free Software Foundation, either version 3 of the License, or\n",
    "# (at your option) any later version.\n",
    "#\n",
    "# Theano Geometry is distributed in the hope that it will be useful,\n",
    "# but WITHOUT ANY WARRANTY; without even the implied warranty of\n",
    "# MERCHANTABILITY or FITNESS FOR A PARTICULAR PURPOSE.  See the\n",
    "# GNU General Public License for more details.\n",
    "#\n",
    "# You should have received a copy of the GNU General Public License\n",
    "# along with Theano Geometry. If not, see <http://www.gnu.org/licenses/>.\n",
    "#"
   ]
  },
  {
   "cell_type": "markdown",
   "metadata": {
    "collapsed": true
   },
   "source": [
    "# Simulation of Conditioned Diffusions on Riemannian Manifolds\n",
    "\n",
    "Mathias Højgaard Jensen and Stefan Sommer"
   ]
  },
  {
   "cell_type": "markdown",
   "metadata": {},
   "source": [
    "# SO(3)"
   ]
  },
  {
   "cell_type": "code",
   "execution_count": null,
   "metadata": {
    "ExecuteTime": {
     "end_time": "2020-05-13T11:57:38.597266Z",
     "start_time": "2020-05-13T11:57:38.590603Z"
    }
   },
   "outputs": [],
   "source": [
    "%cd .."
   ]
  },
  {
   "cell_type": "code",
   "execution_count": null,
   "metadata": {
    "ExecuteTime": {
     "end_time": "2020-05-13T11:58:27.961721Z",
     "start_time": "2020-05-13T11:57:38.600283Z"
    }
   },
   "outputs": [],
   "source": [
    "# SO(3)\n",
    "from src.groups.SON import *\n",
    "G = SON(3,invariance='right')\n",
    "print(G)\n",
    "\n",
    "from src.plotting import *"
   ]
  },
  {
   "cell_type": "code",
   "execution_count": null,
   "metadata": {
    "ExecuteTime": {
     "end_time": "2020-05-13T12:00:54.122967Z",
     "start_time": "2020-05-13T11:58:27.978740Z"
    }
   },
   "outputs": [],
   "source": [
    "from src.group import invariant_metric\n",
    "invariant_metric.initialize(G)\n",
    "\n",
    "from src.group import energy\n",
    "energy.initialize(G)"
   ]
  },
  {
   "cell_type": "code",
   "execution_count": null,
   "metadata": {
    "ExecuteTime": {
     "end_time": "2020-05-13T12:00:54.136768Z",
     "start_time": "2020-05-13T12:00:54.126444Z"
    }
   },
   "outputs": [],
   "source": [
    "q = np.array([1e-6,0,0])\n",
    "g = G.psif(q)\n",
    "v = np.array([0,1,1])\n",
    "p = G.sharppsif(q,v)"
   ]
  },
  {
   "cell_type": "code",
   "execution_count": null,
   "metadata": {
    "ExecuteTime": {
     "end_time": "2020-05-13T12:01:15.798529Z",
     "start_time": "2020-05-13T12:00:54.139505Z"
    },
    "scrolled": false
   },
   "outputs": [],
   "source": [
    "# sample data\n",
    "from src.stochastics import Brownian_inv\n",
    "Brownian_inv.initialize(G)\n",
    "\n",
    "G.sigma.set_value(np.diag((1.,.3,1.4))) # set metric\n",
    "K = 16 # 1024\n",
    "obss = np.zeros((K,)+g.shape)\n",
    "# srng.seed(422)\n",
    "for i in range(K):\n",
    "    (ts,gs) = G.Brownian_invf(g,dWsf(G.dim.eval()))\n",
    "    obss[i] = gs[-1]\n",
    "\n",
    "# plot samples\n",
    "newfig()\n",
    "for i in range(K):\n",
    "    G.plotg(obss[i])\n",
    "plt.show()"
   ]
  },
  {
   "cell_type": "code",
   "execution_count": null,
   "metadata": {
    "ExecuteTime": {
     "end_time": "2020-05-13T12:08:12.479207Z",
     "start_time": "2020-05-13T12:06:29.933192Z"
    },
    "scrolled": false
   },
   "outputs": [],
   "source": [
    "# Delyon/Hu guided process\n",
    "from src.stochastics.guided_process import *\n",
    "\n",
    "# parameters\n",
    "g0 = G.sym_element()\n",
    "thetas = (g0, G.sigma,)\n",
    "\n",
    "# guide function\n",
    "# phi = lambda g,v: G.LAtoV(G.invtrns(G.inv(g),v)-G.e)\n",
    "phi = lambda g,v: T.tensordot(G.inv(G.sigma),G.LAtoV(G.log(G.invtrns(G.inv(g),v))),(1,0))\n",
    "\n",
    "(Brownian_inv_guided,Brownian_inv_guidedf) = get_guided_likelihood(\n",
    "    G,G.sde_Brownian_inv,phi,lambda g: G.sigma,\n",
    "    A=G.gG, integration='stratonovich')  \n",
    "\n",
    "w = G.psif(v)\n",
    "(ts,gs,log_likelihood,log_varphi) = Brownian_inv_guidedf(g,w,dWsf(G.dim.eval()))[:4]\n",
    "print(\"log likelihood: \", log_likelihood[-1], \", log varphi: \", log_varphi[-1])\n",
    "\n",
    "newfig()\n",
    "G.plotg(gs)\n",
    "G.plotg(w,color='k')\n",
    "# plt.savefig('/home/stefan/Dropbox/projects/diffusion/figures/SO3-bridge.pdf')\n",
    "plt.show()"
   ]
  },
  {
   "cell_type": "code",
   "execution_count": null,
   "metadata": {
    "ExecuteTime": {
     "end_time": "2020-05-14T07:58:38.986729Z",
     "start_time": "2020-05-14T07:58:38.979829Z"
    }
   },
   "outputs": [],
   "source": [
    "options = {}\n",
    "options['samples_per_obs'] = 20\n",
    "options['epochs'] = 40\n",
    "options['learning_rate'] = 5.e-3\n",
    "options['varphi_update_rate'] = 1.\n",
    "options['verbose'] = True\n",
    "options['initial'] = [g, # random value\n",
    "                      np.diag((.5,.5,.5)),]\n",
    "# options['update_v'] = lambda g: theano.gradient.disconnected_grad(Brownian_inv_fiber(g,dWs(G.dim))[1][-1])\n",
    "# options['update_vf'] = lambda g: Brownian_inv_fiberf(g,dWsf(G.dim.eval()))[1][-1]"
   ]
  },
  {
   "cell_type": "code",
   "execution_count": null,
   "metadata": {
    "ExecuteTime": {
     "end_time": "2020-05-13T12:21:45.341028Z",
     "start_time": "2020-05-13T12:08:12.501449Z"
    },
    "scrolled": false
   },
   "outputs": [],
   "source": [
    "# Transition density\n",
    "v0 = G.sym_element()\n",
    "p_Tf = theano.function([g0,v0],p_T(g0,v0,dWs(G.dim),Brownian_inv_guided,phi,options,sde=G.sde_Brownian_inv,sigma=G.sigma))\n",
    "log_p_Tf = theano.function([g0,v0],log_p_T(g0,v0,dWs(G.dim),Brownian_inv_guided,phi,options,sde=G.sde_Brownian_inv,sigma=G.sigma))\n",
    "dlog_p_Tf = theano.function([g0,v0],dlog_p_T(thetas,g0,v0,dWs(G.dim),Brownian_inv_guided,phi,options,sde=G.sde_Brownian_inv,sigma=G.sigma))\n",
    "\n",
    "# G.sigma.set_value(np.diag((1.,.3,1.6))) # set metric\n",
    "\n",
    "# # on G\n",
    "print(p_Tf(g,G.psif(v))) \n",
    "print(log_p_Tf(g,G.psif(v))) \n",
    "print(dlog_p_Tf(g,G.psif(v)))"
   ]
  },
  {
   "cell_type": "code",
   "execution_count": null,
   "metadata": {
    "ExecuteTime": {
     "end_time": "2020-05-13T12:22:12.243203Z",
     "start_time": "2020-05-13T12:21:45.351851Z"
    }
   },
   "outputs": [],
   "source": [
    "%%time\n",
    "print(p_Tf(g,G.psif(v))) "
   ]
  },
  {
   "cell_type": "code",
   "execution_count": null,
   "metadata": {
    "ExecuteTime": {
     "end_time": "2020-05-13T12:23:17.208729Z",
     "start_time": "2020-05-13T12:22:12.251773Z"
    }
   },
   "outputs": [],
   "source": [
    "%%time\n",
    "print(dlog_p_Tf(g,G.psif(v)))"
   ]
  },
  {
   "cell_type": "code",
   "execution_count": null,
   "metadata": {
    "ExecuteTime": {
     "end_time": "2020-05-13T12:23:46.297219Z",
     "start_time": "2020-05-13T12:23:17.211930Z"
    }
   },
   "outputs": [],
   "source": [
    "%%time\n",
    "L = options['samples_per_obs']\n",
    "gsl = np.zeros((L,)+g.shape)\n",
    "vl = G.psif(v)\n",
    "for l in range(L):import warnings\n",
    "warnings.simplefilter(action='ignore', category=FutureWarning)\n",
    "\n",
    "#     (ts,gs) = Brownian_inv_fiberf(vl,dWsf(G.dim.eval()))\n",
    "#     (ts,gs) = G.Brownian_invf(vl,dWsf(G.dim.eval()))\n",
    "    (ts,gs,_,_) = Brownian_inv_guidedf(vl,w,dWsf(G.dim.eval()))\n",
    "    gsl[l] = gs[-1]\n",
    "    vl = gs[-1]"
   ]
  },
  {
   "cell_type": "code",
   "execution_count": null,
   "metadata": {
    "ExecuteTime": {
     "end_time": "2020-05-14T07:58:53.510602Z",
     "start_time": "2020-05-14T07:58:44.417968Z"
    },
    "scrolled": false
   },
   "outputs": [],
   "source": [
    "# samples for MLE\n",
    "# G.sigma.set_value(1.*np.eye(G.dim.eval())) # set metric, uniform\n",
    "G.sigma.set_value(np.diag((.2,.2,.6))) # anisotropic\n",
    "K = 64\n",
    "n_steps.set_value(20)\n",
    "\n",
    "thetas_true = [g]+[G.sigma.eval(),]\n",
    "\n",
    "obss = np.zeros((K,)+g.shape)\n",
    "# srng.seed(422)\n",
    "for i in range(K):\n",
    "    (ts,gs) = G.Brownian_invf(g,dWsf(G.dim.eval()))\n",
    "    obss[i] = gs[-1]\n",
    "\n",
    "# plot samples\n",
    "newfig()\n",
    "for i in range(K):\n",
    "    G.plotg(obss[i])\n",
    "plt.show()"
   ]
  },
  {
   "cell_type": "code",
   "execution_count": null,
   "metadata": {
    "ExecuteTime": {
     "end_time": "2020-05-14T11:05:16.325682Z",
     "start_time": "2020-05-14T10:11:02.926840Z"
    },
    "scrolled": false
   },
   "outputs": [],
   "source": [
    "# on SO(3)\n",
    "from src.statistics.mle import *\n",
    "\n",
    "def llog_p_T(thetas,pars):\n",
    "    (v,seed) = pars\n",
    "    if seed:\n",
    "        srng.seed(seed)\n",
    "    g = thetas[0]\n",
    "    G.sigma.set_value(thetas[1])\n",
    "    return dlog_p_Tf(g,v)\n",
    "\n",
    "def update_thetas(thetas, dthetas):\n",
    "    g = thetas[0]\n",
    "    sigma = thetas[1]\n",
    "    \n",
    "    #g = G.to_groupf(g+options['learning_rate']*dthetas[0])\n",
    "    sigma += options['learning_rate']*dthetas[1]\n",
    "    \n",
    "    return (g,sigma)\n",
    "\n",
    "# run MLE\n",
    "(thetas, log_likelihood, log_likelihoods, thetass) = iterative_mle(obss,llog_p_T,update_thetas,options)\n",
    "\n",
    "# plot\n",
    "plt.plot(range(options['epochs'])[2:],log_likelihoods[2:])\n",
    "plt.show()\n",
    "plt.plot(range(options['epochs']),thetass[0].reshape((thetass[0].shape[0],-1)))\n",
    "plt.hlines(thetas_true[0].flatten(),plt.xlim()[0],plt.xlim()[1],color='r')\n",
    "plt.show()\n",
    "plt.plot(range(options['epochs']),thetass[1].reshape((thetass[1].shape[0],-1)))\n",
    "plt.hlines(thetas_true[1].flatten(),plt.xlim()[0],plt.xlim()[1],color='r')\n",
    "plt.show()\n",
    "None"
   ]
  },
  {
   "cell_type": "code",
   "execution_count": null,
   "metadata": {
    "ExecuteTime": {
     "end_time": "2020-05-13T14:05:58.385785Z",
     "start_time": "2020-05-13T12:06:29.932Z"
    }
   },
   "outputs": [],
   "source": [
    "# sample bridges\n",
    "def lbridge_sampling(thetas,*args,**kwargs):\n",
    "    g = thetas[0]\n",
    "    G.sigma.set_value(thetas[1])\n",
    "    return partial(bridge_sampling,g,Brownian_inv_guidedf,lambda: dWsf(G.dim.eval()),options)(*args,**kwargs)\n",
    "\n",
    "log_phis = np.zeros((K,))\n",
    "try:\n",
    "    mpu.openPool()\n",
    "    sol = mpu.pool.imap(partial(lbridge_sampling,options['initial']),mpu.inputArgs(obss,np.random.randint(1000,size=K)))\n",
    "    res = list(sol)\n",
    "    bridges = mpu.getRes(res,0)\n",
    "    log_varphis = mpu.getRes(res,1)\n",
    "    log_likelihoods = mpu.getRes(res,2)\n",
    "except:\n",
    "    mpu.closePool()\n",
    "    raise\n",
    "else:\n",
    "    mpu.closePool()"
   ]
  },
  {
   "cell_type": "code",
   "execution_count": null,
   "metadata": {},
   "outputs": [],
   "source": [
    "# # Delyon/Hu guided process\n",
    "# from src.stochastics.guided_process import *\n",
    "\n",
    "# # hit target v at time t=Tend\n",
    "# def get_sde_guided(sde_f, phi, sqrtCov, A=None, method='DelyonHu', integration='ito'):\n",
    "#     assert (integration is 'ito' or integration is 'stratonovich')\n",
    "#     assert (method is 'DelyonHu')  # more general schemes not implemented\n",
    "\n",
    "#     def sde_guided(dW, t, x, log_likelihood, log_varphi, v, *ys):\n",
    "#         (det, sto, X, *dys_sde) = sde_f(dW, t, x, *ys)\n",
    "#         h = theano.ifelse.ifelse(T.lt(t, Tend - dt / 2),\n",
    "#                                  phi(x, v) / (Tend - t),\n",
    "#                                  T.zeros_like(phi(x, v))\n",
    "#                                  )\n",
    "#         sto = theano.ifelse.ifelse(T.lt(t, Tend - 3 * dt / 2),  # for Ito as well?\n",
    "#                                    sto,\n",
    "#                                    T.zeros_like(sto)\n",
    "#                                    )\n",
    "\n",
    "#         ### likelihood\n",
    "#         dW_guided = (1 - .5 * dt / (1 - t)) * dW + dt * h  # for Ito as well?\n",
    "#         sqrtCovx = sqrtCov(x)\n",
    "#         Cov = dt * T.tensordot(sqrtCovx, sqrtCovx, (1, 1))\n",
    "#         Pres = T.nlinalg.MatrixInverse()(Cov)\n",
    "#         residual = T.tensordot(dW_guided, T.tensordot(Pres, dW_guided, (1, 0)), (0, 0))\n",
    "#         log_likelihood = .5 * (-dW.shape[0] * T.log(2 * np.pi) + LogAbsDet()(Pres) - residual)\n",
    "\n",
    "#         ## correction factor\n",
    "#         ytilde = T.tensordot(X, h * (Tend - t), 1)\n",
    "#         tp1 = t + dt\n",
    "#         if integration is 'ito':\n",
    "#             xtp1 = x + dt * (det + T.tensordot(X, h, 1)) + sto\n",
    "#         elif integration is 'stratonovich':\n",
    "#             tx = x + sto\n",
    "#             xtp1 = x + dt * det + 0.5 * (sto + sde_f(dW, tp1, tx, *ys)[1])\n",
    "#         Xtp1 = sde_f(dW, tp1, xtp1, *ys)[2]\n",
    "#         ytildetp1 = T.tensordot(Xtp1, phi(xtp1, v), 1)\n",
    "\n",
    "#         # set default A if not specified\n",
    "#         Af = A if A is not None else lambda x, v, w: T.tensordot(v, T.tensordot(T.nlinalg.MatrixInverse()(T.tensordot(X, X, (1, 1))), w, 1), 1)\n",
    "\n",
    "#         #     add t1 term for general phi\n",
    "#         #     dxbdxt = theano.gradient.Rop((Gx-x[0]).flatten(),x[0],dx[0]) # use this for general phi\n",
    "#         t2 = theano.ifelse.ifelse(T.lt(t, Tend - dt / 2),\n",
    "#                                   -Af(x, ytilde, dt * det) / (Tend - t),\n",
    "#                                   # check det term for Stratonovich (correction likely missing)\n",
    "#                                   0.)\n",
    "#         t34 = theano.ifelse.ifelse(T.lt(tp1, Tend - dt / 2),\n",
    "#                                    -(Af(xtp1, ytildetp1, ytildetp1) - Af(x, ytildetp1, ytildetp1)) / (\n",
    "#                                    2 * (Tend - tp1 + dt * T.gt(tp1, Tend - dt / 2))),\n",
    "#                                    # last term in divison is to avoid NaN with non-lazy Theano conditional evaluation\n",
    "#                                    0.)\n",
    "#         log_varphi = t2 + t34\n",
    "\n",
    "#         return (det + T.tensordot(X, h, 1), sto, X, log_likelihood, log_varphi, T.zeros_like(v), *dys_sde)\n",
    "\n",
    "#     return sde_guided\n",
    "\n",
    "# def get_guided_likelihood(M, sde_f, phi, sqrtCov, q, A=None, method='DelyonHu', integration='ito'):\n",
    "#     sde_guided = get_sde_guided(sde_f, phi, sqrtCov, A, method, integration)\n",
    "#     guided = lambda q, v, dWt: integrate_sde(sde_guided,\n",
    "#                                              integrator_ito if method is 'ito' else integrator_stratonovich,\n",
    "#                                              q, dWt, T.constant(0.), T.constant(0.), v)\n",
    "#     v = M.element()\n",
    "#     guidedf = theano.function([q, v, dWt], guided(q, v, dWt)[:4])\n",
    "\n",
    "#     return (guided, guidedf)\n",
    "\n",
    "# # helper for log-transition density\n",
    "# def p_T_log_p_T(g, v, dWs, bridge_sde, phi, options, sigma=None, sde=None):\n",
    "#     \"\"\" Monte Carlo approximation of log transition density from guided process \"\"\"\n",
    "#     if sigma is None and sde is not None:\n",
    "#         (_, _, XT) = sde(dWs, Tend, v)  # starting point of SDE, we need diffusion field X at t=0\n",
    "#         sigma = XT\n",
    "#     assert (sigma is not None)\n",
    "    \n",
    "#     # sample noise\n",
    "#     (cout, updates) = theano.scan(fn=lambda x: dWs,\n",
    "#                                   outputs_info=[T.zeros_like(dWs)],\n",
    "#                                   n_steps=options['samples_per_obs'])\n",
    "#     dWsi = cout\n",
    "\n",
    "#     if not 'update_v' in options:\n",
    "#         # v constant throughout sampling\n",
    "#         print(\"transition density with v constant\")\n",
    "\n",
    "#         # bridges\n",
    "#         Cgv = T.sum(phi(g, v) ** 2)\n",
    "#         def bridge_logvarphis(dWs, log_varphi):\n",
    "#             (ts, gs, log_likelihood, log_varphi, _) = bridge_sde(g, v, dWs)\n",
    "#             return log_varphi[-1]\n",
    "\n",
    "#         (cout, updates) = theano.scan(fn=bridge_logvarphis,\n",
    "#                                       outputs_info=[T.constant(0.)],\n",
    "#                                       sequences=[dWsi])\n",
    "#         log_varphi = T.log(T.mean(T.exp(cout)))\n",
    "#         log_p_T = -.5 * sigma.shape[0] * T.log(2. * np.pi * Tend) - LogAbsDet()(sigma) - Cgv / (2. * Tend) + log_varphi\n",
    "#         p_T = T.exp(log_p_T)\n",
    "#     else:\n",
    "#         # update v during sampling, e.g. for fiber densities\n",
    "#         print(\"transition density with v updates\")\n",
    "\n",
    "#         # bridges\n",
    "#         Cgv = T.sum(phi(g, v) ** 2)\n",
    "#         def bridge_p_T(dWs, lp_T, lv):\n",
    "# #             Cgv = T.sum(phi(g, lv) ** 2)\n",
    "#             (ts, gs, log_likelihood, log_varphi, _) = bridge_sde(g, v, dWs)            \n",
    "#             lp_T =  T.power(2.*np.pi*Tend,-.5*sigma.shape[0])/T.abs_(T.nlinalg.Det()(sigma))*T.exp(-Cgv/(2.*Tend))*T.exp(log_varphi[-1])\n",
    "# #             lv = options['update_v'](lv)                        \n",
    "#             return (lp_T, lv)\n",
    "\n",
    "#         (cout, updates) = theano.scan(fn=bridge_p_T,\n",
    "#                                       outputs_info=[T.constant(0.), v],\n",
    "#                                       sequences=[dWsi])\n",
    "#         p_T = T.mean(cout[:][0])\n",
    "#         log_p_T = T.log(p_T)\n",
    "#         v = cout[-1][1]\n",
    "    \n",
    "#     return (p_T,log_p_T,v)\n",
    "\n",
    "# def p_T(*args,**kwargs): return p_T_log_p_T(*args,**kwargs)[0]\n",
    "# def log_p_T(*args,**kwargs): return p_T_log_p_T(*args,**kwargs)[1]\n",
    "\n",
    "# def dp_T(thetas,*args,**kwargs):\n",
    "#     \"\"\" Monte Carlo approximation of transition density gradient \"\"\"\n",
    "#     lp_T = p_T(*args,**kwargs)\n",
    "#     return (lp_T,)+tuple(T.grad(lp_T,theta) for theta in thetas)\n",
    "\n",
    "# def dlog_p_T(thetas,*args,**kwargs):\n",
    "#     \"\"\" Monte Carlo approximation of log transition density gradient \"\"\"\n",
    "#     llog_p_T = log_p_T(*args,**kwargs)\n",
    "#     return (llog_p_T,)+tuple(T.grad(llog_p_T,theta) for theta in thetas)"
   ]
  }
 ],
 "metadata": {
  "kernelspec": {
   "display_name": "Python 3",
   "language": "python",
   "name": "python3"
  },
  "language_info": {
   "codemirror_mode": {
    "name": "ipython",
    "version": 3
   },
   "file_extension": ".py",
   "mimetype": "text/x-python",
   "name": "python",
   "nbconvert_exporter": "python",
   "pygments_lexer": "ipython3",
   "version": "3.8.2"
  }
 },
 "nbformat": 4,
 "nbformat_minor": 1
}
