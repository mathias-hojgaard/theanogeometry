{
 "cells": [
  {
   "cell_type": "code",
   "execution_count": null,
   "metadata": {
    "scrolled": true
   },
   "outputs": [],
   "source": [
    "# # This file is part of Theano Geometry\n",
    "#\n",
    "# Copyright (C) 2017, Stefan Sommer (sommer@di.ku.dk)\n",
    "# https://bitbucket.org/stefansommer/theanogemetry\n",
    "#\n",
    "# Theano Geometry is free software: you can redistribute it and/or modify\n",
    "# it under the terms of the GNU General Public License as published by\n",
    "# the Free Software Foundation, either version 3 of the License, or\n",
    "# (at your option) any later version.\n",
    "#\n",
    "# Theano Geometry is distributed in the hope that it will be useful,\n",
    "# but WITHOUT ANY WARRANTY; without even the implied warranty of\n",
    "# MERCHANTABILITY or FITNESS FOR A PARTICULAR PURPOSE.  See the\n",
    "# GNU General Public License for more details.\n",
    "#\n",
    "# You should have received a copy of the GNU General Public License\n",
    "# along with Theano Geometry. If not, see <http://www.gnu.org/licenses/>.\n",
    "#"
   ]
  },
  {
   "cell_type": "markdown",
   "metadata": {},
   "source": [
    "# LDDMM landmark dynamics"
   ]
  },
  {
   "cell_type": "code",
   "execution_count": null,
   "metadata": {
    "scrolled": false
   },
   "outputs": [],
   "source": [
    "%cd ..\n",
    "from src.manifolds.landmarks import *\n",
    "M = landmarks(21)\n",
    "print(M)\n",
    "\n",
    "from src.plotting import *"
   ]
  },
  {
   "cell_type": "code",
   "execution_count": null,
   "metadata": {},
   "outputs": [],
   "source": [
    "# Riemannian structure\n",
    "from src.Riemannian import metric\n",
    "metric.initialize(M)"
   ]
  },
  {
   "cell_type": "code",
   "execution_count": null,
   "metadata": {
    "scrolled": false
   },
   "outputs": [],
   "source": [
    "# example configuration\n",
    "M.k_sigma.set_value(np.diag((.5,.5)))\n",
    "\n",
    "q = M.coordsf(np.vstack((\n",
    "    np.stack((-.5+np.zeros(int((M.N.eval()-3)/2)),np.linspace(-1.,1.,int((M.N.eval()-3)/2))),axis=1),\n",
    "    np.array([[-.25,0.]]),\n",
    "    np.array([[0.,0.]]),\n",
    "    np.array([[.25,0.]]),\n",
    "    np.stack((.5+np.zeros(int((M.N.eval()-3)/2)),np.linspace(-1.,1.,int((M.N.eval()-3)/2))),axis=1),    \n",
    ")).flatten())\n",
    "v = .5*np.vstack((np.ones(M.N.eval()),np.ones(M.N.eval()))).T.flatten()\n",
    "p = M.flatf(q,v.flatten())\n",
    "print(\"q = \", q)\n",
    "print(\"p = \", p)\n",
    "M.plot()\n",
    "M.plotx(q)\n",
    "plt.axis('off')\n",
    "plt.savefig('shape.pdf')"
   ]
  },
  {
   "cell_type": "markdown",
   "metadata": {},
   "source": [
    "## Brownian Motion"
   ]
  },
  {
   "cell_type": "code",
   "execution_count": null,
   "metadata": {},
   "outputs": [],
   "source": [
    "# coordinate form\n",
    "from src.stochastics import Brownian_coords\n",
    "Brownian_coords.initialize(M)\n",
    "\n",
    "(ts,qs,charts) = M.Brownian_coordsf(q,.2*dWsf(M.dim.eval()))\n",
    "M.plot()\n",
    "M.plot_path(zip(qs,charts))\n",
    "plt.axis('off')\n",
    "plt.savefig('Brownian.pdf')\n",
    "plt.show()"
   ]
  },
  {
   "cell_type": "markdown",
   "metadata": {},
   "source": [
    "# Langevin equations\n",
    "see https://arxiv.org/abs/1605.09276"
   ]
  },
  {
   "cell_type": "code",
   "execution_count": null,
   "metadata": {
    "scrolled": false
   },
   "outputs": [],
   "source": [
    "from src.stochastics import Langevin\n",
    "Langevin.initialize(M)\n",
    "\n",
    "dWs = dWsf(M.dim.eval())\n",
    "\n",
    "(ts,qps,charts) = M.Langevinf(q,p,.5,.25,dWs)\n",
    "M.plot()\n",
    "M.plot_path(zip(qps[:,0,:],charts))\n",
    "plt.axis('off')\n",
    "plt.savefig('Langevin.pdf')\n",
    "plt.show()\n",
    "\n",
    "(ts,qps,charts) = M.Langevinf(q,p,0.,.25,dWs)\n",
    "M.plot()\n",
    "M.plot_path(zip(qps[:,0,:],charts))\n",
    "plt.axis('off')\n",
    "plt.savefig('Lagrangian.pdf')\n",
    "plt.show()"
   ]
  },
  {
   "cell_type": "markdown",
   "metadata": {},
   "source": [
    "## Stochastic EPDiff / Eulerian"
   ]
  },
  {
   "cell_type": "code",
   "execution_count": null,
   "metadata": {
    "scrolled": false
   },
   "outputs": [],
   "source": [
    "# define noise field grid\n",
    "minx = -1; maxx = 1\n",
    "miny = -1; maxy = 1\n",
    "pts = 3\n",
    "\n",
    "X, Y = np.meshgrid(np.linspace(minx,maxx,pts),np.linspace(miny,maxy,pts))\n",
    "xy = np.vstack([X.ravel(), Y.ravel()]).T\n",
    "sigmas_x = np.hstack((xy,xy)).reshape((-1,2))\n",
    "sigmas_a = .05*np.tile(np.eye(2),(sigmas_x.shape[0]//2,1))\n",
    "#sigmas_x = np.array([[0.,0.]])\n",
    "#sigmas_a = np.array([[.1,0.]])\n",
    "J = sigmas_x.shape[0]\n",
    "\n",
    "# noise kernels\n",
    "k_alpha = 1.\n",
    "k_sigma = np.diag(((maxx-minx)/(pts-1),(maxy-miny)/(pts-1)))\n",
    "inv_k_sigma = theano.tensor.nlinalg.MatrixInverse()(k_sigma)\n",
    "k = lambda x: k_alpha*T.exp(-.5*T.sqr(T.tensordot(x,inv_k_sigma,(0 if x.type == T.vector().type else 2,1))).sum(0 if x.type == T.vector().type else 2))\n",
    "\n",
    "# initialize with specified noise kernel\n",
    "from src.stochastics import Eulerian\n",
    "Eulerian.initialize(M,k=k)\n",
    "\n",
    "# integrate\n",
    "(ts,qps,charts) = M.Eulerianf(q,p,sigmas_x.flatten(),sigmas_a.flatten(),dWsf(J))\n",
    "M.plot()\n",
    "M.plot_path(zip(qps[:,0,:],charts))\n",
    "plt.axis('off')\n",
    "plt.plot(sigmas_x[:,0],sigmas_x[:,1],'x')\n",
    "plt.savefig('Eulerian.pdf')\n",
    "plt.show()\n",
    "\n",
    "plt.figure(figsize=(4,4))\n",
    "M.plot()\n",
    "M.plot_path(zip(qps[:,0,:],charts), color='k', linewidth=0.5)\n",
    "plt.plot(sigmas_x[:,0],sigmas_x[:,1],'x')\n",
    "plt.axis('off')\n",
    "plt.axis([-1.2, 1.2, -1.2, 1.2])\n",
    "plt.savefig('Eulerian.svg')\n",
    "plt.show()"
   ]
  },
  {
   "cell_type": "code",
   "execution_count": null,
   "metadata": {},
   "outputs": [],
   "source": []
  }
 ],
 "metadata": {
  "kernelspec": {
   "display_name": "Python 3",
   "language": "python",
   "name": "python3"
  },
  "language_info": {
   "codemirror_mode": {
    "name": "ipython",
    "version": 3
   },
   "file_extension": ".py",
   "mimetype": "text/x-python",
   "name": "python",
   "nbconvert_exporter": "python",
   "pygments_lexer": "ipython3",
   "version": "3.8.2"
  }
 },
 "nbformat": 4,
 "nbformat_minor": 1
}
