{
 "cells": [
  {
   "cell_type": "code",
   "execution_count": null,
   "metadata": {
    "ExecuteTime": {
     "end_time": "2018-12-06T10:30:15.381593Z",
     "start_time": "2018-12-06T10:30:15.374738Z"
    }
   },
   "outputs": [],
   "source": [
    "# # This file is part of Theano Geometry\n",
    "#\n",
    "# Copyright (C) 2017, Stefan Sommer (sommer@di.ku.dk)\n",
    "# https://bitbucket.org/stefansommer/theanogemetry\n",
    "#\n",
    "# Theano Geometry is free software: you can redistribute it and/or modify\n",
    "# it under the terms of the GNU General Public License as published by\n",
    "# the Free Software Foundation, either version 3 of the License, or\n",
    "# (at your option) any later version.\n",
    "#\n",
    "# Theano Geometry is distributed in the hope that it will be useful,\n",
    "# but WITHOUT ANY WARRANTY; without even the implied warranty of\n",
    "# MERCHANTABILITY or FITNESS FOR A PARTICULAR PURPOSE.  See the\n",
    "# GNU General Public License for more details.\n",
    "#\n",
    "# You should have received a copy of the GNU General Public License\n",
    "# along with Theano Geometry. If not, see <http://www.gnu.org/licenses/>.\n",
    "#"
   ]
  },
  {
   "cell_type": "markdown",
   "metadata": {
    "collapsed": true,
    "scrolled": true
   },
   "source": [
    "# Brownian Bridge Simulation and Metric Estimation on Landmark Manifolds\n",
    "\n",
    "Corpus Callosum data\n",
    "\n",
    "arXiv:1705.10943 [cs.CV] https://arxiv.org/abs/1705.10943\n",
    "\n",
    "Stefan Sommer, Line Kuhnel, Alexis Arnaudon, and Sarang Joshi"
   ]
  },
  {
   "cell_type": "code",
   "execution_count": null,
   "metadata": {
    "ExecuteTime": {
     "end_time": "2018-12-06T10:30:19.235306Z",
     "start_time": "2018-12-06T10:30:15.383655Z"
    },
    "scrolled": true
   },
   "outputs": [],
   "source": [
    "%cd ..\n",
    "from src.manifolds.landmarks import *\n",
    "M = landmarks(2)\n",
    "print(M)\n",
    "\n",
    "from src.plotting import *\n",
    "%matplotlib inline\n",
    "plt.rcParams['figure.figsize'] = 13, 10\n",
    "colormap = plt.get_cmap('winter')"
   ]
  },
  {
   "cell_type": "code",
   "execution_count": null,
   "metadata": {
    "ExecuteTime": {
     "end_time": "2018-12-06T10:30:25.926286Z",
     "start_time": "2018-12-06T10:30:19.237549Z"
    },
    "scrolled": true
   },
   "outputs": [],
   "source": [
    "# Riemannian structure\n",
    "from src.Riemannian import metric\n",
    "metric.initialize(M)"
   ]
  },
  {
   "cell_type": "code",
   "execution_count": null,
   "metadata": {
    "ExecuteTime": {
     "end_time": "2018-12-06T10:30:26.330571Z",
     "start_time": "2018-12-06T10:30:25.928383Z"
    }
   },
   "outputs": [],
   "source": [
    "# load data\n",
    "from scipy import io\n",
    "data=io.loadmat('/home/stefan/Dropbox/projects/IPMI2017/dataM-corpora-callosa-ipmi-full.mat')\n",
    "vi = data['vi'] # corpora callosa\n",
    "Nobs = vi.shape[1]\n",
    "N0 = int(vi.shape[0]/2-1)\n",
    "qs = vi[0:-2,:].T.reshape((Nobs,N0,2))\n",
    "\n",
    "N_samples = qs.shape[0]\n",
    "obss = .1*qs.reshape((N_samples,-1))\n",
    "M.N.set_value(obss.shape[1]/2)\n",
    "M.plotx(obss[0],curve=True)"
   ]
  },
  {
   "cell_type": "code",
   "execution_count": null,
   "metadata": {
    "ExecuteTime": {
     "end_time": "2018-12-06T10:30:48.781424Z",
     "start_time": "2018-12-06T10:30:26.332139Z"
    }
   },
   "outputs": [],
   "source": [
    "## Set up for inference example\n",
    "\n",
    "# initialize\n",
    "M.N.set_value(obss.shape[1]/2)\n",
    "M.k_alpha.set_value(.1)\n",
    "n_steps.set_value(100)\n",
    "\n",
    "x = obss.reshape((-1,M.N.eval(),M.m.eval()))\n",
    "q = np.mean(x,axis=0).flatten()\n",
    "x = q.reshape((M.N.eval(),M.m.eval()))\n",
    "\n",
    "avg_landmark_dist = np.mean(np.linalg.norm(x[:-1]-x[1:],axis=1))\n",
    "M.k_sigma.set_value(avg_landmark_dist*np.diag((1.,1.)))\n",
    "print(\"N: \", M.N.eval(), \"k_alpha: \", M.k_alpha.eval(), \", k_sigma: \", M.k_sigma.eval().flatten())\n",
    "\n",
    "colors=[colormap(k) for k in np.linspace(0, 1, N_samples)]\n",
    "M.plotx(q,curve=True)\n",
    "for i in range(N_samples):\n",
    "    M.plotx(obss[i],curve=True,color=colors[i])\n",
    "# plt.savefig('/home/stefan/Dropbox/projects/mfca17/figures/cardiac-annotations.pdf')"
   ]
  },
  {
   "cell_type": "code",
   "execution_count": null,
   "metadata": {
    "ExecuteTime": {
     "end_time": "2018-12-06T11:06:49.188165Z",
     "start_time": "2018-12-06T10:30:48.783321Z"
    },
    "scrolled": false
   },
   "outputs": [],
   "source": [
    "# Brownian motion\n",
    "from src.stochastics import Brownian_coords\n",
    "Brownian_coords.initialize(M)\n",
    "# Delyon/Hu guided process\n",
    "from src.stochastics.guided_process import *\n",
    "\n",
    "# parameters\n",
    "q0 = M.element()\n",
    "thetas = (q0,M.k_alpha,M.k_sigma) # parameters\n",
    "\n",
    "# guide function\n",
    "Cholesky = T.slinalg.Cholesky()\n",
    "phi = lambda q,v: T.tensordot(T.nlinalg.MatrixInverse()(Cholesky(M.gsharp(q))),-(q-v).flatten(),(1,0))\n",
    "\n",
    "v = M.element()\n",
    "phif = theano.function([q0,v],phi(q0,v))\n",
    "(Brownian_coords_guided,Brownian_coords_guidedf) = get_guided_likelihood(M,M.sde_Brownian_coords,phi,lambda q: Cholesky(M.gsharp(q)),q0)\n",
    "\n",
    "v = obss[1].flatten()\n",
    "(ts,qs,log_likelihood,log_varphi) = Brownian_coords_guidedf(q,v,dWsf(M.dim.eval()))[:4]\n",
    "print(\"log likelihood: \", log_likelihood[-1], \", log varphi: \", log_varphi[-1])\n",
    "\n",
    "# Visualize bridge\n",
    "M.plot()\n",
    "M.plotx(np.vstack((q,qs)),curve=True)\n",
    "M.plotx(v,color='k',curve=True)\n",
    "plt.savefig('cc_bridge.pdf')"
   ]
  },
  {
   "cell_type": "code",
   "execution_count": null,
   "metadata": {
    "ExecuteTime": {
     "end_time": "2018-12-06T11:42:41.094879Z",
     "start_time": "2018-12-06T11:06:49.190156Z"
    }
   },
   "outputs": [],
   "source": [
    "v = 1.2*obss[1].flatten()\n",
    "(ts,qs,log_likelihood,log_varphi) = Brownian_coords_guidedf(q,v,dWsf(M.dim.eval()))[:4]\n",
    "print(\"log likelihood: \", log_likelihood[-1], \", log varphi: \", log_varphi[-1])\n",
    "\n",
    "# Visualize bridge\n",
    "newfig2d()\n",
    "M.plot()\n",
    "M.plotx(qs,curve=True)\n",
    "M.plotx(q,color='k',curve=True)\n",
    "M.plotx(v,color='r',curve=True)\n",
    "plt.axis('off')\n",
    "plt.savefig('cc_bridge.pdf')"
   ]
  },
  {
   "cell_type": "code",
   "execution_count": null,
   "metadata": {
    "ExecuteTime": {
     "end_time": "2018-12-06T19:00:13.259748Z",
     "start_time": "2018-12-06T18:59:29.166Z"
    },
    "scrolled": false
   },
   "outputs": [],
   "source": [
    "options = {}\n",
    "options['verbose'] = True\n",
    "options['samples_per_obs'] = 1\n",
    "options['epochs'] = 150\n",
    "options['learning_rate'] = 1e-5\n",
    "options['varphi_update_rate'] = 1.\n",
    "options['initial'] = [np.zeros(M.dim.eval()),\n",
    "                      np.array(.001),.1*np.diag((1.,1.))]\n",
    "options['update_v'] = lambda g: g\n",
    "n_steps.set_value(100)"
   ]
  },
  {
   "cell_type": "code",
   "execution_count": null,
   "metadata": {
    "ExecuteTime": {
     "end_time": "2018-12-06T11:48:36.352279Z",
     "start_time": "2018-12-06T11:42:41.106710Z"
    },
    "scrolled": false
   },
   "outputs": [],
   "source": [
    "# transition density etc.\n",
    "v = M.element()\n",
    "log_p_Tf = theano.function([q0,v],log_p_T(q0,v,dWs(M.dim),Brownian_coords_guided,phi,options,sde=M.sde_Brownian_coords))\n",
    "dlog_p_Tf = theano.function([q0,v],dlog_p_T(thetas,q0,v,dWs(M.dim),Brownian_coords_guided,phi,options,sde=M.sde_Brownian_coords))\n",
    "p_Tf = theano.function([q0,v],T.exp(log_p_T(q0,v,dWs(M.dim),Brownian_coords_guided,phi,options,sde=M.sde_Brownian_coords)))\n"
   ]
  },
  {
   "cell_type": "code",
   "execution_count": null,
   "metadata": {
    "ExecuteTime": {
     "end_time": "2018-12-06T13:08:41.352017Z",
     "start_time": "2018-12-06T11:48:36.354286Z"
    },
    "scrolled": false
   },
   "outputs": [],
   "source": [
    "%%time\n",
    "from src.statistics.mle import *\n",
    "\n",
    "def llog_p_T(thetas,pars):\n",
    "    (v,seed) = pars\n",
    "    if seed:\n",
    "        srng.seed(seed)\n",
    "    q = thetas[0]\n",
    "    M.k_alpha.set_value(thetas[1])\n",
    "    M.k_sigma.set_value(thetas[2])\n",
    "    return dlog_p_Tf(q,v)\n",
    "\n",
    "def update_thetas(thetas, dthetas):\n",
    "    q = thetas[0]\n",
    "    k_alpha = thetas[1]\n",
    "    k_sigma = thetas[2]\n",
    "    \n",
    "    q += options['learning_rate']*np.dot(M.gsharpf(q),dthetas[0]) # use Riemannian g-gradient\n",
    "    k_alpha += options['learning_rate']/M.dim.eval()*dthetas[1]\n",
    "    k_sigma += options['learning_rate']*dthetas[2]\n",
    "    \n",
    "    return (q,k_alpha,k_sigma)\n",
    "\n",
    "\n",
    "# initial values\n",
    "options['initial'][0] = np.mean(obss,axis=0)\n",
    "\n",
    "# run MLE\n",
    "(thetas, log_likelihood, log_likelihoods, thetass) = iterative_mle(obss,llog_p_T,update_thetas,options)\n",
    "\n",
    "## plot\n",
    "plt.plot(range(options['epochs']),log_likelihoods)\n",
    "# plt.savefig('likelihood.pdf')\n",
    "plt.show()\n",
    "plt.plot(range(options['epochs']),thetass[0].reshape((thetass[0].shape[0],-1)))\n",
    "# plt.savefig('q0s.pdf')\n",
    "plt.show()\n",
    "plt.plot(range(options['epochs']),thetass[1],color='b')\n",
    "# plt.savefig('k_alpha.pdf')\n",
    "plt.show()\n",
    "plt.plot(range(options['epochs']),thetass[2].reshape((thetass[2].shape[0],-1)),color='b')\n",
    "plt.ylabel(r'$\\sigma$', fontsize=30)\n",
    "# plt.savefig('k_sigma.pdf')\n",
    "plt.show()\n",
    "M.plotx(options['initial'][0].flatten(),color='k',curve=True)\n",
    "M.plotx(thetas[0],color='b',curve=True)\n",
    "# plt.savefig('/home/stefan/Dropbox/projects/mfca17/figures/cardiac-est_q0.pdf')\n",
    "plt.show()\n",
    "fig, ax1 = plt.subplots()\n",
    "ax2 = ax1.twinx()\n",
    "ax1.plot(range(options['epochs']),log_likelihoods,'g--')\n",
    "ax1.set_ylabel(r'$\\mathcal{L}_\\theta$', fontsize=30)\n",
    "ax2.plot(range(options['epochs']),thetass[1],color='b')\n",
    "ax2.hlines(options['initial'][1],plt.xlim()[0],plt.xlim()[1],color='r')\n",
    "ax2.set_ylabel(r'$\\alpha$', fontsize=30)\n",
    "# plt.savefig('likelihood-k_alpha.pdf')\n",
    "plt.show()\n",
    "None"
   ]
  },
  {
   "cell_type": "code",
   "execution_count": null,
   "metadata": {
    "ExecuteTime": {
     "end_time": "2018-12-06T19:00:13.257908Z",
     "start_time": "2018-12-06T13:08:41.354487Z"
    }
   },
   "outputs": [],
   "source": [
    "# k_alpha.set_value(.002)\n",
    "# k_sigma.set_value(.1*np.eye(2))\n",
    "\n",
    "# sample with estimated parameters\n",
    "qss = np.zeros((N_samples,n_steps.eval(),)+q.shape)\n",
    "obss_new = np.zeros((N_samples,)+q.shape)\n",
    "for i in range(N_samples):\n",
    "    (ts,qs) = M.Brownian_coordsf(q,dWsf(M.dim.eval()))\n",
    "    qss[i] = qs\n",
    "    obss_new[i] = qs[-1]\n",
    "    M.plotx(obss_new[i],curve=True,color='b')\n",
    "M.plotx(q,curve=True,color='k')"
   ]
  },
  {
   "cell_type": "code",
   "execution_count": null,
   "metadata": {
    "ExecuteTime": {
     "end_time": "2018-12-06T19:00:13.258889Z",
     "start_time": "2018-12-06T10:30:15.423Z"
    },
    "scrolled": false
   },
   "outputs": [],
   "source": [
    "# plot\n",
    "def estimate_qq(data_q):\n",
    "    data_mean= data_q.sum(0)/data_q.shape[0]\n",
    "    data= data_q - data_mean\n",
    "    \n",
    "    return [data_mean,(data[:,:,:,np.newaxis,np.newaxis]*data[:,np.newaxis,np.newaxis,:,:]).sum(0)/data.shape[0]]\n",
    "qq = estimate_qq(obss.reshape((-1,M.N.eval(),M.m.eval())))\n",
    "qq_new = estimate_qq(obss_new.reshape((-1,M.N.eval(),M.m.eval())))\n",
    "\n",
    "#plot density distribution of landmarks\n",
    "def plot_distribution(xss):\n",
    "\n",
    "    xTx=[]\n",
    "    xTy=[]\n",
    "    for i in range(xss.shape[0]):\n",
    "        for j in range(0,M.N.eval()):\n",
    "            xTx.append(xss[i,j,0])\n",
    "            xTy.append(xss[i,j,1])\n",
    "    hist,histy,histx= np.histogram2d(xTy,xTx,bins=25)\n",
    "    extent = [histx[0],histx[-1],histy[0],histy[-1]]\n",
    "\n",
    "    \n",
    "    #plt.contour(hist/np.max(hist),extent=extent,levels=[0.05,0.2,0.4,0.6],zorder=10)\n",
    "    plt.imshow(hist/np.max(hist),extent=extent,interpolation='bicubic',origin='lower',cmap='Greys')#,levels=[0.05,0.2,0.4,0.6],zorder=10)\n",
    "    #plt.colorbar()\n",
    "\n",
    "# plot variance\n",
    "def plot_final_ellipses(q,QQ,coeff=1.,c='m',ls='-',lw=1):\n",
    "    # plot sigma as ellipses \n",
    "    from matplotlib.patches import Ellipse\n",
    "    from numpy import linalg as LA\n",
    "    ax= plt.gca()\n",
    "    for i in range(M.N.eval()):\n",
    "        qq_eig,qq_vec = LA.eig(QQ[i,:,i,:])\n",
    "        qq_eig = np.sqrt(qq_eig)\n",
    "        theta = np.degrees(np.arctan(qq_vec[1,0]/qq_vec[0,0]))\n",
    "\n",
    "        ell= Ellipse(xy=q[i] ,width=coeff*qq_eig[0],height= coeff*qq_eig[1],angle=theta,ls=ls,lw=lw)\n",
    "        ax.add_artist(ell)\n",
    "        ell.set_alpha(1.)\n",
    "        ell.set_facecolor('None')\n",
    "        ell.set_edgecolor(c)\n",
    "\n",
    "M.plot()\n",
    "M.plotx(x.flatten(),color='k',curve=True)\n",
    "M.plotx(q,color='b',curve=True)\n",
    "plot_final_ellipses(qq[0],qq[1],coeff=5.,c='k',ls='-',lw=2)\n",
    "plot_final_ellipses(q.reshape((-1,M.m.eval())),qq_new[1],coeff=5.,c='b',ls='--',lw=2)\n",
    "plot_distribution(obss_new.reshape((-1,M.N.eval(),M.m.eval())))\n",
    "plt.xlim([-1.3,1.3]), plt.ylim([-1.3,1.3])\n",
    "# plt.savefig('/home/stefan/Dropbox/projects/mfca17/figures/cardiac-ellipse_inf.pdf')"
   ]
  },
  {
   "cell_type": "code",
   "execution_count": null,
   "metadata": {},
   "outputs": [],
   "source": []
  }
 ],
 "metadata": {
  "kernelspec": {
   "display_name": "Python 3",
   "language": "python",
   "name": "python3"
  },
  "language_info": {
   "codemirror_mode": {
    "name": "ipython",
    "version": 3
   },
   "file_extension": ".py",
   "mimetype": "text/x-python",
   "name": "python",
   "nbconvert_exporter": "python",
   "pygments_lexer": "ipython3",
   "version": "3.6.3"
  }
 },
 "nbformat": 4,
 "nbformat_minor": 1
}
