{
 "cells": [
  {
   "cell_type": "code",
   "execution_count": null,
   "metadata": {
    "ExecuteTime": {
     "end_time": "2021-04-07T07:23:12.553120Z",
     "start_time": "2021-04-07T07:23:12.549105Z"
    }
   },
   "outputs": [],
   "source": [
    "# # This file is part of Theano Geometry\n",
    "#\n",
    "# Copyright (C) 2017, Stefan Sommer (sommer@di.ku.dk)\n",
    "# https://bitbucket.org/stefansommer/theanogemetry\n",
    "#\n",
    "# Theano Geometry is free software: you can redistribute it and/or modify\n",
    "# it under the terms of the GNU General Public License as published by\n",
    "# the Free Software Foundation, either version 3 of the License, or\n",
    "# (at your option) any later version.\n",
    "#\n",
    "# Theano Geometry is distributed in the hope that it will be useful,\n",
    "# but WITHOUT ANY WARRANTY; without even the implied warranty of\n",
    "# MERCHANTABILITY or FITNESS FOR A PARTICULAR PURPOSE.  See the\n",
    "# GNU General Public License for more details.\n",
    "#\n",
    "# You should have received a copy of the GNU General Public License\n",
    "# along with Theano Geometry. If not, see <http://www.gnu.org/licenses/>.\n",
    "#"
   ]
  },
  {
   "cell_type": "markdown",
   "metadata": {
    "collapsed": true
   },
   "source": [
    "# Brownian Bridge Simulation and Metric Estimation on Lie Groups and Homogeneous Spaces: GL3 and SPD3\n",
    "\n",
    "Mathias Højgaard Jensen, Stefan Sommer and Sarang Joshi"
   ]
  },
  {
   "cell_type": "code",
   "execution_count": null,
   "metadata": {
    "ExecuteTime": {
     "end_time": "2021-04-07T07:23:53.823240Z",
     "start_time": "2021-04-07T07:23:12.561829Z"
    }
   },
   "outputs": [],
   "source": [
    "%cd ..\n",
    "from src.groups.GLN import *\n",
    "G = GLN(3)\n",
    "print(G)\n",
    "\n",
    "from src.manifolds.SPDN import *\n",
    "M = SPDN(3)\n",
    "print(M)\n",
    "\n",
    "from src.plotting import *\n",
    "figsize = 12,12\n",
    "plt.rcParams['figure.figsize'] = figsize"
   ]
  },
  {
   "cell_type": "code",
   "execution_count": null,
   "metadata": {
    "ExecuteTime": {
     "end_time": "2021-04-07T07:24:07.385944Z",
     "start_time": "2021-04-07T07:23:53.825631Z"
    }
   },
   "outputs": [],
   "source": [
    "from src.group import invariant_metric\n",
    "invariant_metric.initialize(G)\n",
    "\n",
    "from src.group import energy\n",
    "energy.initialize(G)"
   ]
  },
  {
   "cell_type": "code",
   "execution_count": null,
   "metadata": {
    "ExecuteTime": {
     "end_time": "2021-04-07T07:24:07.396199Z",
     "start_time": "2021-04-07T07:24:07.388495Z"
    }
   },
   "outputs": [],
   "source": [
    "v=0.*np.array([.5,0,0,0,0,0,0,0,0])+1e-6*np.random.normal(size=G.dim.eval()) # must be non-singular for Expm derivative\n",
    "xiv=G.VtoLAf(v)\n",
    "g = G.expf(xiv)\n",
    "print(g)\n",
    "\n",
    "x = np.eye((M.N.eval())).flatten()"
   ]
  },
  {
   "cell_type": "code",
   "execution_count": null,
   "metadata": {
    "ExecuteTime": {
     "end_time": "2021-04-07T07:24:09.295492Z",
     "start_time": "2021-04-07T07:24:07.398235Z"
    }
   },
   "outputs": [],
   "source": [
    "# quotient space\n",
    "from src.group.quotient import *\n",
    "horz_vert_splitf = G.function(lambda y: horz_vert_split(y,lambda g: M.act(g,x),G,M)) # horizontal, vertical splitting\n",
    "(_,_,proj_horz,proj_ns,horz)=horz_vert_splitf(g)\n",
    "print(proj_horz,proj_ns,horz)"
   ]
  },
  {
   "cell_type": "code",
   "execution_count": null,
   "metadata": {
    "ExecuteTime": {
     "end_time": "2021-04-07T07:27:17.342112Z",
     "start_time": "2021-04-07T07:24:09.297334Z"
    },
    "scrolled": false
   },
   "outputs": [],
   "source": [
    "# sample data\n",
    "from src.stochastics import Brownian_inv\n",
    "Brownian_inv.initialize(G)\n",
    "\n",
    "G.sigma.set_value(np.sqrt(.1)*np.eye(G.emb_dim.eval())) # set metric\n",
    "K = 1024\n",
    "obss = np.zeros((K,)+g.shape)\n",
    "# srng.seed(422)\n",
    "for i in range(K):\n",
    "    (ts,gs) = G.Brownian_invf(g,dWsf(G.dim.eval()))\n",
    "    obss[i] = gs[-1]\n",
    "\n",
    "# plot samples\n",
    "newfig()\n",
    "for i in range(K):\n",
    "    G.plotg(obss[i])\n",
    "plt.show()\n",
    "\n",
    "# on SPD(3)\n",
    "obss_M = np.zeros((K,M.emb_dim.eval(),))\n",
    "newfig()\n",
    "M.plot()\n",
    "for i in range(K):\n",
    "    obss_M[i] = M.actf(obss[i],x)\n",
    "    M.plotx(obss_M[i])\n",
    "plt.show()"
   ]
  },
  {
   "cell_type": "code",
   "execution_count": null,
   "metadata": {
    "ExecuteTime": {
     "end_time": "2021-04-07T07:27:44.957656Z",
     "start_time": "2021-04-07T07:27:17.344042Z"
    },
    "scrolled": false
   },
   "outputs": [],
   "source": [
    "# Delyon/Hu guided process\n",
    "from src.stochastics.guided_process import *\n",
    "\n",
    "# parameters\n",
    "g0 = G.sym_element()\n",
    "thetas = (g0, G.sigma,)\n",
    "thetas_true = [g]+[theta.eval() for theta in thetas[1:]]\n",
    "\n",
    "# guide function\n",
    "# phi = lambda g,v: T.tensordot(G.inv(G.sigma),G.LAtoV(G.invtrns(G.inv(g),v)-G.e),(1,0))\n",
    "phi = lambda g,v: T.tensordot(G.inv(G.sigma),G.LAtoV(G.log(G.invtrns(G.inv(g),v))),(1,0))\n",
    "\n",
    "# (Brownian_inv_guided,Brownian_inv_guidedf) = get_guided_likelihood(G,G.sde_Brownian_inv,phi,lambda g: G.sigma, g0, thetas, A=G.gG, integration='stratonovich')\n",
    "(Brownian_inv_guided,Brownian_inv_guidedf) = get_guided_likelihood(\n",
    "    G,G.sde_Brownian_inv,phi,lambda g: G.sigma, \n",
    "    A=G.gG, integration='stratonovich')\n",
    "\n",
    "w = G.psif(v)\n",
    "(ts,gs,log_likelihood,log_varphi) = Brownian_inv_guidedf(g,w,dWsf(G.dim.eval()))[:4]\n",
    "print(\"log likelihood: \", log_likelihood[-1], \", log varphi: \", log_varphi[-1])\n",
    "\n",
    "newfig()\n",
    "G.plot_path(gs)\n",
    "G.plotg(w,color='k')\n",
    "# plt.savefig('GL3-bridge.pdf')\n",
    "plt.show()\n",
    "\n",
    "# on SPD(3)\n",
    "newfig()\n",
    "M.plot()\n",
    "M.plot_path(M.actsf(gs,x))\n",
    "M.plotx(M.actf(w,x),color='k')\n",
    "# plt.savefig('SPD3-bridge.pdf')\n",
    "plt.show()"
   ]
  },
  {
   "cell_type": "code",
   "execution_count": null,
   "metadata": {
    "ExecuteTime": {
     "end_time": "2021-04-07T07:28:10.987134Z",
     "start_time": "2021-04-07T07:27:44.959586Z"
    },
    "scrolled": false
   },
   "outputs": [],
   "source": [
    "# fiber Brownian motion\n",
    "from src.group.quotient import *\n",
    "sde_Brownian_inv_fiber = get_sde_fiber(G.sde_Brownian_inv,lambda g: M.act(g,x),G,M)\n",
    "Brownian_inv_fiber = lambda g,dWt: integrate_sde(sde_Brownian_inv_fiber,\n",
    "                                                  integrator_stratonovich,\n",
    "                                                  None,\n",
    "                                                 g,None,dWt)\n",
    "Brownian_inv_fiberf = theano.function([g0,dWt], Brownian_inv_fiber(g0,dWt))\n",
    "\n",
    "# make L simulations\n",
    "L = 3\n",
    "gsl = np.zeros((L,)+g.shape)\n",
    "vl = G.psif(v)\n",
    "for l in range(L):\n",
    "    (ts,gs) = Brownian_inv_fiberf(vl,dWsf(G.dim.eval()))[:2]\n",
    "    gsl[l] = gs[-1]\n",
    "    vl = gs[-1]\n",
    "newfig()\n",
    "step = 5\n",
    "for l in range(0,L,step):\n",
    "    (ts,gs,log_likelihood,log_varphi) = Brownian_inv_guidedf(g,gsl[l],dWsf(G.dim.eval()))[:4]\n",
    "    G.plot_path(gs)\n",
    "    G.plotg(gsl[l],color='k')\n",
    "# plt.savefig('GL3-bridges_fiber.pdf')\n",
    "plt.show()\n",
    "\n",
    "# on SPD(3)\n",
    "newfig()\n",
    "M.plot()\n",
    "for l in range(0,L,step):\n",
    "    (ts,gs,log_likelihood,log_varphi) = Brownian_inv_guidedf(g,gsl[l],dWsf(G.dim.eval()))[:4]\n",
    "    M.plot_path(M.actsf(gs,x))\n",
    "    M.plotx(M.actf(gsl[l],x),color='k')\n",
    "#     plt.savefig('SPD3-bridges_fiber.pdf')\n",
    "plt.show()"
   ]
  },
  {
   "cell_type": "code",
   "execution_count": null,
   "metadata": {
    "ExecuteTime": {
     "end_time": "2021-04-07T07:28:10.994204Z",
     "start_time": "2021-04-07T07:28:10.990010Z"
    }
   },
   "outputs": [],
   "source": [
    "options = {}\n",
    "options['samples_per_obs'] = 2\n",
    "options['epochs'] = 30\n",
    "options['learning_rate'] = 1\n",
    "options['varphi_update_rate'] = 1.\n",
    "options['verbose'] = True\n",
    "options['initial'] = [g, #obss[0], # random value\n",
    "                      .1*np.eye(G.dim.eval()),]\n",
    "# options['update_v'] = lambda g: theano.gradient.disconnected_grad(Brownian_inv_fiber(g,dWs(G.dim))[1][-1])\n",
    "# options['update_vf'] = lambda g: Brownian_inv_fiberf(g,dWsf(G.dim.eval()))[1][-1]"
   ]
  },
  {
   "cell_type": "code",
   "execution_count": null,
   "metadata": {
    "ExecuteTime": {
     "end_time": "2021-04-07T07:33:33.911626Z",
     "start_time": "2021-04-07T07:28:10.996136Z"
    },
    "scrolled": false
   },
   "outputs": [],
   "source": [
    "# Transition density\n",
    "v0 = G.sym_element()\n",
    "p_Tf = theano.function([g0,v0],p_T(g0,v0,dWs(G.dim),Brownian_inv_guided,phi,options,sde=G.sde_Brownian_inv))\n",
    "log_p_Tf = theano.function([g0,v0],log_p_T(g0,v0,dWs(G.dim),Brownian_inv_guided,phi,options,sde=G.sde_Brownian_inv))\n",
    "dlog_p_Tf = theano.function([g0,v0],dlog_p_T(thetas,g0,v0,dWs(G.dim),Brownian_inv_guided,phi,options,sde=G.sde_Brownian_inv))\n",
    "\n",
    "print(p_Tf(g,G.psif(v))) \n",
    "print(log_p_Tf(g,G.psif(v))) \n",
    "print(dlog_p_Tf(g,G.psif(v)))"
   ]
  },
  {
   "cell_type": "code",
   "execution_count": null,
   "metadata": {
    "ExecuteTime": {
     "end_time": "2021-04-07T07:33:38.985325Z",
     "start_time": "2021-04-07T07:33:33.914117Z"
    }
   },
   "outputs": [],
   "source": [
    "%%time\n",
    "print(p_Tf(g,G.psif(v))) "
   ]
  },
  {
   "cell_type": "code",
   "execution_count": null,
   "metadata": {
    "ExecuteTime": {
     "end_time": "2021-04-07T07:33:50.911665Z",
     "start_time": "2021-04-07T07:33:38.987165Z"
    },
    "scrolled": false
   },
   "outputs": [],
   "source": [
    "%%time\n",
    "print(dlog_p_Tf(g,G.psif(v)))"
   ]
  },
  {
   "cell_type": "code",
   "execution_count": null,
   "metadata": {
    "ExecuteTime": {
     "end_time": "2021-04-07T07:33:55.901862Z",
     "start_time": "2021-04-07T07:33:50.913627Z"
    },
    "scrolled": false
   },
   "outputs": [],
   "source": [
    "%%time\n",
    "L = options['samples_per_obs']\n",
    "gsl = np.zeros((L,)+g.shape)\n",
    "vl = G.psif(v)\n",
    "for l in range(L):\n",
    "#     (ts,gs) = Brownian_inv_fiberf(vl,dWsf(G.dim.eval()))\n",
    "#     (ts,gs) = G.Brownian_invf(vl,dWsf(G.dim.eval()))\n",
    "    (ts,gs,_,_) = Brownian_inv_guidedf(vl,w,dWsf(G.dim.eval()))[:4]\n",
    "    gsl[l] = gs[-1]\n",
    "    vl = gs[-1]"
   ]
  },
  {
   "cell_type": "code",
   "execution_count": null,
   "metadata": {
    "ExecuteTime": {
     "end_time": "2021-04-07T07:33:55.919518Z",
     "start_time": "2021-04-07T07:33:55.903777Z"
    }
   },
   "outputs": [],
   "source": [
    "n_steps.set_value(1)\n",
    "print(n_steps.eval())"
   ]
  },
  {
   "cell_type": "code",
   "execution_count": null,
   "metadata": {
    "ExecuteTime": {
     "end_time": "2021-04-07T07:33:57.212926Z",
     "start_time": "2021-04-07T07:33:55.921383Z"
    },
    "scrolled": false
   },
   "outputs": [],
   "source": [
    "# samples for MLE\n",
    "G.sigma.set_value(.2*np.eye(G.dim.eval())) # set metric, uniform\n",
    "# G.sigma.set_value(np.diag((.2,.2,1.5))) # anisotropic - this value is from SO(3), find a reasonable value for GL(3)\n",
    "\n",
    "thetas_true = [g,G.sigma.eval()]\n",
    "\n",
    "K = 64\n",
    "\n",
    "obss = np.zeros((K,)+g.shape)\n",
    "# srng.seed(422)\n",
    "for i in range(K):\n",
    "    (ts,gs) = G.Brownian_invf(g,dWsf(G.dim.eval()))\n",
    "    obss[i] = gs[-1]\n",
    "\n",
    "# plot samples\n",
    "newfig()\n",
    "for i in range(K):\n",
    "    G.plotg(obss[i])\n",
    "plt.show()\n",
    "\n",
    "# on SPD(3)\n",
    "obss_M = np.zeros((K,M.emb_dim.eval(),))\n",
    "newfig()\n",
    "M.plot()\n",
    "for i in range(K):\n",
    "    obss_M[i] = M.actf(obss[i],x)\n",
    "    M.plotx(obss_M[i],color='k')\n",
    "plt.show()"
   ]
  },
  {
   "cell_type": "code",
   "execution_count": null,
   "metadata": {
    "ExecuteTime": {
     "end_time": "2021-04-07T07:33:59.598354Z",
     "start_time": "2021-04-07T07:33:57.214767Z"
    },
    "scrolled": false
   },
   "outputs": [],
   "source": [
    "# sample bridges\n",
    "def lbridge_sampling(thetas,*args,**kwargs):\n",
    "    g = thetas[0]\n",
    "    G.sigma.set_value(thetas[1])\n",
    "    return partial(bridge_sampling,g,Brownian_inv_guidedf,lambda: dWsf(G.dim.eval()),options)(*args,**kwargs)\n",
    "\n",
    "log_phis = np.zeros((K,))\n",
    "try:\n",
    "    mpu.openPool()\n",
    "    sol = mpu.pool.imap(partial(lbridge_sampling,options['initial']),mpu.inputArgs(obss,np.random.randint(1000,size=K)))\n",
    "    res = list(sol)\n",
    "    bridges = mpu.getRes(res,0)\n",
    "    log_varphis = mpu.getRes(res,1)\n",
    "    log_likelihoods = mpu.getRes(res,2)\n",
    "except:\n",
    "    mpu.closePool()\n",
    "    raise\n",
    "else:\n",
    "    mpu.closePool()\n",
    "\n",
    "# Plot on SPD(3)\n",
    "newfig()\n",
    "M.plot()\n",
    "colormap = plt.get_cmap('winter')\n",
    "colors=[colormap(k) for k in np.linspace(0, 1, K)]\n",
    "for i in range(bridges.shape[0]):\n",
    "    M.plotx(M.actf(obss[i],x),color=colors[i])\n",
    "    for j in range(bridges.shape[1]):\n",
    "        gs = bridges[i,j]\n",
    "        M.plot_path(M.actsf(gs,x),linewidth=.2,color=colors[i])\n",
    "plt.show()"
   ]
  },
  {
   "cell_type": "code",
   "execution_count": null,
   "metadata": {
    "ExecuteTime": {
     "end_time": "2021-04-07T07:34:15.968253Z",
     "start_time": "2021-04-07T07:33:59.600403Z"
    },
    "scrolled": false
   },
   "outputs": [],
   "source": [
    "%%time\n",
    "# on GL(3)\n",
    "from src.statistics.mle import *\n",
    "\n",
    "def llog_p_T(thetas,pars):\n",
    "    (v,seed) = pars\n",
    "    if seed:\n",
    "        srng.seed(seed)\n",
    "    g = thetas[0]\n",
    "    G.sigma.set_value(thetas[1])\n",
    "    return dlog_p_Tf(g,v)\n",
    "\n",
    "def update_thetas(thetas, dthetas):\n",
    "    g = thetas[0]\n",
    "    sigma = thetas[1]\n",
    "    \n",
    "#     g = G.to_groupf(g+5.e-1*options['learning_rate']*dthetas[0])\n",
    "    sigma += 2.e-3*options['learning_rate']*dthetas[1]\n",
    "    sigma = .5*(sigma+sigma.T) # symmetrize\n",
    "    # prevent negative eigenvalues in sigma\n",
    "    (w,V) = np.linalg.eigh(sigma)\n",
    "    sigma = np.dot(V,np.dot(np.diag(np.maximum(w,1e-3)),V.T))\n",
    "    \n",
    "    return (g,sigma)\n",
    "\n",
    "# run MLE\n",
    "(thetas, log_likelihood, log_likelihoods, thetass) = iterative_mle(obss,llog_p_T,update_thetas,options)"
   ]
  },
  {
   "cell_type": "code",
   "execution_count": null,
   "metadata": {
    "ExecuteTime": {
     "end_time": "2021-04-07T07:34:16.764749Z",
     "start_time": "2021-04-07T07:34:15.971632Z"
    },
    "scrolled": false
   },
   "outputs": [],
   "source": [
    "# plot\n",
    "plt.plot(range(options['epochs']),log_likelihoods)\n",
    "plt.show()\n",
    "plt.plot(range(options['epochs']),thetass[0].reshape((thetass[0].shape[0],-1)))\n",
    "plt.hlines(thetas_true[0].flatten(),plt.xlim()[0],plt.xlim()[1],color='r')\n",
    "plt.show()\n",
    "plt.plot(range(options['epochs']),thetass[1].reshape((thetass[1].shape[0],-1)))\n",
    "plt.hlines(thetas_true[1].flatten(),plt.xlim()[0],plt.xlim()[1],color='r')\n",
    "plt.show()\n",
    "None"
   ]
  },
  {
   "cell_type": "code",
   "execution_count": null,
   "metadata": {
    "ExecuteTime": {
     "end_time": "2021-04-07T07:35:07.245187Z",
     "start_time": "2021-04-07T07:34:16.766512Z"
    },
    "scrolled": false
   },
   "outputs": [],
   "source": [
    "%%time\n",
    "# on SPD(3)\n",
    "from src.statistics.mle import *\n",
    "\n",
    "def llog_p_T(thetas,pars):\n",
    "    (v,seed) = pars\n",
    "    if seed:\n",
    "        srng.seed(seed)\n",
    "    g = thetas[0]\n",
    "    G.sigma.set_value(thetas[1])\n",
    "    return dlog_p_Tf(g,lift_to_fiber(v,x,G,M)[0])\n",
    "\n",
    "def update_thetas(thetas, dthetas):\n",
    "    g = thetas[0]\n",
    "    sigma = thetas[1]\n",
    "    \n",
    "#     g = G.to_groupf(g+5.e-1*options['learning_rate']*dthetas[0])\n",
    "    _sigma = 2.5e-3*options['learning_rate']*dthetas[1]\n",
    "    _sigma = .5*(_sigma+_sigma.T) # symmetrize    \n",
    "    # projecting to the horizontal subspace of T_eG (orthogonal to the fiber)\n",
    "    sigma += np.dot(proj_horz.T,np.dot(_sigma,proj_horz))\n",
    "    \n",
    "    # prevent negative eigenvalues in sigma\n",
    "    (w,V) = scipy.linalg.eigh(sigma)\n",
    "    sigma = np.dot(V,np.dot(np.diag(np.maximum(w,1e-3)),V.T))\n",
    "    \n",
    "    return (g,sigma)\n",
    "\n",
    "# run MLE\n",
    "(thetas, log_likelihood, log_likelihoods, thetass) = iterative_mle(obss_M,llog_p_T,update_thetas,options)\n",
    "\n",
    "# plot\n",
    "plt.plot(range(options['epochs']),log_likelihoods)\n",
    "plt.show()\n",
    "plt.plot(range(options['epochs']),thetass[0].reshape((thetass[0].shape[0],-1)))\n",
    "plt.hlines(thetas_true[0].flatten(),plt.xlim()[0],plt.xlim()[1],color='r')\n",
    "plt.show()\n",
    "plt.plot(range(options['epochs']),thetass[1].reshape((thetass[1].shape[0],-1)))\n",
    "plt.hlines(thetas_true[1].flatten(),plt.xlim()[0],plt.xlim()[1],color='r')\n",
    "plt.show()\n",
    "None"
   ]
  },
  {
   "cell_type": "code",
   "execution_count": null,
   "metadata": {},
   "outputs": [],
   "source": []
  }
 ],
 "metadata": {
  "kernelspec": {
   "display_name": "Python 3",
   "language": "python",
   "name": "python3"
  },
  "language_info": {
   "codemirror_mode": {
    "name": "ipython",
    "version": 3
   },
   "file_extension": ".py",
   "mimetype": "text/x-python",
   "name": "python",
   "nbconvert_exporter": "python",
   "pygments_lexer": "ipython3",
   "version": "3.6.3"
  }
 },
 "nbformat": 4,
 "nbformat_minor": 1
}
