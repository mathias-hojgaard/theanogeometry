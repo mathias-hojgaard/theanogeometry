{
 "cells": [
  {
   "cell_type": "code",
   "execution_count": null,
   "metadata": {
    "ExecuteTime": {
     "end_time": "2021-02-11T13:37:09.417044Z",
     "start_time": "2021-02-11T13:37:09.412654Z"
    }
   },
   "outputs": [],
   "source": [
    "# # This file is part of Theano Geometry\n",
    "#\n",
    "# Copyright (C) 2017, Stefan Sommer (sommer@di.ku.dk)\n",
    "# https://bitbucket.org/stefansommer/theanogemetry\n",
    "#\n",
    "# Theano Geometry is free software: you can redistribute it and/or modify\n",
    "# it under the terms of the GNU General Public License as published by\n",
    "# the Free Software Foundation, either version 3 of the License, or\n",
    "# (at your option) any later version.\n",
    "#\n",
    "# Theano Geometry is distributed in the hope that it will be useful,\n",
    "# but WITHOUT ANY WARRANTY; without even the implied warranty of\n",
    "# MERCHANTABILITY or FITNESS FOR A PARTICULAR PURPOSE.  See the\n",
    "# GNU General Public License for more details.\n",
    "#\n",
    "# You should have received a copy of the GNU General Public License\n",
    "# along with Theano Geometry. If not, see <http://www.gnu.org/licenses/>.\n",
    "#"
   ]
  },
  {
   "cell_type": "markdown",
   "metadata": {},
   "source": [
    "# $\\mathbb{S}^2$ Sphere Geometry"
   ]
  },
  {
   "cell_type": "code",
   "execution_count": null,
   "metadata": {
    "ExecuteTime": {
     "end_time": "2021-02-11T13:37:19.944548Z",
     "start_time": "2021-02-11T13:37:09.419913Z"
    },
    "scrolled": false
   },
   "outputs": [],
   "source": [
    "from src.manifolds.S2 import *\n",
    "M = S2()\n",
    "print(M)\n",
    "from src.plotting import *\n",
    "#%matplotlib notebook"
   ]
  },
  {
   "cell_type": "code",
   "execution_count": null,
   "metadata": {
    "ExecuteTime": {
     "end_time": "2021-02-11T13:37:51.388038Z",
     "start_time": "2021-02-11T13:37:19.947116Z"
    }
   },
   "outputs": [],
   "source": [
    "# Riemannian structure\n",
    "from src.Riemannian import metric\n",
    "metric.initialize(M)\n",
    "\n",
    "# element, tangent vector and covector\n",
    "x = M.coordsf([0.,0.])\n",
    "v = tensor([1.,0.])\n",
    "p = M.flatf(x,v)\n",
    "\n",
    "print(\"x = \", x)\n",
    "print(\"v = \", v)\n",
    "print(\"p = \", p)"
   ]
  },
  {
   "cell_type": "markdown",
   "metadata": {},
   "source": [
    "## Riemannian Geodesics"
   ]
  },
  {
   "cell_type": "code",
   "execution_count": null,
   "metadata": {
    "ExecuteTime": {
     "end_time": "2021-02-11T13:40:07.658886Z",
     "start_time": "2021-02-11T13:37:51.390447Z"
    },
    "scrolled": false
   },
   "outputs": [],
   "source": [
    "# 2nd order geodesic equation\n",
    "from src.Riemannian import geodesic\n",
    "geodesic.initialize(M,do_chart_update=M.do_chart_update)\n",
    "\n",
    "# compute geodesics\n",
    "(xs,charts) = M.Exptf(x,v)\n",
    "\n",
    "# plot\n",
    "newfig()\n",
    "M.plot()\n",
    "M.plot_path(zip(xs,charts),u=v,linewidth = 1.5, s=50)\n",
    "plt.show()"
   ]
  },
  {
   "cell_type": "markdown",
   "metadata": {},
   "source": [
    "### Geodesics from Hamiltonian equations"
   ]
  },
  {
   "cell_type": "code",
   "execution_count": null,
   "metadata": {
    "ExecuteTime": {
     "end_time": "2021-02-11T13:41:03.678138Z",
     "start_time": "2021-02-11T13:40:07.660844Z"
    },
    "scrolled": false
   },
   "outputs": [],
   "source": [
    "# Hamiltonian dynamics\n",
    "q = x\n",
    "print(M.Hf(q,p))\n",
    "\n",
    "from src.dynamics import Hamiltonian\n",
    "Hamiltonian.initialize(M,do_chart_update=M.do_chart_update)\n",
    "\n",
    "# Exponential map from Hamiltonian equations\n",
    "(qs,charts) = M.Exp_Hamiltoniantf(q,p)\n",
    "\n",
    "# plot\n",
    "newfig()\n",
    "M.plot()\n",
    "M.plot_path(zip(qs,charts),u=v,linewidth = 1.5, s=50)\n",
    "plt.show()\n",
    "\n",
    "# dynamics returning both position and momentum\n",
    "(ts,qps,_) = M.Hamiltonian_dynamicsf(q,p)\n",
    "ps = qps[:,1,:]\n",
    "print(\"Energy: \",np.array([M.Hf((q,chart),p) for (q,p,chart) in zip(qs,ps,charts)]))"
   ]
  },
  {
   "cell_type": "markdown",
   "metadata": {},
   "source": [
    "## Curvature"
   ]
  },
  {
   "cell_type": "code",
   "execution_count": null,
   "metadata": {
    "ExecuteTime": {
     "end_time": "2021-02-11T13:41:03.682330Z",
     "start_time": "2021-02-11T13:41:03.680104Z"
    }
   },
   "outputs": [],
   "source": [
    "# from src.Riemannian import curvature\n",
    "# curvature.initialize(M)\n",
    "# # Curvature tensor, Ricci and scalar curvature:\n",
    "# print(\"curvature = \", M.Rf(x))\n",
    "# print(\"Ricci curvature = \", M.Ricci_curvf(x))\n",
    "# print(\"Scalar curvature = \", M.S_curvf(x))\n",
    "\n",
    "# # Orthonormal basis under g:\n",
    "# nu = M.gramSchmidt(x,tensor(np.eye(2))) # or nu = np.linalg.cholesky(M.gsharpf(x))\n",
    "\n",
    "# # Sectional Curvature\n",
    "# print(\"sectional curvature = \",M.sec_curvf(x,nu[:,0],nu[:,1]))"
   ]
  },
  {
   "cell_type": "markdown",
   "metadata": {},
   "source": [
    "## Parallel Transport"
   ]
  },
  {
   "cell_type": "code",
   "execution_count": null,
   "metadata": {
    "ExecuteTime": {
     "end_time": "2021-02-11T13:41:39.379893Z",
     "start_time": "2021-02-11T13:41:03.684008Z"
    },
    "scrolled": false
   },
   "outputs": [],
   "source": [
    "# Parallel transport\n",
    "from src.Riemannian import parallel_transport\n",
    "parallel_transport.initialize(M,do_chart_update=M.do_chart_update)\n",
    "\n",
    "chart = M.chartf()\n",
    "w = tensor(np.array([-1./2,-1./2]))\n",
    "w = w/M.normf(x,w)\n",
    "t = tensor(np.linspace(0,1,n_steps.get_value()))\n",
    "xs = tensor(np.vstack([t**2,-np.sin(t)]).T)\n",
    "dxs = tensor(np.vstack([2*t,-np.cos(t)]).T)\n",
    "\n",
    "# compute  parallel transport\n",
    "ws = M.parallel_transportf(w,xs,np.tile(chart,(n_steps.eval(),1)),dxs)\n",
    "\n",
    "# plot result\n",
    "newfig()\n",
    "M.plot()\n",
    "M.plot_path(zip(xs,itertools.cycle((chart,))),vs=ws)\n",
    "plt.show()\n",
    "\n",
    "# along geodesic\n",
    "# compute geodesic\n",
    "(ts,xsdxs,charts) = M.geodesicf(x,v)\n",
    "xs = xsdxs[:,0,:]\n",
    "dxs = xsdxs[:,1,:]\n",
    "# compute  parallel transport\n",
    "ws = M.parallel_transportf(w,xs,charts,dxs)\n",
    "\n",
    "# plot\n",
    "newfig()\n",
    "M.plot()\n",
    "M.plot()\n",
    "M.plot_path(zip(xs,charts),vs=ws,linewidth = 1.5, s=50)\n",
    "plt.show()"
   ]
  },
  {
   "cell_type": "markdown",
   "metadata": {},
   "source": [
    "## Brownian Motion"
   ]
  },
  {
   "cell_type": "code",
   "execution_count": null,
   "metadata": {
    "ExecuteTime": {
     "end_time": "2021-02-11T13:42:32.754973Z",
     "start_time": "2021-02-11T13:41:39.382627Z"
    },
    "scrolled": false
   },
   "outputs": [],
   "source": [
    "# coordinate form\n",
    "from src.stochastics import Brownian_coords\n",
    "Brownian_coords.initialize(M,do_chart_update=M.do_chart_update)\n",
    "\n",
    "n_steps.set_value(1000)\n",
    "(ts,xs,charts) = M.Brownian_coordsf(x,dWsf(M.dim.eval()))\n",
    "\n",
    "# plot\n",
    "newfig()\n",
    "M.plot()\n",
    "M.plot_path(zip(xs,charts))\n",
    "plt.show()\n",
    "\n",
    "# plot multiple sample paths\n",
    "N = 5\n",
    "xss = tensor(np.zeros((N,n_steps.eval(),M.dim.eval())))\n",
    "chartss = tensor(np.zeros((N,n_steps.eval(),x[1].shape[0])))\n",
    "for i in range(N):\n",
    "    (ts,xs,charts) = M.Brownian_coordsf(x,dWsf(M.dim.eval()))\n",
    "    xss[i] = xs\n",
    "    chartss[i] = charts\n",
    "\n",
    "# plot\n",
    "M.newfig()\n",
    "M.plot()\n",
    "colormap = plt.get_cmap('winter')\n",
    "colors=[colormap(k) for k in np.linspace(0, 1, N)]\n",
    "for i in range(N):\n",
    "    M.plot_path(zip(xss[i],chartss[i]),color=colors[i])\n",
    "M.plotx(x,color='r',s=50)\n",
    "plt.show()"
   ]
  },
  {
   "cell_type": "code",
   "execution_count": null,
   "metadata": {
    "ExecuteTime": {
     "end_time": "2021-02-11T13:58:18.864542Z",
     "start_time": "2021-02-11T13:42:32.757062Z"
    },
    "scrolled": false
   },
   "outputs": [],
   "source": [
    "# development and Brownian Motion from stochastic development\n",
    "from src.framebundle import FM\n",
    "from src.stochastics import stochastic_development\n",
    "from src.stochastics import Brownian_development\n",
    "\n",
    "FM.initialize(M)\n",
    "stochastic_development.initialize(M,do_chart_update=M.do_chart_update)\n",
    "Brownian_development.initialize(M)\n",
    "\n",
    "# develop a curve\n",
    "n_steps.set_value(50)\n",
    "t = tensor(np.linspace(0,1,n_steps.get_value()))\n",
    "dxs = tensor(np.vstack([2*t,-np.cos(t)]).T)\n",
    "nu = np.linalg.cholesky(M.gsharpf(x))\n",
    "u = (np.concatenate((x[0],nu.flatten())),x[1])\n",
    "(ts,xs,charts) = M.developmentf(u,dxs)\n",
    "\n",
    "# plot\n",
    "newfig()\n",
    "M.plot()\n",
    "M.plot_path(zip(xs,charts))\n",
    "plt.show()\n",
    "\n",
    "# simulate Brownian Motion\n",
    "n_steps.set_value(1000)\n",
    "(ts,xs,charts) = M.Brownian_developmentf(x,dWsf(M.dim.eval()))\n",
    "\n",
    "# plot\n",
    "newfig()\n",
    "M.plot()\n",
    "M.plot_path(zip(xs,charts))\n",
    "plt.show()"
   ]
  },
  {
   "cell_type": "code",
   "execution_count": null,
   "metadata": {
    "ExecuteTime": {
     "end_time": "2021-02-11T14:00:30.849274Z",
     "start_time": "2021-02-11T13:58:18.866663Z"
    },
    "scrolled": false
   },
   "outputs": [],
   "source": [
    "# Delyon/Hu guided process\n",
    "from src.stochastics.guided_process import *\n",
    "\n",
    "# guide function\n",
    "Cholesky = T.slinalg.Cholesky()\n",
    "phi = lambda q,v: T.tensordot(Cholesky(M.gsharp(q)).T,M.StdLog(q,v).flatten(),(1,0))\n",
    "\n",
    "# plot guiding field\n",
    "M.newfig()\n",
    "M.plot_field(lambda x: .2*M.StdLogf(x,tensor([0,0,-1])))\n",
    "plt.show()\n",
    "\n",
    "(Brownian_coords_guided,Brownian_coords_guidedf) = get_guided_likelihood(\n",
    "    M,M.sde_Brownian_coords,phi,lambda x: Cholesky(M.gsharp(x)),\n",
    "    use_charts=True,chart_update=M.chart_update_Brownian_coords)    \n",
    "\n",
    "n_steps.set_value(1000)\n",
    "\n",
    "w = M.Ff(M.Expf(x,tensor(np.array([.8,-.5]))))\n",
    "(ts,xs,charts,log_likelihood,log_varphi) = Brownian_coords_guidedf(x,w,dWsf(M.dim.eval()))[:5]\n",
    "print(\"log likelihood: \", log_likelihood[-1], \", log varphi: \", log_varphi[-1])\n",
    "\n",
    "# plot\n",
    "newfig()\n",
    "M.plot()\n",
    "M.plot_path(zip(xs,charts))\n",
    "M.plotx(x,color='r',s=150)\n",
    "M.plotx(w,color='k',s=150)\n",
    "plt.show()\n",
    "\n",
    "# plot multiple bridges\n",
    "N = 5\n",
    "w = M.Ff(M.Expf(x,tensor(np.array([.1,-.8]))))\n",
    "xss = tensor(np.zeros((N,n_steps.eval(),M.dim.eval())))\n",
    "chartss = tensor(np.zeros((N,n_steps.eval(),x[1].shape[0])))\n",
    "for i in range(N):\n",
    "    (ts,xs,charts,log_likelihood,log_varphi) = Brownian_coords_guidedf(x,w,dWsf(M.dim.eval()))[:5]\n",
    "    xss[i] = xs\n",
    "    chartss[i] = charts\n",
    "\n",
    "# plot\n",
    "M.newfig()\n",
    "M.plot()\n",
    "colormap = plt.get_cmap('winter')\n",
    "colors=[colormap(k) for k in np.linspace(0, 1, N)]\n",
    "for i in range(N):\n",
    "    M.plot_path(zip(xss[i],chartss[i]),color=colors[i])\n",
    "M.plotx(x,color='r',s=100)\n",
    "M.plotx(w,color='k',s=100)\n",
    "plt.savefig('S2_bridges.pdf')\n",
    "plt.show()"
   ]
  },
  {
   "cell_type": "code",
   "execution_count": null,
   "metadata": {},
   "outputs": [],
   "source": []
  }
 ],
 "metadata": {
  "kernelspec": {
   "display_name": "Python 3",
   "language": "python",
   "name": "python3"
  },
  "language_info": {
   "codemirror_mode": {
    "name": "ipython",
    "version": 3
   },
   "file_extension": ".py",
   "mimetype": "text/x-python",
   "name": "python",
   "nbconvert_exporter": "python",
   "pygments_lexer": "ipython3",
   "version": "3.6.3"
  }
 },
 "nbformat": 4,
 "nbformat_minor": 1
}
